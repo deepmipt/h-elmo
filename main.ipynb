{
 "cells": [
  {
   "cell_type": "code",
   "execution_count": 9,
   "metadata": {
    "scrolled": false
   },
   "outputs": [],
   "source": [
    "def get_relevant_activations(data, markup_for_tag):\n",
    "    result = []\n",
    "    for i, tag in enumerate(markup_for_tag):\n",
    "        if tag != 0:\n",
    "            result.append(data[i])\n",
    "    return np.stack(result)\n",
    "\n",
    "\n",
    "def get_matches(activations, markup):\n",
    "    markup = np.array(markup)\n",
    "    markup_devs = markup - np.mean(markup)\n",
    "    activation_devs = activations - np.mean(activations, 0, keepdims=True)\n",
    "    activation_stddevs = np.std(activations, 0, ddof=1, keepdims=True)\n",
    "    markup_stddev = np.std(markup, ddof=1)\n",
    "    activation_dev_fractions = activation_devs / (activation_stddevs + 1e-20)\n",
    "    markup_dev_fractions = markup_devs / (markup_stddev + 1e-20)\n",
    "    return activation_dev_fractions * np.reshape(markup_dev_fractions, [-1, 1])\n",
    "\n",
    "\n",
    "def compute_stats(data, markup_for_tag):\n",
    "    markup_for_tag = np.array(markup_for_tag)\n",
    "    stats = {}\n",
    "    stats['markup'] = markup_for_tag\n",
    "    stats['relevant_markup'] = list(filter(lambda x: x != 0, markup_for_tag))\n",
    "    stats['relevant_activations'] = get_relevant_activations(data, markup_for_tag)\n",
    "    stats['matches'] = get_matches(stats['relevant_activations'], stats['relevant_markup'])\n",
    "    stats['correlations'] = np.mean(stats['matches'], 0)\n",
    "    assert stats['correlations'].ndim == 1\n",
    "    stats['match_stddevs'] = np.std(stats['matches'], 0)\n",
    "    stats['mean_square_correlation'] = np.sqrt(np.mean(stats['correlations']**2))\n",
    "    stats['meta'] = {\n",
    "        \"positive\": np.count_nonzero(markup_for_tag == 1),\n",
    "        \"negative\": np.count_nonzero(markup_for_tag == -1),\n",
    "        \"total\": len(stats['markup']),\n",
    "    }\n",
    "    return stats"
   ]
  },
  {
   "cell_type": "code",
   "execution_count": 11,
   "metadata": {},
   "outputs": [],
   "source": [
    "import os\n",
    "import pickle\n",
    "import numpy as np\n",
    "\n",
    "os.makedirs('test', exist_ok=True)\n",
    "\n",
    "with open(\"test/test.pickle\", 'wb') as f:\n",
    "    pickle.dump(np.array([[4]*10]*50), f)"
   ]
  },
  {
   "cell_type": "code",
   "execution_count": 12,
   "metadata": {},
   "outputs": [
    {
     "name": "stdout",
     "output_type": "stream",
     "text": [
      "итого 8\r\n",
      "-rw-rw-r-- 1 anton anton 4160 июн  7 11:29 test.pickle\r\n"
     ]
    }
   ],
   "source": [
    "! ls -l test"
   ]
  },
  {
   "cell_type": "code",
   "execution_count": 5,
   "metadata": {},
   "outputs": [
    {
     "name": "stdout",
     "output_type": "stream",
     "text": [
      "[5 0]\n"
     ]
    }
   ],
   "source": [
    "import tensorflow as tf\n",
    "\n",
    "def get_axis_quarters(tensor):\n",
    "    last_dim = tf.shape(tensor, out_type=tf.float32)[-1]\n",
    "    exponents = tf.range(0., last_dim, 1., dtype=tf.float32)\n",
    "    powers = tf.math.pow(2., exponents)\n",
    "    binary_format = tf.cast(tensor > 0, tf.float32)\n",
    "    linear_combination = powers * binary_format\n",
    "    numbers = tf.reduce_sum(linear_combination, axis=-1)\n",
    "    return tf.cast(numbers, tf.int32)\n",
    "\n",
    "tensor = tf.constant(\n",
    "    [[1, -1, 1],\n",
    "     [-1, -1, -1]]\n",
    ")\n",
    "\n",
    "axis_quarters = get_axis_quarters(tensor)\n",
    "\n",
    "with tf.Session() as sess:\n",
    "    print(sess.run(axis_quarters))"
   ]
  },
  {
   "cell_type": "code",
   "execution_count": 17,
   "metadata": {},
   "outputs": [
    {
     "name": "stdout",
     "output_type": "stream",
     "text": [
      "0.579867856049573\n",
      "62\n"
     ]
    }
   ],
   "source": [
    "import pickle\n",
    "import numpy as np\n",
    "\n",
    "\n",
    "tmpl = '/media/anton/DATA/results/h-elmo/expres/resrnn/poscorr/4/9/corr/level1_1/NNS/{}.pickle'\n",
    "file_name = tmpl.format('correlations')\n",
    "with open(file_name, 'rb') as f:\n",
    "    corr = pickle.load(f)\n",
    "    \n",
    "print(max(corr))\n",
    "print(np.argmax(corr))"
   ]
  },
  {
   "cell_type": "code",
   "execution_count": 1,
   "metadata": {},
   "outputs": [
    {
     "name": "stdout",
     "output_type": "stream",
     "text": [
      "Counter({1: 1, 2: 1, 3: 1})\n"
     ]
    }
   ],
   "source": [
    "from collections import Counter\n",
    "import numpy as np\n",
    "\n",
    "a = np.array([1, 2, 3])\n",
    "\n",
    "c = Counter(a)\n",
    "print(c)"
   ]
  },
  {
   "cell_type": "code",
   "execution_count": 3,
   "metadata": {},
   "outputs": [
    {
     "name": "stdout",
     "output_type": "stream",
     "text": [
      "[ 0.08246549  0.02131961  0.08308583 ... -0.55830922  0.02906624\n",
      "  0.02100856]\n",
      "18.750923953380248\n",
      "50567\n",
      "-13.644160917601068\n",
      "52351\n"
     ]
    }
   ],
   "source": [
    "matches = tmpl.format('matches')\n",
    "with open(matches, 'rb') as f:\n",
    "    m = pickle.load(f)\n",
    "\n",
    "m62 = m[:, 62]\n",
    "print(m62)\n",
    "print(max(m62))\n",
    "print(np.argmax(m62))\n",
    "print(min(m62))\n",
    "print(np.argmin(m62))"
   ]
  },
  {
   "cell_type": "code",
   "execution_count": 4,
   "metadata": {},
   "outputs": [
    {
     "name": "stdout",
     "output_type": "stream",
     "text": [
      "2.387342495802599\n"
     ]
    }
   ],
   "source": [
    "print(np.std(m62))"
   ]
  },
  {
   "cell_type": "code",
   "execution_count": 5,
   "metadata": {},
   "outputs": [],
   "source": [
    "import matplotlib.pyplot as plt\n",
    "%matplotlib inline"
   ]
  },
  {
   "cell_type": "code",
   "execution_count": 6,
   "metadata": {},
   "outputs": [
    {
     "data": {
      "image/png": "[encoded data removed]",
      "text/plain": [
       "<Figure size 432x288 with 1 Axes>"
      ]
     },
     "metadata": {
      "needs_background": "light"
     },
     "output_type": "display_data"
    }
   ],
   "source": [
    "threshold = 0\n",
    "f1 = m62[m62 > threshold]\n",
    "f2 = m62[m62 <= -threshold]\n",
    "filtered = np.concatenate([f1, f2])\n",
    "plt.hist(filtered, bins=100, density=True)\n",
    "plt.grid()\n",
    "plt.yscale('log')\n",
    "plt.xlabel('matches')\n",
    "\n",
    "plt.show()"
   ]
  },
  {
   "cell_type": "code",
   "execution_count": 7,
   "metadata": {},
   "outputs": [],
   "source": [
    "act = tmpl.format('relevant_activations')\n",
    "with open(act, 'rb') as f:\n",
    "    act = pickle.load(f)"
   ]
  },
  {
   "cell_type": "code",
   "execution_count": 8,
   "metadata": {
    "scrolled": true
   },
   "outputs": [
    {
     "data": {
      "image/png": "[encoded data removed]",
      "text/plain": [
       "<Figure size 432x288 with 1 Axes>"
      ]
     },
     "metadata": {
      "needs_background": "light"
     },
     "output_type": "display_data"
    }
   ],
   "source": [
    "act62 = act[:, 62]\n",
    "plt.hist(act62, bins=100, density=True)\n",
    "plt.grid()\n",
    "plt.yscale('log')\n",
    "plt.xlabel('activations')\n",
    "\n",
    "plt.show()"
   ]
  },
  {
   "cell_type": "code",
   "execution_count": 15,
   "metadata": {},
   "outputs": [
    {
     "data": {
      "image/png": "[encoded data removed]",
      "text/plain": [
       "<Figure size 432x288 with 1 Axes>"
      ]
     },
     "metadata": {
      "needs_background": "light"
     },
     "output_type": "display_data"
    }
   ],
   "source": [
    "from helmo.util.plot.plot_helpers import density_plot\n",
    "\n",
    "density_plot(m62, 0.001, None, 'blue')\n",
    "plt.yscale('log')\n",
    "plt.xlabel('matches')\n",
    "plt.ylabel('density')\n",
    "plt.grid()\n",
    "plt.savefig(\n",
    "    '/media/anton/DATA/results/h-elmo/expres/resrnn/poscorr/4/9/corr/level1_1/NNS/plots/matches.png',\n",
    "    dpi=900\n",
    ")\n",
    "plt.show()"
   ]
  },
  {
   "cell_type": "code",
   "execution_count": 19,
   "metadata": {},
   "outputs": [
    {
     "data": {
      "image/png": "[encoded data removed]",
      "text/plain": [
       "<Figure size 432x288 with 1 Axes>"
      ]
     },
     "metadata": {
      "needs_background": "light"
     },
     "output_type": "display_data"
    }
   ],
   "source": [
    "from helmo.util.plot.plot_helpers import density_plot\n",
    "\n",
    "density_plot(act62, 0.0001, None, 'blue')\n",
    "plt.yscale('log')\n",
    "plt.xlabel('activations')\n",
    "plt.ylabel('density')\n",
    "plt.grid()\n",
    "plt.savefig(\n",
    "    '/media/anton/DATA/results/h-elmo/expres/resrnn/poscorr/4/9/corr/level1_1/NNS/plots/activations.png',\n",
    "    dpi=900\n",
    ")\n",
    "plt.show()"
   ]
  },
  {
   "cell_type": "code",
   "execution_count": 171,
   "metadata": {},
   "outputs": [],
   "source": [
    "! export PYTHONPATH=\"~/h-elmo:~/learning-to-learn\""
   ]
  },
  {
   "cell_type": "code",
   "execution_count": 173,
   "metadata": {},
   "outputs": [
    {
     "name": "stdout",
     "output_type": "stream",
     "text": [
      "\r\n"
     ]
    }
   ],
   "source": [
    "! echo $PYTHONPATH"
   ]
  },
  {
   "cell_type": "code",
   "execution_count": 25,
   "metadata": {},
   "outputs": [
    {
     "data": {
      "image/png": "[encoded data removed]",
      "text/plain": [
       "<Figure size 432x288 with 1 Axes>"
      ]
     },
     "metadata": {
      "needs_background": "light"
     },
     "output_type": "display_data"
    }
   ],
   "source": [
    "f1 = m[m > 1.]\n",
    "f2 = m[m < -1.]\n",
    "filtered = np.concatenate([f1, f2])\n",
    "plt.hist(filtered, bins=1000, density=True)\n",
    "plt.grid()\n",
    "plt.show()"
   ]
  },
  {
   "cell_type": "code",
   "execution_count": null,
   "metadata": {},
   "outputs": [],
   "source": [
    "tmpl = '/media/anton/DATA/results/h-elmo/expres/resrnn/poscorr/4/9/corr/level0_0/NNS/{}.pickle'\n",
    "matches = tmpl.format('matches')\n",
    "with open(matches, 'rb') as f:\n",
    "    m = pickle.load(f)"
   ]
  },
  {
   "cell_type": "code",
   "execution_count": null,
   "metadata": {},
   "outputs": [],
   "source": []
  },
  {
   "cell_type": "code",
   "execution_count": null,
   "metadata": {},
   "outputs": [],
   "source": [
    "act = tmpl.format('activations')\n",
    "with open(act, 'rb') as f:\n",
    "    a = pickle.load(f)\n",
    "    \n"
   ]
  },
  {
   "cell_type": "code",
   "execution_count": null,
   "metadata": {},
   "outputs": [],
   "source": [
    "stddevs = tmpl.format('match_stddevs')\n",
    "with open(stddevs, 'rb') as f:\n",
    "    std = pickle.load(f)\n",
    "\n",
    "print(std)\n",
    "print(max(std))\n",
    "print(np.argmax(std))"
   ]
  },
  {
   "cell_type": "code",
   "execution_count": 1,
   "metadata": {},
   "outputs": [
    {
     "name": "stdout",
     "output_type": "stream",
     "text": [
      "\n",
      "WARNING: The TensorFlow contrib module will not be included in TensorFlow 2.0.\n",
      "For more information, please see:\n",
      "  * https://github.com/tensorflow/community/blob/master/rfcs/20180907-contrib-sunset.md\n",
      "  * https://github.com/tensorflow/addons\n",
      "If you depend on functionality not listed there, please file an issue.\n",
      "\n",
      "[[[[[1 2]]\n",
      "\n",
      "   [[3 4]]]]\n",
      "\n",
      "\n",
      "\n",
      " [[[[5 6]]\n",
      "\n",
      "   [[7 8]]]]]\n"
     ]
    }
   ],
   "source": [
    "import tensorflow as tf\n",
    "\n",
    "\n",
    "def get_all_values_except_specified(tensor, excluded):\n",
    "    with tf.name_scope('get_all_values_except_specified'):\n",
    "        tensor = tf.reshape(tensor, [-1])\n",
    "        excluded = tf.reshape(excluded, [-1])\n",
    "        excluded_shape = tf.shape(excluded)\n",
    "        tensor_expanded = tf.reshape(tensor, [-1, 1])\n",
    "        multiples = tf.concat([[1], excluded_shape], 0)\n",
    "        tensor_expanded = tf.tile(tensor_expanded, multiples)\n",
    "        masks = tf.cast(tf.equal(tf.cast(tensor_expanded, tf.int32), tf.cast(excluded, tf.int32)), tf.int32)\n",
    "        mask = tf.reduce_sum(masks, [1])\n",
    "        mask = tf.cast(tf.cast(mask, dtype=tf.bool), dtype=tf.int32) - 1\n",
    "        return tf.boolean_mask(tensor, mask)\n",
    "    \n",
    "\n",
    "tensor, num_dims, axes, output = (\n",
    "                    [[[1, 2], [3, 4]], [[5, 6], [7, 8]]],\n",
    "\n",
    "                    5,\n",
    "\n",
    "                    [0, 2, 4],\n",
    "\n",
    "                    [[[[[1, 2]], [[3, 4]]], [[[5, 6]], [[7, 8]]]]],\n",
    "                )\n",
    "\n",
    "if not tf.contrib.framework.is_tensor(tensor):\n",
    "    tensor = tf.constant(tensor)\n",
    "if not tf.contrib.framework.is_tensor(axes):\n",
    "    axes = tf.constant(axes, dtype=tf.int32)\n",
    "sh = tf.shape(tensor, out_type=tf.int32)\n",
    "nd = tf.shape(sh, out_type=tf.int32)[0]\n",
    "assert_axes_smaller_than_num_dims = tf.assert_less(\n",
    "    axes, num_dims, message='`axes` has to be less than `num_dims`')\n",
    "check_num_dims = tf.assert_greater_equal(\n",
    "    num_dims, nd,\n",
    "    message='`num_dims` has to be greater or equal to number of dimensions in `tensor`'\n",
    ")\n",
    "ass_axes_bigger_or_equal_than_num_dims = tf.assert_greater_equal(axes, -num_dims)\n",
    "\n",
    "negative_axes_mask = tf.cast(axes < 0, tf.int32)\n",
    "axes += negative_axes_mask * num_dims\n",
    "\n",
    "ones_for_expansion = tf.ones(tf.reshape(num_dims - nd, [1]), dtype=tf.int32)\n",
    "shape_for_expansion = tf.concat([sh, ones_for_expansion], 0)\n",
    "\n",
    "tensor = tf.reshape(tensor, shape_for_expansion)\n",
    "\n",
    "# remained_axes = get_all_values_except_specified(tf.range(num_dims, dtype=tf.int32), axes)\n",
    "# perm = tf.concat([axes, remained_axes], 0)\n",
    "updates = tf.range(0, num_dims, 1, dtype=tf.int32)\n",
    "remained_positions = get_all_values_except_specified(tf.range(num_dims, dtype=tf.int32), axes)\n",
    "indices = tf.concat([axes, remained_positions], 0)\n",
    "indices = tf.reshape(indices, [-1, 1])\n",
    "perm_shape = tf.reshape(num_dims, [1])\n",
    "perm = tf.scatter_nd(indices, updates, perm_shape)\n",
    "\n",
    "with tf.control_dependencies([check_num_dims, assert_axes_smaller_than_num_dims, ass_axes_bigger_or_equal_than_num_dims]):\n",
    "    tensor = tf.transpose(tensor, perm=perm)\n",
    "    \n",
    "\n",
    "with tf.Session() as sess:\n",
    "    print(sess.run(tensor))"
   ]
  },
  {
   "cell_type": "code",
   "execution_count": 1,
   "metadata": {
    "scrolled": false
   },
   "outputs": [
    {
     "name": "stdout",
     "output_type": "stream",
     "text": [
      "[[-1 -1 -1 -1]\n",
      " [ 1  1  1  1]\n",
      " [ 0  0  0  0]\n",
      " [-1 -1 -1 -1]\n",
      " [ 1  1  1  1]\n",
      " [-1 -1 -1 -1]\n",
      " [ 1  1  1  1]\n",
      " [-1 -1 -1 -1]\n",
      " [ 0  0  0  0]\n",
      " [ 0  0  0  0]\n",
      " [-1 -1 -1 -1]\n",
      " [-1 -1 -1 -1]\n",
      " [-1 -1 -1 -1]\n",
      " [-1 -1 -1 -1]\n",
      " [ 0  0  0  0]\n",
      " [ 1  1  1  1]\n",
      " [ 0  0  0  0]\n",
      " [ 1  1  1  1]\n",
      " [ 0  0  0  0]\n",
      " [ 1  1  1  1]]\n",
      "{'markup': array([-1,  1,  0, -1,  1, -1,  1, -1,  0,  0, -1, -1, -1, -1,  0,  1,  0,\n",
      "        1,  0,  1]), 'relevant_markup': [-1, 1, -1, 1, -1, 1, -1, -1, -1, -1, -1, 1, 1, 1], 'relevant_activations': array([[-1, -1, -1, -1],\n",
      "       [ 1,  1,  1,  1],\n",
      "       [-1, -1, -1, -1],\n",
      "       [ 1,  1,  1,  1],\n",
      "       [-1, -1, -1, -1],\n",
      "       [ 1,  1,  1,  1],\n",
      "       [-1, -1, -1, -1],\n",
      "       [-1, -1, -1, -1],\n",
      "       [-1, -1, -1, -1],\n",
      "       [-1, -1, -1, -1],\n",
      "       [-1, -1, -1, -1],\n",
      "       [ 1,  1,  1,  1],\n",
      "       [ 1,  1,  1,  1],\n",
      "       [ 1,  1,  1,  1]]), 'matches': array([[0.75      , 0.75      , 0.75      , 0.75      ],\n",
      "       [1.33333333, 1.33333333, 1.33333333, 1.33333333],\n",
      "       [0.75      , 0.75      , 0.75      , 0.75      ],\n",
      "       [1.33333333, 1.33333333, 1.33333333, 1.33333333],\n",
      "       [0.75      , 0.75      , 0.75      , 0.75      ],\n",
      "       [1.33333333, 1.33333333, 1.33333333, 1.33333333],\n",
      "       [0.75      , 0.75      , 0.75      , 0.75      ],\n",
      "       [0.75      , 0.75      , 0.75      , 0.75      ],\n",
      "       [0.75      , 0.75      , 0.75      , 0.75      ],\n",
      "       [0.75      , 0.75      , 0.75      , 0.75      ],\n",
      "       [0.75      , 0.75      , 0.75      , 0.75      ],\n",
      "       [1.33333333, 1.33333333, 1.33333333, 1.33333333],\n",
      "       [1.33333333, 1.33333333, 1.33333333, 1.33333333],\n",
      "       [1.33333333, 1.33333333, 1.33333333, 1.33333333]]), 'correlations': array([1., 1., 1., 1.]), 'match_stddevs': array([0., 0., 0., 0., 0., 0., 0., 0., 0., 0., 0., 0., 0., 0.]), 'mean_square_correlation': 1.0000000000000002, 'meta': {'positive': 6, 'negative': 8, 'total': 20}}\n"
     ]
    }
   ],
   "source": [
    "import numpy as np\n",
    "\n",
    "from helmo.util.scripts.text_neuron_correlation import compute_stats\n",
    "\n",
    "num_unrollings = 20\n",
    "num_units = 4\n",
    "\n",
    "# a = np.random.rand(num_units, num_unrollings)\n",
    "\n",
    "m = np.random.choice([-1, 1, 0], num_unrollings)\n",
    "a = np.stack([m]*num_units, 1)\n",
    "print(a)\n",
    "\n",
    "stats = compute_stats(a, m)\n",
    "print(stats)"
   ]
  },
  {
   "cell_type": "code",
   "execution_count": 161,
   "metadata": {},
   "outputs": [
    {
     "name": "stdout",
     "output_type": "stream",
     "text": [
      "0.0 None\n",
      "0.01 -2\n",
      "0.02 -2\n",
      "0.03 -2\n",
      "0.04 -2\n",
      "0.05 -2\n",
      "0.06 -2\n",
      "0.07 -2\n",
      "0.08 -2\n",
      "0.09 -1\n",
      "0.1 -1\n",
      "0.11 -1\n",
      "0.12 -1\n",
      "0.13 -2\n",
      "0.14 -2\n",
      "0.15 -2\n",
      "0.16 -2\n",
      "0.17 -1\n",
      "0.18 -1\n",
      "0.19 -1\n",
      "0.2 -1\n",
      "0.21 -1\n",
      "0.22 -1\n",
      "0.23 -1\n",
      "0.24 -1\n",
      "0.25 -1\n",
      "0.26 -1\n",
      "0.27 -1\n",
      "0.28 -1\n",
      "0.29 -1\n",
      "0.3 -1\n",
      "0.31 -1\n",
      "0.32 -1\n",
      "0.33 -1\n",
      "0.34 -1\n",
      "0.35000000000000003 -1\n",
      "0.36 -1\n",
      "0.37 -1\n",
      "0.38 -1\n",
      "0.39 -1\n",
      "0.4 -1\n",
      "0.41000000000000003 -1\n",
      "0.42 -1\n",
      "0.43 -1\n",
      "0.44 -1\n",
      "0.45 -1\n",
      "0.46 -1\n",
      "0.47000000000000003 -1\n",
      "0.48 -1\n",
      "0.49 -1\n",
      "0.5 -1\n",
      "0.51 -1\n",
      "0.52 -1\n",
      "0.53 -1\n",
      "0.54 -1\n",
      "0.55 -1\n",
      "0.56 -1\n",
      "0.5700000000000001 -1\n",
      "0.58 -1\n",
      "0.59 -1\n",
      "0.6 -1\n",
      "0.61 -1\n",
      "0.62 -1\n",
      "0.63 -1\n",
      "0.64 -1\n",
      "0.65 -1\n",
      "0.66 -1\n",
      "0.67 -1\n",
      "0.68 -1\n",
      "0.6900000000000001 -1\n",
      "0.7000000000000001 -1\n",
      "0.71 -1\n",
      "0.72 -1\n",
      "0.73 -1\n",
      "0.74 -1\n",
      "0.75 -1\n",
      "0.76 -1\n",
      "0.77 -1\n",
      "0.78 -1\n",
      "0.79 -1\n",
      "0.8 -1\n",
      "0.81 -1\n",
      "0.8200000000000001 -1\n",
      "0.8300000000000001 -1\n",
      "0.84 0\n",
      "0.85 0\n",
      "0.86 0\n",
      "0.87 0\n",
      "0.88 0\n",
      "0.89 0\n",
      "0.9 0\n",
      "0.91 0\n",
      "0.92 0\n",
      "0.93 0\n",
      "0.9400000000000001 0\n",
      "0.9500000000000001 0\n",
      "0.96 0\n",
      "0.97 0\n",
      "0.98 0\n",
      "0.99 0\n",
      "1.0 0\n"
     ]
    }
   ],
   "source": [
    "import numpy as np\n",
    "\n",
    "\n",
    "def get_int_part(n):\n",
    "    return str(int(n // 1))\n",
    "\n",
    "\n",
    "def get_frac_part(n):\n",
    "    removed = int(get_int_part(n))\n",
    "    frac_part = ''\n",
    "    while n % 1:\n",
    "        n *= 10\n",
    "        removed *= 10\n",
    "        frac_part += str(int(n // 1) - removed)\n",
    "        removed = int(n // 1)\n",
    "    return frac_part\n",
    "\n",
    "\n",
    "def get_kth_digit(number, k, default='0'):\n",
    "    \"\"\"Returns k-th digit. For example, in number 123.45 1 \n",
    "    is 2nd digit, 3 is zeroth and 5 is -2nd. \n",
    "    If the number does not have such a digit default is returned.\n",
    "    Args:\n",
    "        number: float or str convertable to float\n",
    "        k: integer\n",
    "    Returns:\n",
    "        str\"\"\"\n",
    "    if isinstance(number, str):\n",
    "        number = float(number)\n",
    "    int_part = get_int_part(number)\n",
    "    frac_part = get_frac_part(number)\n",
    "    number = int_part + frac_part\n",
    "    k = len(int_part) - k - 1\n",
    "    if 0 <= k < len(number):\n",
    "        return number[k]\n",
    "    else:\n",
    "        return default\n",
    "    \n",
    "    \n",
    "def get_first_nonzero_digit_pos(n):\n",
    "    if n == 0:\n",
    "        return None\n",
    "    int_part = get_int_part(n)\n",
    "    frac_part = get_frac_part(n)\n",
    "    if int(int_part):\n",
    "        return len(int_part) - 1\n",
    "    i = 0\n",
    "    while i < len(frac_part) and not int(frac_part[i]):\n",
    "        i += 1\n",
    "    assert frac_part[i] != '0'\n",
    "    return -i - 1\n",
    "\n",
    "\n",
    "def get_acc_num_digits(std, acc):\n",
    "    if std == 0:\n",
    "        return None\n",
    "    \n",
    "    std_err = std * acc\n",
    "    \n",
    "    nz_err = get_first_nonzero_digit_pos(std_err)\n",
    "    \n",
    "    digit_1_pos_higher = get_kth_digit(std, nz_err+1)\n",
    "    \n",
    "    higher_digit_change = get_kth_digit(std + std_err, nz_err+1) != digit_1_pos_higher or \\\n",
    "        get_kth_digit(std - std_err, nz_err+1) != digit_1_pos_higher\n",
    "\n",
    "    if higher_digit_change:\n",
    "        nz_err += 1\n",
    "    return nz_err\n",
    "\n",
    "for std in np.linspace(0, 1, 101):\n",
    "    last_digit = get_acc_num_digits(std, 0.2)\n",
    "    print(std, last_digit)"
   ]
  },
  {
   "cell_type": "code",
   "execution_count": 138,
   "metadata": {},
   "outputs": [
    {
     "data": {
      "text/plain": [
       "'7'"
      ]
     },
     "execution_count": 138,
     "metadata": {},
     "output_type": "execute_result"
    }
   ],
   "source": [
    "get_kth_digit(123.45678, -4)"
   ]
  },
  {
   "cell_type": "code",
   "execution_count": 132,
   "metadata": {},
   "outputs": [
    {
     "data": {
      "text/plain": [
       "1"
      ]
     },
     "execution_count": 132,
     "metadata": {},
     "output_type": "execute_result"
    }
   ],
   "source": [
    "def get_first_nonzero_digit_pos_for_std(std, acc):\n",
    "    if std == 0:\n",
    "        return None\n",
    "    std_fraction = std * acc\n",
    "    int_part = get_int_part(std_fraction)\n",
    "    frac_part = get_frac_part(std_fraction)\n",
    "    if int(int_part):\n",
    "        return len(int_part) - 1\n",
    "    i = 0\n",
    "    while i < len(frac_part) and not int(frac_part[i]):\n",
    "        i += 1\n",
    "    assert frac_part[i] != '0'\n",
    "    return -i - 1\n",
    "\n",
    "\n",
    "get_first_nonzero_digit_pos_for_std(0.0123456, 1000)"
   ]
  },
  {
   "cell_type": "code",
   "execution_count": 90,
   "metadata": {
    "scrolled": false
   },
   "outputs": [
    {
     "data": {
      "text/plain": [
       "sys.float_info(max=1.7976931348623157e+308, max_exp=1024, max_10_exp=308, min=2.2250738585072014e-308, min_exp=-1021, min_10_exp=-307, dig=15, mant_dig=53, epsilon=2.220446049250313e-16, radix=2, rounds=1)"
      ]
     },
     "execution_count": 90,
     "metadata": {},
     "output_type": "execute_result"
    }
   ],
   "source": [
    "import sys\n",
    "sys.float_info\n"
   ]
  },
  {
   "cell_type": "code",
   "execution_count": 100,
   "metadata": {},
   "outputs": [
    {
     "name": "stdout",
     "output_type": "stream",
     "text": [
      "12.3\n"
     ]
    },
    {
     "data": {
      "text/plain": [
       "False"
      ]
     },
     "execution_count": 100,
     "metadata": {},
     "output_type": "execute_result"
    }
   ],
   "source": [
    "m = 1.23\n",
    "print(m *10)\n",
    "isinstance(m // 1, int)"
   ]
  },
  {
   "cell_type": "code",
   "execution_count": 116,
   "metadata": {},
   "outputs": [
    {
     "data": {
      "text/plain": [
       "324"
      ]
     },
     "execution_count": 116,
     "metadata": {},
     "output_type": "execute_result"
    }
   ],
   "source": [
    "def get_int_part(n):\n",
    "    return str(int(n // 1))\n",
    "\n",
    "\n",
    "def get_frac_part(n):\n",
    "    removed = int(get_int_part(n))\n",
    "    frac_part = ''\n",
    "    while n % 1:\n",
    "        n *= 10\n",
    "        removed *= 10\n",
    "        frac_part += str(int(n // 1) - removed)\n",
    "        removed = int(n // 1)\n",
    "    return frac_part\n",
    "\n",
    "len(get_frac_part(2.2250738585072014e-308))"
   ]
  },
  {
   "cell_type": "code",
   "execution_count": 3,
   "metadata": {},
   "outputs": [
    {
     "name": "stdout",
     "output_type": "stream",
     "text": [
      "in wrapper\n"
     ]
    },
    {
     "ename": "NameError",
     "evalue": "name 'queue' is not defined",
     "output_type": "error",
     "traceback": [
      "\u001b[0;31m---------------------------------------------------------------------------\u001b[0m",
      "\u001b[0;31mNameError\u001b[0m                                 Traceback (most recent call last)",
      "\u001b[0;32m<ipython-input-3-3ec128235ec1>\u001b[0m in \u001b[0;36m<module>\u001b[0;34m()\u001b[0m\n\u001b[1;32m     19\u001b[0m     \u001b[0;32mreturn\u001b[0m \u001b[0;36m1\u001b[0m\u001b[0;34m\u001b[0m\u001b[0m\n\u001b[1;32m     20\u001b[0m \u001b[0;34m\u001b[0m\u001b[0m\n\u001b[0;32m---> 21\u001b[0;31m \u001b[0mwrapper\u001b[0m\u001b[0;34m(\u001b[0m\u001b[0;34m)\u001b[0m\u001b[0;34m\u001b[0m\u001b[0m\n\u001b[0m",
      "\u001b[0;32m<ipython-input-3-3ec128235ec1>\u001b[0m in \u001b[0;36mwrapper\u001b[0;34m(*args, **kwargs)\u001b[0m\n\u001b[1;32m      7\u001b[0m \u001b[0;32mdef\u001b[0m \u001b[0mwrapper\u001b[0m\u001b[0;34m(\u001b[0m\u001b[0;34m*\u001b[0m\u001b[0margs\u001b[0m\u001b[0;34m,\u001b[0m \u001b[0;34m**\u001b[0m\u001b[0mkwargs\u001b[0m\u001b[0;34m)\u001b[0m\u001b[0;34m:\u001b[0m\u001b[0;34m\u001b[0m\u001b[0m\n\u001b[1;32m      8\u001b[0m     \u001b[0mprint\u001b[0m\u001b[0;34m(\u001b[0m\u001b[0;34m\"in wrapper\"\u001b[0m\u001b[0;34m)\u001b[0m\u001b[0;34m\u001b[0m\u001b[0m\n\u001b[0;32m----> 9\u001b[0;31m     \u001b[0mq\u001b[0m \u001b[0;34m=\u001b[0m \u001b[0mqueue\u001b[0m\u001b[0;34m.\u001b[0m\u001b[0mQueue\u001b[0m\u001b[0;34m(\u001b[0m\u001b[0;34m)\u001b[0m\u001b[0;34m\u001b[0m\u001b[0m\n\u001b[0m\u001b[1;32m     10\u001b[0m     \u001b[0mp\u001b[0m \u001b[0;34m=\u001b[0m \u001b[0mmultiprocessing\u001b[0m\u001b[0;34m.\u001b[0m\u001b[0mProcess\u001b[0m\u001b[0;34m(\u001b[0m\u001b[0mtarget\u001b[0m\u001b[0;34m=\u001b[0m\u001b[0mtarget_function\u001b[0m\u001b[0;34m,\u001b[0m \u001b[0margs\u001b[0m\u001b[0;34m=\u001b[0m\u001b[0mtuple\u001b[0m\u001b[0;34m(\u001b[0m\u001b[0;34m[\u001b[0m\u001b[0mq\u001b[0m\u001b[0;34m]\u001b[0m\u001b[0;34m+\u001b[0m\u001b[0mlist\u001b[0m\u001b[0;34m(\u001b[0m\u001b[0margs\u001b[0m\u001b[0;34m)\u001b[0m\u001b[0;34m)\u001b[0m\u001b[0;34m,\u001b[0m \u001b[0mkwargs\u001b[0m\u001b[0;34m=\u001b[0m\u001b[0mkwargs\u001b[0m\u001b[0;34m)\u001b[0m\u001b[0;34m\u001b[0m\u001b[0m\n\u001b[1;32m     11\u001b[0m     \u001b[0mp\u001b[0m\u001b[0;34m.\u001b[0m\u001b[0mstart\u001b[0m\u001b[0;34m(\u001b[0m\u001b[0;34m)\u001b[0m\u001b[0;34m\u001b[0m\u001b[0m\n",
      "\u001b[0;31mNameError\u001b[0m: name 'queue' is not defined"
     ]
    }
   ],
   "source": [
    "import queue\n",
    "import Multiprocessing\n",
    "\n",
    "def target_function(q, *args, **kwargs):\n",
    "    print(\"in target function\")\n",
    "    res = func(*args, **kwargs)\n",
    "    q.put(res)\n",
    "    print(\"res is put in queue\")\n",
    "\n",
    "def wrapper(*args, **kwargs):\n",
    "    print(\"in wrapper\")\n",
    "    q = queue.Queue()\n",
    "    p = multiprocessing.Process(target=target_function, args=tuple([q]+list(args)), kwargs=kwargs)\n",
    "    p.start()\n",
    "    res = q.get()\n",
    "    print(\"got result\")\n",
    "    p.join()\n",
    "    print(\"joined\")\n",
    "    return res\n",
    "\n",
    "def func():\n",
    "    return 1\n",
    "\n",
    "wrapper()"
   ]
  },
  {
   "cell_type": "code",
   "execution_count": 13,
   "metadata": {},
   "outputs": [
    {
     "name": "stdout",
     "output_type": "stream",
     "text": [
      "(<class 'tensorflow.python.framework.ops._TensorLike'>,)\n",
      "(<class 'tensorflow.python.framework.ops._TensorLike'>,)\n",
      "(<class 'tensorflow.python.training.checkpointable.base.CheckpointableBase'>,)\n"
     ]
    }
   ],
   "source": [
    "import tensorflow as tf\n",
    "\n",
    "print(tf.placeholder(tf.float32).__class__.__bases__)\n",
    "print(tf.zeros([1]).__class__.__bases__)\n",
    "print(tf.Variable(0).__class__.__bases__[0].__bases__[0].__bases__)"
   ]
  },
  {
   "cell_type": "code",
   "execution_count": 1,
   "metadata": {
    "collapsed": true
   },
   "outputs": [],
   "source": [
    "def partition(A, lo, hi):\n",
    "    #print(lo, hi, A)\n",
    "    if A[lo] > A[hi]:\n",
    "        A[lo], A[hi] = A[hi], A[lo]\n",
    "    pivot_1 = A[lo]\n",
    "    pivot_2 = A[hi]\n",
    "    i_1 = lo + 1\n",
    "    i_2 = hi - 1\n",
    "    for j in range(lo + 1, hi):\n",
    "        # print(j, i_1, i_2, A)\n",
    "        if A[j] < pivot_1:\n",
    "            A[i_1], A[j] = A[j], A[i_1]\n",
    "            i_1 += 1\n",
    "        elif A[j] > pivot_2:\n",
    "            while (A[i_2] > pivot_2) and (i_2 > j):\n",
    "                i_2 -= 1\n",
    "            A[i_2], A[j] = A[j], A[i_2]\n",
    "            i_2 -= 1\n",
    "            \n",
    "            if A[j] < pivot_1:\n",
    "                A[i_1], A[j] = A[j], A[i_1]\n",
    "                i_1 += 1\n",
    "\n",
    "        if j >= i_2:\n",
    "            break\n",
    "    i_1 -= 1\n",
    "    i_2 += 1\n",
    "    A[i_1], A[lo] = A[lo], A[i_1]\n",
    "    A[i_2], A[hi] = A[hi], A[i_2]\n",
    "    #print(i_1, i_2, A)\n",
    "    return i_1, i_2\n",
    "\n",
    "def DualPivotQuickSort(A, lo, hi):\n",
    "    if lo < hi:\n",
    "        p_1, p_2 = partition(A, lo, hi)\n",
    "        DualPivotQuickSort(A, lo, p_1 - 1)\n",
    "        DualPivotQuickSort(A, p_1 + 1, p_2 - 1)\n",
    "        DualPivotQuickSort(A, p_2 + 1, hi)\n"
   ]
  },
  {
   "cell_type": "code",
   "execution_count": 5,
   "metadata": {
    "collapsed": true
   },
   "outputs": [],
   "source": [
    "import random\n",
    "\n",
    "\n",
    "\n",
    "for _ in range(100000):\n",
    "    A = [random.randint(0, 20) for _ in range(20)]\n",
    "    a = A.copy()\n",
    "    DualPivotQuickSort(a, 0, len(A) - 1)\n",
    "    assert sorted(A) == a\n"
   ]
  },
  {
   "cell_type": "code",
   "execution_count": 6,
   "metadata": {
    "collapsed": true
   },
   "outputs": [],
   "source": [
    "\n",
    "def union(A, B):\n",
    "    C = []\n",
    "    i_1, i_2 = 0, 0\n",
    "    for _ in range(len(A) + len(B)):\n",
    "        \n",
    "        if i_1 >= len(A):\n",
    "            C += B[i_2:]\n",
    "            break\n",
    "        \n",
    "        if i_2 >= len(B):\n",
    "            C += A[i_1:]\n",
    "            break\n",
    "            \n",
    "        if A[i_1] < B[i_2]:\n",
    "            C.append(A[i_1])\n",
    "            i_1 += 1\n",
    "        elif A[i_1] > B[i_2]:\n",
    "            C.append(B[i_2])\n",
    "            i_2 += 1\n",
    "        else:\n",
    "            C.append(A[i_1])\n",
    "            i_1 += 1\n",
    "            i_2 += 1\n",
    "            \n",
    "    return C"
   ]
  },
  {
   "cell_type": "code",
   "execution_count": 75,
   "metadata": {},
   "outputs": [
    {
     "data": {
      "text/plain": [
       "'1.123457'"
      ]
     },
     "execution_count": 75,
     "metadata": {},
     "output_type": "execute_result"
    }
   ],
   "source": [
    "\"{:f}\".format(1.1234567890123456789)"
   ]
  },
  {
   "cell_type": "code",
   "execution_count": 12,
   "metadata": {},
   "outputs": [
    {
     "name": "stdout",
     "output_type": "stream",
     "text": [
      "[83, 51, 94, 75, 23, 32, 25, 44, 89, 90]\n"
     ]
    }
   ],
   "source": [
    "def partition(A,lo,hi): \n",
    "    \n",
    "   \n",
    "    if lo < hi:\n",
    "        if A[lo] > A[hi]:\n",
    "            A[lo],A[hi] = A[hi], A[lo]\n",
    "        lp = lo + 1\n",
    "        rp = hi - 1 \n",
    "        piv1 = A[lo]\n",
    "        piv2 = A[hi]  \n",
    "            \n",
    "        for j in range(lo + 1, hi):\n",
    "        # print(j, i_1, i_2, A)\n",
    "            if A[j] < piv1:\n",
    "                A[lp], A[j] = A[j], A[lp]\n",
    "                lp += 1\n",
    "            elif A[j] > piv2:\n",
    "                while (A[rp] > piv2) and (rp > j):\n",
    "                    rp -= 1\n",
    "                A[rp], A[j] = A[j], A[rp]\n",
    "                rp -= 1\n",
    "\n",
    "            if A[j] < piv1:\n",
    "                    A[lp], A[j] = A[j], A[lp]\n",
    "                    lp += 1\n",
    "\n",
    "            if j >= rp:\n",
    "                break\n",
    "        lp -= 1\n",
    "        rp += 1\n",
    "        A[lp], A[lo] = A[lo], A[lp]\n",
    "        A[rp], A[hi] = A[hi], A[rp]\n",
    "        #print(i_1, i_2, A)\n",
    "        return lp, rp\n",
    "\n",
    "            \n",
    "def DualPivotQuickSort(A, lo, hi):\n",
    "   # def partition(arr, low, high, lp):\n",
    "        \n",
    "    if lo < hi: \n",
    "        #// lp means left pivot, and rp means right pivot. \n",
    "        #lp, rp  \n",
    "        p1,p2 = partition(A, lo, hi)\n",
    "        DualPivotQuickSort(A, lo, p1 - 1)\n",
    "        DualPivotQuickSort(A, p1 + 1, p2 - 1)\n",
    "        DualPivotQuickSort(A, p2 + 1, hi)\n",
    "   # return a\n",
    "\n",
    "num_tests = 1000\n",
    "for _ in range(num_tests):\n",
    "    try:\n",
    "        a = [random.randint(0, 100) for _ in range(10)]\n",
    "        a1 = a.copy()\n",
    "        DualPivotQuickSort(a, 0, len(a)-1)\n",
    "        if a != sorted(a1):\n",
    "            print(a1)\n",
    "    except IndexError:\n",
    "        print(a1)\n",
    "        break"
   ]
  },
  {
   "cell_type": "code",
   "execution_count": 1,
   "metadata": {},
   "outputs": [
    {
     "name": "stdout",
     "output_type": "stream",
     "text": [
      "139668166738248\n"
     ]
    }
   ],
   "source": [
    "import multiprocessing as mp\n",
    "\n",
    "mp.set_start_method('spawn')\n",
    "\n",
    "def print_obj_id(my_obj):\n",
    "    print(id(my_obj)) \n",
    "    \n",
    "list_ = [1, 2, 3, 4, 5, 6, 7]\n",
    "print(id(list_))\n",
    "p = mp.Process(target=print_obj_id, args=(list_,))\n",
    "p.start()\n",
    "p.join()"
   ]
  },
  {
   "cell_type": "code",
   "execution_count": null,
   "metadata": {},
   "outputs": [],
   "source": []
  }
 ],
 "metadata": {
  "kernelspec": {
   "display_name": "Python 3",
   "language": "python",
   "name": "python3"
  },
  "language_info": {
   "codemirror_mode": {
    "name": "ipython",
    "version": 3
   },
   "file_extension": ".py",
   "mimetype": "text/x-python",
   "name": "python",
   "nbconvert_exporter": "python",
   "pygments_lexer": "ipython3",
   "version": "3.5.2"
  }
 },
 "nbformat": 4,
 "nbformat_minor": 1
}
