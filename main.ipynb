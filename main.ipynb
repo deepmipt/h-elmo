{
 "cells": [
  {
   "cell_type": "code",
   "execution_count": 9,
   "metadata": {
    "collapsed": true,
    "scrolled": false
   },
   "outputs": [],
   "source": [
    "def get_relevant_activations(data, markup_for_tag):\n",
    "    result = []\n",
    "    for i, tag in enumerate(markup_for_tag):\n",
    "        if tag != 0:\n",
    "            result.append(data[i])\n",
    "    return np.stack(result)\n",
    "\n",
    "\n",
    "def get_matches(activations, markup):\n",
    "    markup = np.array(markup)\n",
    "    markup_devs = markup - np.mean(markup)\n",
    "    activation_devs = activations - np.mean(activations, 0, keepdims=True)\n",
    "    activation_stddevs = np.std(activations, 0, ddof=1, keepdims=True)\n",
    "    markup_stddev = np.std(markup, ddof=1)\n",
    "    activation_dev_fractions = activation_devs / (activation_stddevs + 1e-20)\n",
    "    markup_dev_fractions = markup_devs / (markup_stddev + 1e-20)\n",
    "    return activation_dev_fractions * np.reshape(markup_dev_fractions, [-1, 1])\n",
    "\n",
    "\n",
    "def compute_stats(data, markup_for_tag):\n",
    "    markup_for_tag = np.array(markup_for_tag)\n",
    "    stats = {}\n",
    "    stats['markup'] = markup_for_tag\n",
    "    stats['relevant_markup'] = list(filter(lambda x: x != 0, markup_for_tag))\n",
    "    stats['relevant_activations'] = get_relevant_activations(data, markup_for_tag)\n",
    "    stats['matches'] = get_matches(stats['relevant_activations'], stats['relevant_markup'])\n",
    "    stats['correlations'] = np.mean(stats['matches'], 0)\n",
    "    assert stats['correlations'].ndim == 1\n",
    "    stats['match_stddevs'] = np.std(stats['matches'], 0)\n",
    "    stats['mean_square_correlation'] = np.sqrt(np.mean(stats['correlations']**2))\n",
    "    stats['meta'] = {\n",
    "        \"positive\": np.count_nonzero(markup_for_tag == 1),\n",
    "        \"negative\": np.count_nonzero(markup_for_tag == -1),\n",
    "        \"total\": len(stats['markup']),\n",
    "    }\n",
    "    return stats"
   ]
  },
  {
   "cell_type": "code",
   "execution_count": 11,
   "metadata": {
    "collapsed": true
   },
   "outputs": [],
   "source": [
    "import os\n",
    "import pickle\n",
    "import numpy as np\n",
    "\n",
    "os.makedirs('test', exist_ok=True)\n",
    "\n",
    "with open(\"test/test.pickle\", 'wb') as f:\n",
    "    pickle.dump(np.array([[4]*10]*50), f)"
   ]
  },
  {
   "cell_type": "code",
   "execution_count": 12,
   "metadata": {},
   "outputs": [
    {
     "name": "stdout",
     "output_type": "stream",
     "text": [
      "итого 8\r\n",
      "-rw-rw-r-- 1 anton anton 4160 июн  7 11:29 test.pickle\r\n"
     ]
    }
   ],
   "source": [
    "! ls -l test"
   ]
  },
  {
   "cell_type": "code",
   "execution_count": 5,
   "metadata": {},
   "outputs": [
    {
     "name": "stdout",
     "output_type": "stream",
     "text": [
      "[5 0]\n"
     ]
    }
   ],
   "source": [
    "import tensorflow as tf\n",
    "\n",
    "def get_axis_quarters(tensor):\n",
    "    last_dim = tf.shape(tensor, out_type=tf.float32)[-1]\n",
    "    exponents = tf.range(0., last_dim, 1., dtype=tf.float32)\n",
    "    powers = tf.math.pow(2., exponents)\n",
    "    binary_format = tf.cast(tensor > 0, tf.float32)\n",
    "    linear_combination = powers * binary_format\n",
    "    numbers = tf.reduce_sum(linear_combination, axis=-1)\n",
    "    return tf.cast(numbers, tf.int32)\n",
    "\n",
    "tensor = tf.constant(\n",
    "    [[1, -1, 1],\n",
    "     [-1, -1, -1]]\n",
    ")\n",
    "\n",
    "axis_quarters = get_axis_quarters(tensor)\n",
    "\n",
    "with tf.Session() as sess:\n",
    "    print(sess.run(axis_quarters))"
   ]
  },
  {
   "cell_type": "code",
   "execution_count": 1,
   "metadata": {
    "collapsed": true
   },
   "outputs": [],
   "source": [
    "import pickle\n",
    "import numpy as np\n",
    "\n",
    "prefix = '/media/anton/DATA/results/h-elmo/expres/resrnn/poscorr/4/9/corr/level1_1/NNS'\n",
    "\n",
    "tmpl = os.path.join(prefix, '{}.pickle')"
   ]
  },
  {
   "cell_type": "code",
   "execution_count": null,
   "metadata": {
    "collapsed": true
   },
   "outputs": [],
   "source": [
    "file_name = tmpl.format('correlations')\n",
    "with open(file_name, 'rb') as f:\n",
    "    corr = pickle.load(f)\n",
    "    \n",
    "print(max(corr))\n",
    "print(np.argmax(corr))"
   ]
  },
  {
   "cell_type": "code",
   "execution_count": 1,
   "metadata": {},
   "outputs": [
    {
     "name": "stdout",
     "output_type": "stream",
     "text": [
      "Counter({1: 1, 2: 1, 3: 1})\n"
     ]
    }
   ],
   "source": [
    "from collections import Counter\n",
    "import numpy as np\n",
    "\n",
    "a = np.array([1, 2, 3])\n",
    "\n",
    "c = Counter(a)\n",
    "print(c)"
   ]
  },
  {
   "cell_type": "code",
   "execution_count": 3,
   "metadata": {},
   "outputs": [
    {
     "name": "stdout",
     "output_type": "stream",
     "text": [
      "[ 0.08246549  0.02131961  0.08308583 ... -0.55830922  0.02906624\n",
      "  0.02100856]\n",
      "18.750923953380248\n",
      "50567\n",
      "-13.644160917601068\n",
      "52351\n"
     ]
    }
   ],
   "source": [
    "matches = tmpl.format('matches')\n",
    "with open(matches, 'rb') as f:\n",
    "    m = pickle.load(f)\n",
    "\n",
    "m62 = m[:, 62]\n",
    "print(m62)\n",
    "print(max(m62))\n",
    "print(np.argmax(m62))\n",
    "print(min(m62))\n",
    "print(np.argmin(m62))"
   ]
  },
  {
   "cell_type": "code",
   "execution_count": 4,
   "metadata": {},
   "outputs": [
    {
     "name": "stdout",
     "output_type": "stream",
     "text": [
      "2.387342495802599\n"
     ]
    }
   ],
   "source": [
    "print(np.std(m62))"
   ]
  },
  {
   "cell_type": "code",
   "execution_count": 5,
   "metadata": {
    "collapsed": true
   },
   "outputs": [],
   "source": [
    "import matplotlib.pyplot as plt\n",
    "%matplotlib inline"
   ]
  },
  {
   "cell_type": "code",
   "execution_count": 6,
   "metadata": {},
   "outputs": [
    {
     "data": {
      "image/png": "[encoded data removed]",
      "text/plain": [
       "<Figure size 432x288 with 1 Axes>"
      ]
     },
     "metadata": {
      "needs_background": "light"
     },
     "output_type": "display_data"
    }
   ],
   "source": [
    "threshold = 0\n",
    "f1 = m62[m62 > threshold]\n",
    "f2 = m62[m62 <= -threshold]\n",
    "filtered = np.concatenate([f1, f2])\n",
    "plt.hist(filtered, bins=100, density=True)\n",
    "plt.grid()\n",
    "plt.yscale('log')\n",
    "plt.xlabel('matches')\n",
    "\n",
    "plt.show()"
   ]
  },
  {
   "cell_type": "code",
   "execution_count": 2,
   "metadata": {
    "collapsed": true
   },
   "outputs": [],
   "source": [
    "act = tmpl.format('relevant_activations')\n",
    "with open(act, 'rb') as f:\n",
    "    act = pickle.load(f)"
   ]
  },
  {
   "cell_type": "code",
   "execution_count": 3,
   "metadata": {
    "collapsed": true
   },
   "outputs": [],
   "source": [
    "markup = tmpl.format('relevant_markup')\n",
    "with open(markup, 'rb') as f:\n",
    "    markup = pickle.load(f)"
   ]
  },
  {
   "cell_type": "code",
   "execution_count": 4,
   "metadata": {
    "collapsed": true
   },
   "outputs": [],
   "source": [
    "act62 = act[:, 62]"
   ]
  },
  {
   "cell_type": "code",
   "execution_count": 8,
   "metadata": {
    "scrolled": true
   },
   "outputs": [
    {
     "data": {
      "image/png": "[encoded data removed]",
      "text/plain": [
       "<Figure size 432x288 with 1 Axes>"
      ]
     },
     "metadata": {
      "needs_background": "light"
     },
     "output_type": "display_data"
    }
   ],
   "source": [
    "\n",
    "plt.hist(act62, bins=100, density=True)\n",
    "plt.grid()\n",
    "plt.yscale('log')\n",
    "plt.xlabel('activations')\n",
    "\n",
    "plt.show()"
   ]
  },
  {
   "cell_type": "code",
   "execution_count": 5,
   "metadata": {},
   "outputs": [
    {
     "ename": "NameError",
     "evalue": "name 'm62' is not defined",
     "output_type": "error",
     "traceback": [
      "\u001b[0;31m---------------------------------------------------------------------------\u001b[0m",
      "\u001b[0;31mNameError\u001b[0m                                 Traceback (most recent call last)",
      "\u001b[0;32m<ipython-input-5-934192da9a6c>\u001b[0m in \u001b[0;36m<module>\u001b[0;34m\u001b[0m\n\u001b[1;32m      1\u001b[0m \u001b[0;32mfrom\u001b[0m \u001b[0mhelmo\u001b[0m\u001b[0;34m.\u001b[0m\u001b[0mutil\u001b[0m\u001b[0;34m.\u001b[0m\u001b[0mplot\u001b[0m\u001b[0;34m.\u001b[0m\u001b[0mplot_helpers\u001b[0m \u001b[0;32mimport\u001b[0m \u001b[0mdensity_plot\u001b[0m\u001b[0;34m\u001b[0m\u001b[0m\n\u001b[1;32m      2\u001b[0m \u001b[0;34m\u001b[0m\u001b[0m\n\u001b[0;32m----> 3\u001b[0;31m \u001b[0mdensity_plot\u001b[0m\u001b[0;34m(\u001b[0m\u001b[0mm62\u001b[0m\u001b[0;34m,\u001b[0m \u001b[0;36m0.001\u001b[0m\u001b[0;34m,\u001b[0m \u001b[0;32mNone\u001b[0m\u001b[0;34m,\u001b[0m \u001b[0;34m'blue'\u001b[0m\u001b[0;34m)\u001b[0m\u001b[0;34m\u001b[0m\u001b[0m\n\u001b[0m\u001b[1;32m      4\u001b[0m \u001b[0mplt\u001b[0m\u001b[0;34m.\u001b[0m\u001b[0myscale\u001b[0m\u001b[0;34m(\u001b[0m\u001b[0;34m'log'\u001b[0m\u001b[0;34m)\u001b[0m\u001b[0;34m\u001b[0m\u001b[0m\n\u001b[1;32m      5\u001b[0m \u001b[0mplt\u001b[0m\u001b[0;34m.\u001b[0m\u001b[0mxlabel\u001b[0m\u001b[0;34m(\u001b[0m\u001b[0;34m'matches'\u001b[0m\u001b[0;34m)\u001b[0m\u001b[0;34m\u001b[0m\u001b[0m\n",
      "\u001b[0;31mNameError\u001b[0m: name 'm62' is not defined"
     ]
    }
   ],
   "source": [
    "from helmo.util.plot.plot_helpers import density_plot\n",
    "\n",
    "density_plot(m62, 0.001, None, 'blue')\n",
    "plt.yscale('log')\n",
    "plt.xlabel('matches')\n",
    "plt.ylabel('density')\n",
    "plt.grid()\n",
    "plt.savefig(\n",
    "    '/media/anton/DATA/results/h-elmo/expres/resrnn/poscorr/4/9/corr/level1_1/NNS/plots/matches.png',\n",
    "    dpi=900\n",
    ")\n",
    "plt.show()"
   ]
  },
  {
   "cell_type": "code",
   "execution_count": 19,
   "metadata": {},
   "outputs": [
    {
     "data": {
      "image/png": "[encoded data removed]",
      "text/plain": [
       "<Figure size 432x288 with 1 Axes>"
      ]
     },
     "metadata": {
      "needs_background": "light"
     },
     "output_type": "display_data"
    }
   ],
   "source": [
    "from helmo.util.plot.plot_helpers import density_plot\n",
    "\n",
    "density_plot(act62, 0.0001, None, 'blue')\n",
    "plt.yscale('log')\n",
    "plt.xlabel('activations')\n",
    "plt.ylabel('density')\n",
    "plt.grid()\n",
    "plt.savefig(\n",
    "    '/media/anton/DATA/results/h-elmo/expres/resrnn/poscorr/4/9/corr/level1_1/NNS/plots/activations.png',\n",
    "    dpi=900\n",
    ")\n",
    "plt.show()"
   ]
  },
  {
   "cell_type": "code",
   "execution_count": 7,
   "metadata": {
    "collapsed": true
   },
   "outputs": [],
   "source": [
    "from helmo.util.plot.plot_helpers import density_plot\n",
    "\n",
    "selected_indices = np.array(np.array(markup) + 1, dtype=bool)"
   ]
  },
  {
   "cell_type": "code",
   "execution_count": 8,
   "metadata": {
    "collapsed": true
   },
   "outputs": [],
   "source": [
    "nns_act62 = act62[selected_indices]"
   ]
  },
  {
   "cell_type": "code",
   "execution_count": 9,
   "metadata": {},
   "outputs": [
    {
     "name": "stdout",
     "output_type": "stream",
     "text": [
      "(7996,)\n",
      "[ 0.03987525  0.24359564  0.13936374  0.01275242  0.33905667  0.23092057\n",
      "  0.49802893  0.7179312   0.6440741   0.72047305  0.68238884  0.27751622\n",
      "  0.7226443   0.66829014  0.6769268   0.35996893  0.62734854  0.4216515\n",
      "  0.53920376 -0.07121509  0.5742651   0.7341397   0.23616292  0.7350702\n",
      "  0.13083465  0.35654765  0.5455406   0.41869763  0.5783358   0.61539644\n",
      "  0.6135536   0.62634987  0.23542795  0.21027555  0.6333601   0.036227\n",
      "  0.43719196  0.35494202  0.13239472  0.6450477   0.7428283   0.7066073\n",
      "  0.6975089   0.28573078  0.42003262  0.20334533  0.45254168  0.40931424\n",
      "  0.15804431  0.5475083   0.12762508  0.30116114  0.46461856  0.6587762\n",
      "  0.34424582  0.47947675  0.7382973   0.43743163  0.48655224  0.3983338\n",
      "  0.6633929   0.5986025   0.6500519   0.72113675  0.61620504  0.70613456\n",
      "  0.02858962  0.5844811   0.5168905   0.2948563   0.41682157  0.40695137\n",
      "  0.5016543   0.3709565   0.7006538   0.62645507 -0.00999689  0.631873\n",
      "  0.37047824  0.10538723 -0.12101641  0.3286183   0.73879755  0.419461\n",
      " -0.18268616  0.48435506  0.57082313  0.4695439   0.66903937  0.2646437\n",
      "  0.5649067   0.57630575  0.02788873  0.572275    0.13611141  0.40970537\n",
      "  0.40464735  0.66551423  0.59703594  0.6573207 ]\n"
     ]
    }
   ],
   "source": [
    "import numpy as np\n",
    "\n",
    "print(nns_act62.shape)\n",
    "print(nns_act62[:100])\n",
    "min_ = np.min(act62)\n",
    "max_ = np.max(act62)"
   ]
  },
  {
   "cell_type": "code",
   "execution_count": 13,
   "metadata": {
    "scrolled": true
   },
   "outputs": [
    {
     "data": {
      "image/png": "[encoded data removed]",
      "text/plain": [
       "<Figure size 432x288 with 1 Axes>"
      ]
     },
     "metadata": {
      "needs_background": "light"
     },
     "output_type": "display_data"
    }
   ],
   "source": [
    "import os\n",
    "\n",
    "import matplotlib.pyplot as plt\n",
    "\n",
    "density_plot(act62, 0.0001, 'all activations', 'blue')\n",
    "density_plot(nns_act62, 0.0001, 'NNS activations', 'red', [min_, max_])\n",
    "plt.yscale('log')\n",
    "plt.xlabel('activations')\n",
    "plt.ylabel('density')\n",
    "plt.grid()\n",
    "plt.legend(loc='best')\n",
    "plt.savefig(\n",
    "    os.path.join(prefix, 'plots/activations_and_nns_activations.png'),\n",
    "    dpi=900\n",
    ")\n",
    "plt.show()"
   ]
  },
  {
   "cell_type": "code",
   "execution_count": 15,
   "metadata": {},
   "outputs": [
    {
     "name": "stderr",
     "output_type": "stream",
     "text": [
      "/usr/local/lib/python3.5/dist-packages/ipykernel_launcher.py:2: RuntimeWarning: divide by zero encountered in double_scalars\n",
      "  \n",
      "/usr/local/lib/python3.5/dist-packages/ipykernel_launcher.py:2: RuntimeWarning: divide by zero encountered in log\n",
      "  \n"
     ]
    },
    {
     "data": {
      "image/png": "[encoded data removed]",
      "text/plain": [
       "<Figure size 432x288 with 1 Axes>"
      ]
     },
     "metadata": {
      "needs_background": "light"
     },
     "output_type": "display_data"
    }
   ],
   "source": [
    "x = [0.01*i for i in range(-200, 200)]\n",
    "y = [1 / np.log(abs(xx-1.)) for xx in x]\n",
    "\n",
    "plt.plot(x, y)\n",
    "plt.show()"
   ]
  },
  {
   "cell_type": "code",
   "execution_count": null,
   "metadata": {
    "collapsed": true
   },
   "outputs": [],
   "source": []
  },
  {
   "cell_type": "code",
   "execution_count": 171,
   "metadata": {
    "collapsed": true
   },
   "outputs": [],
   "source": [
    "! export PYTHONPATH=\"~/h-elmo:~/learning-to-learn\""
   ]
  },
  {
   "cell_type": "code",
   "execution_count": 173,
   "metadata": {},
   "outputs": [
    {
     "name": "stdout",
     "output_type": "stream",
     "text": [
      "\r\n"
     ]
    }
   ],
   "source": [
    "! echo $PYTHONPATH"
   ]
  },
  {
   "cell_type": "code",
   "execution_count": 25,
   "metadata": {},
   "outputs": [
    {
     "data": {
      "image/png": "[encoded data removed]",
      "text/plain": [
       "<Figure size 432x288 with 1 Axes>"
      ]
     },
     "metadata": {
      "needs_background": "light"
     },
     "output_type": "display_data"
    }
   ],
   "source": [
    "f1 = m[m > 1.]\n",
    "f2 = m[m < -1.]\n",
    "filtered = np.concatenate([f1, f2])\n",
    "plt.hist(filtered, bins=1000, density=True)\n",
    "plt.grid()\n",
    "plt.show()"
   ]
  },
  {
   "cell_type": "code",
   "execution_count": null,
   "metadata": {
    "collapsed": true
   },
   "outputs": [],
   "source": [
    "tmpl = '/media/anton/DATA/results/h-elmo/expres/resrnn/poscorr/4/9/corr/level0_0/NNS/{}.pickle'\n",
    "matches = tmpl.format('matches')\n",
    "with open(matches, 'rb') as f:\n",
    "    m = pickle.load(f)"
   ]
  },
  {
   "cell_type": "code",
   "execution_count": null,
   "metadata": {
    "collapsed": true
   },
   "outputs": [],
   "source": []
  },
  {
   "cell_type": "code",
   "execution_count": null,
   "metadata": {
    "collapsed": true
   },
   "outputs": [],
   "source": [
    "act = tmpl.format('activations')\n",
    "with open(act, 'rb') as f:\n",
    "    a = pickle.load(f)\n",
    "    \n"
   ]
  },
  {
   "cell_type": "code",
   "execution_count": null,
   "metadata": {
    "collapsed": true
   },
   "outputs": [],
   "source": [
    "stddevs = tmpl.format('match_stddevs')\n",
    "with open(stddevs, 'rb') as f:\n",
    "    std = pickle.load(f)\n",
    "\n",
    "print(std)\n",
    "print(max(std))\n",
    "print(np.argmax(std))"
   ]
  },
  {
   "cell_type": "code",
   "execution_count": 1,
   "metadata": {},
   "outputs": [
    {
     "name": "stdout",
     "output_type": "stream",
     "text": [
      "\n",
      "WARNING: The TensorFlow contrib module will not be included in TensorFlow 2.0.\n",
      "For more information, please see:\n",
      "  * https://github.com/tensorflow/community/blob/master/rfcs/20180907-contrib-sunset.md\n",
      "  * https://github.com/tensorflow/addons\n",
      "If you depend on functionality not listed there, please file an issue.\n",
      "\n",
      "[[[[[1 2]]\n",
      "\n",
      "   [[3 4]]]]\n",
      "\n",
      "\n",
      "\n",
      " [[[[5 6]]\n",
      "\n",
      "   [[7 8]]]]]\n"
     ]
    }
   ],
   "source": [
    "import tensorflow as tf\n",
    "\n",
    "\n",
    "def get_all_values_except_specified(tensor, excluded):\n",
    "    with tf.name_scope('get_all_values_except_specified'):\n",
    "        tensor = tf.reshape(tensor, [-1])\n",
    "        excluded = tf.reshape(excluded, [-1])\n",
    "        excluded_shape = tf.shape(excluded)\n",
    "        tensor_expanded = tf.reshape(tensor, [-1, 1])\n",
    "        multiples = tf.concat([[1], excluded_shape], 0)\n",
    "        tensor_expanded = tf.tile(tensor_expanded, multiples)\n",
    "        masks = tf.cast(tf.equal(tf.cast(tensor_expanded, tf.int32), tf.cast(excluded, tf.int32)), tf.int32)\n",
    "        mask = tf.reduce_sum(masks, [1])\n",
    "        mask = tf.cast(tf.cast(mask, dtype=tf.bool), dtype=tf.int32) - 1\n",
    "        return tf.boolean_mask(tensor, mask)\n",
    "    \n",
    "\n",
    "tensor, num_dims, axes, output = (\n",
    "                    [[[1, 2], [3, 4]], [[5, 6], [7, 8]]],\n",
    "\n",
    "                    5,\n",
    "\n",
    "                    [0, 2, 4],\n",
    "\n",
    "                    [[[[[1, 2]], [[3, 4]]], [[[5, 6]], [[7, 8]]]]],\n",
    "                )\n",
    "\n",
    "if not tf.contrib.framework.is_tensor(tensor):\n",
    "    tensor = tf.constant(tensor)\n",
    "if not tf.contrib.framework.is_tensor(axes):\n",
    "    axes = tf.constant(axes, dtype=tf.int32)\n",
    "sh = tf.shape(tensor, out_type=tf.int32)\n",
    "nd = tf.shape(sh, out_type=tf.int32)[0]\n",
    "assert_axes_smaller_than_num_dims = tf.assert_less(\n",
    "    axes, num_dims, message='`axes` has to be less than `num_dims`')\n",
    "check_num_dims = tf.assert_greater_equal(\n",
    "    num_dims, nd,\n",
    "    message='`num_dims` has to be greater or equal to number of dimensions in `tensor`'\n",
    ")\n",
    "ass_axes_bigger_or_equal_than_num_dims = tf.assert_greater_equal(axes, -num_dims)\n",
    "\n",
    "negative_axes_mask = tf.cast(axes < 0, tf.int32)\n",
    "axes += negative_axes_mask * num_dims\n",
    "\n",
    "ones_for_expansion = tf.ones(tf.reshape(num_dims - nd, [1]), dtype=tf.int32)\n",
    "shape_for_expansion = tf.concat([sh, ones_for_expansion], 0)\n",
    "\n",
    "tensor = tf.reshape(tensor, shape_for_expansion)\n",
    "\n",
    "# remained_axes = get_all_values_except_specified(tf.range(num_dims, dtype=tf.int32), axes)\n",
    "# perm = tf.concat([axes, remained_axes], 0)\n",
    "updates = tf.range(0, num_dims, 1, dtype=tf.int32)\n",
    "remained_positions = get_all_values_except_specified(tf.range(num_dims, dtype=tf.int32), axes)\n",
    "indices = tf.concat([axes, remained_positions], 0)\n",
    "indices = tf.reshape(indices, [-1, 1])\n",
    "perm_shape = tf.reshape(num_dims, [1])\n",
    "perm = tf.scatter_nd(indices, updates, perm_shape)\n",
    "\n",
    "with tf.control_dependencies([check_num_dims, assert_axes_smaller_than_num_dims, ass_axes_bigger_or_equal_than_num_dims]):\n",
    "    tensor = tf.transpose(tensor, perm=perm)\n",
    "    \n",
    "\n",
    "with tf.Session() as sess:\n",
    "    print(sess.run(tensor))"
   ]
  },
  {
   "cell_type": "code",
   "execution_count": 1,
   "metadata": {
    "scrolled": false
   },
   "outputs": [
    {
     "name": "stdout",
     "output_type": "stream",
     "text": [
      "[[-1 -1 -1 -1]\n",
      " [ 1  1  1  1]\n",
      " [ 0  0  0  0]\n",
      " [-1 -1 -1 -1]\n",
      " [ 1  1  1  1]\n",
      " [-1 -1 -1 -1]\n",
      " [ 1  1  1  1]\n",
      " [-1 -1 -1 -1]\n",
      " [ 0  0  0  0]\n",
      " [ 0  0  0  0]\n",
      " [-1 -1 -1 -1]\n",
      " [-1 -1 -1 -1]\n",
      " [-1 -1 -1 -1]\n",
      " [-1 -1 -1 -1]\n",
      " [ 0  0  0  0]\n",
      " [ 1  1  1  1]\n",
      " [ 0  0  0  0]\n",
      " [ 1  1  1  1]\n",
      " [ 0  0  0  0]\n",
      " [ 1  1  1  1]]\n",
      "{'markup': array([-1,  1,  0, -1,  1, -1,  1, -1,  0,  0, -1, -1, -1, -1,  0,  1,  0,\n",
      "        1,  0,  1]), 'relevant_markup': [-1, 1, -1, 1, -1, 1, -1, -1, -1, -1, -1, 1, 1, 1], 'relevant_activations': array([[-1, -1, -1, -1],\n",
      "       [ 1,  1,  1,  1],\n",
      "       [-1, -1, -1, -1],\n",
      "       [ 1,  1,  1,  1],\n",
      "       [-1, -1, -1, -1],\n",
      "       [ 1,  1,  1,  1],\n",
      "       [-1, -1, -1, -1],\n",
      "       [-1, -1, -1, -1],\n",
      "       [-1, -1, -1, -1],\n",
      "       [-1, -1, -1, -1],\n",
      "       [-1, -1, -1, -1],\n",
      "       [ 1,  1,  1,  1],\n",
      "       [ 1,  1,  1,  1],\n",
      "       [ 1,  1,  1,  1]]), 'matches': array([[0.75      , 0.75      , 0.75      , 0.75      ],\n",
      "       [1.33333333, 1.33333333, 1.33333333, 1.33333333],\n",
      "       [0.75      , 0.75      , 0.75      , 0.75      ],\n",
      "       [1.33333333, 1.33333333, 1.33333333, 1.33333333],\n",
      "       [0.75      , 0.75      , 0.75      , 0.75      ],\n",
      "       [1.33333333, 1.33333333, 1.33333333, 1.33333333],\n",
      "       [0.75      , 0.75      , 0.75      , 0.75      ],\n",
      "       [0.75      , 0.75      , 0.75      , 0.75      ],\n",
      "       [0.75      , 0.75      , 0.75      , 0.75      ],\n",
      "       [0.75      , 0.75      , 0.75      , 0.75      ],\n",
      "       [0.75      , 0.75      , 0.75      , 0.75      ],\n",
      "       [1.33333333, 1.33333333, 1.33333333, 1.33333333],\n",
      "       [1.33333333, 1.33333333, 1.33333333, 1.33333333],\n",
      "       [1.33333333, 1.33333333, 1.33333333, 1.33333333]]), 'correlations': array([1., 1., 1., 1.]), 'match_stddevs': array([0., 0., 0., 0., 0., 0., 0., 0., 0., 0., 0., 0., 0., 0.]), 'mean_square_correlation': 1.0000000000000002, 'meta': {'positive': 6, 'negative': 8, 'total': 20}}\n"
     ]
    }
   ],
   "source": [
    "import numpy as np\n",
    "\n",
    "from helmo.util.scripts.text_neuron_correlation import compute_stats\n",
    "\n",
    "num_unrollings = 20\n",
    "num_units = 4\n",
    "\n",
    "# a = np.random.rand(num_units, num_unrollings)\n",
    "\n",
    "m = np.random.choice([-1, 1, 0], num_unrollings)\n",
    "a = np.stack([m]*num_units, 1)\n",
    "print(a)\n",
    "\n",
    "stats = compute_stats(a, m)\n",
    "print(stats)"
   ]
  },
  {
   "cell_type": "code",
   "execution_count": 161,
   "metadata": {},
   "outputs": [
    {
     "name": "stdout",
     "output_type": "stream",
     "text": [
      "0.0 None\n",
      "0.01 -2\n",
      "0.02 -2\n",
      "0.03 -2\n",
      "0.04 -2\n",
      "0.05 -2\n",
      "0.06 -2\n",
      "0.07 -2\n",
      "0.08 -2\n",
      "0.09 -1\n",
      "0.1 -1\n",
      "0.11 -1\n",
      "0.12 -1\n",
      "0.13 -2\n",
      "0.14 -2\n",
      "0.15 -2\n",
      "0.16 -2\n",
      "0.17 -1\n",
      "0.18 -1\n",
      "0.19 -1\n",
      "0.2 -1\n",
      "0.21 -1\n",
      "0.22 -1\n",
      "0.23 -1\n",
      "0.24 -1\n",
      "0.25 -1\n",
      "0.26 -1\n",
      "0.27 -1\n",
      "0.28 -1\n",
      "0.29 -1\n",
      "0.3 -1\n",
      "0.31 -1\n",
      "0.32 -1\n",
      "0.33 -1\n",
      "0.34 -1\n",
      "0.35000000000000003 -1\n",
      "0.36 -1\n",
      "0.37 -1\n",
      "0.38 -1\n",
      "0.39 -1\n",
      "0.4 -1\n",
      "0.41000000000000003 -1\n",
      "0.42 -1\n",
      "0.43 -1\n",
      "0.44 -1\n",
      "0.45 -1\n",
      "0.46 -1\n",
      "0.47000000000000003 -1\n",
      "0.48 -1\n",
      "0.49 -1\n",
      "0.5 -1\n",
      "0.51 -1\n",
      "0.52 -1\n",
      "0.53 -1\n",
      "0.54 -1\n",
      "0.55 -1\n",
      "0.56 -1\n",
      "0.5700000000000001 -1\n",
      "0.58 -1\n",
      "0.59 -1\n",
      "0.6 -1\n",
      "0.61 -1\n",
      "0.62 -1\n",
      "0.63 -1\n",
      "0.64 -1\n",
      "0.65 -1\n",
      "0.66 -1\n",
      "0.67 -1\n",
      "0.68 -1\n",
      "0.6900000000000001 -1\n",
      "0.7000000000000001 -1\n",
      "0.71 -1\n",
      "0.72 -1\n",
      "0.73 -1\n",
      "0.74 -1\n",
      "0.75 -1\n",
      "0.76 -1\n",
      "0.77 -1\n",
      "0.78 -1\n",
      "0.79 -1\n",
      "0.8 -1\n",
      "0.81 -1\n",
      "0.8200000000000001 -1\n",
      "0.8300000000000001 -1\n",
      "0.84 0\n",
      "0.85 0\n",
      "0.86 0\n",
      "0.87 0\n",
      "0.88 0\n",
      "0.89 0\n",
      "0.9 0\n",
      "0.91 0\n",
      "0.92 0\n",
      "0.93 0\n",
      "0.9400000000000001 0\n",
      "0.9500000000000001 0\n",
      "0.96 0\n",
      "0.97 0\n",
      "0.98 0\n",
      "0.99 0\n",
      "1.0 0\n"
     ]
    }
   ],
   "source": [
    "import numpy as np\n",
    "\n",
    "\n",
    "def get_int_part(n):\n",
    "    return str(int(n // 1))\n",
    "\n",
    "\n",
    "def get_frac_part(n):\n",
    "    removed = int(get_int_part(n))\n",
    "    frac_part = ''\n",
    "    while n % 1:\n",
    "        n *= 10\n",
    "        removed *= 10\n",
    "        frac_part += str(int(n // 1) - removed)\n",
    "        removed = int(n // 1)\n",
    "    return frac_part\n",
    "\n",
    "\n",
    "def get_kth_digit(number, k, default='0'):\n",
    "    \"\"\"Returns k-th digit. For example, in number 123.45 1 \n",
    "    is 2nd digit, 3 is zeroth and 5 is -2nd. \n",
    "    If the number does not have such a digit default is returned.\n",
    "    Args:\n",
    "        number: float or str convertable to float\n",
    "        k: integer\n",
    "    Returns:\n",
    "        str\"\"\"\n",
    "    if isinstance(number, str):\n",
    "        number = float(number)\n",
    "    int_part = get_int_part(number)\n",
    "    frac_part = get_frac_part(number)\n",
    "    number = int_part + frac_part\n",
    "    k = len(int_part) - k - 1\n",
    "    if 0 <= k < len(number):\n",
    "        return number[k]\n",
    "    else:\n",
    "        return default\n",
    "    \n",
    "    \n",
    "def get_first_nonzero_digit_pos(n):\n",
    "    if n == 0:\n",
    "        return None\n",
    "    int_part = get_int_part(n)\n",
    "    frac_part = get_frac_part(n)\n",
    "    if int(int_part):\n",
    "        return len(int_part) - 1\n",
    "    i = 0\n",
    "    while i < len(frac_part) and not int(frac_part[i]):\n",
    "        i += 1\n",
    "    assert frac_part[i] != '0'\n",
    "    return -i - 1\n",
    "\n",
    "\n",
    "def get_acc_num_digits(std, acc):\n",
    "    if std == 0:\n",
    "        return None\n",
    "    \n",
    "    std_err = std * acc\n",
    "    \n",
    "    nz_err = get_first_nonzero_digit_pos(std_err)\n",
    "    \n",
    "    digit_1_pos_higher = get_kth_digit(std, nz_err+1)\n",
    "    \n",
    "    higher_digit_change = get_kth_digit(std + std_err, nz_err+1) != digit_1_pos_higher or \\\n",
    "        get_kth_digit(std - std_err, nz_err+1) != digit_1_pos_higher\n",
    "\n",
    "    if higher_digit_change:\n",
    "        nz_err += 1\n",
    "    return nz_err\n",
    "\n",
    "for std in np.linspace(0, 1, 101):\n",
    "    last_digit = get_acc_num_digits(std, 0.2)\n",
    "    print(std, last_digit)"
   ]
  },
  {
   "cell_type": "code",
   "execution_count": 138,
   "metadata": {},
   "outputs": [
    {
     "data": {
      "text/plain": [
       "'7'"
      ]
     },
     "execution_count": 138,
     "metadata": {},
     "output_type": "execute_result"
    }
   ],
   "source": [
    "get_kth_digit(123.45678, -4)"
   ]
  },
  {
   "cell_type": "code",
   "execution_count": 132,
   "metadata": {},
   "outputs": [
    {
     "data": {
      "text/plain": [
       "1"
      ]
     },
     "execution_count": 132,
     "metadata": {},
     "output_type": "execute_result"
    }
   ],
   "source": [
    "def get_first_nonzero_digit_pos_for_std(std, acc):\n",
    "    if std == 0:\n",
    "        return None\n",
    "    std_fraction = std * acc\n",
    "    int_part = get_int_part(std_fraction)\n",
    "    frac_part = get_frac_part(std_fraction)\n",
    "    if int(int_part):\n",
    "        return len(int_part) - 1\n",
    "    i = 0\n",
    "    while i < len(frac_part) and not int(frac_part[i]):\n",
    "        i += 1\n",
    "    assert frac_part[i] != '0'\n",
    "    return -i - 1\n",
    "\n",
    "\n",
    "get_first_nonzero_digit_pos_for_std(0.0123456, 1000)"
   ]
  },
  {
   "cell_type": "code",
   "execution_count": 116,
   "metadata": {},
   "outputs": [
    {
     "data": {
      "text/plain": [
       "324"
      ]
     },
     "execution_count": 116,
     "metadata": {},
     "output_type": "execute_result"
    }
   ],
   "source": [
    "def get_int_part(n):\n",
    "    return str(int(n // 1))\n",
    "\n",
    "\n",
    "def get_frac_part(n):\n",
    "    removed = int(get_int_part(n))\n",
    "    frac_part = ''\n",
    "    while n % 1:\n",
    "        n *= 10\n",
    "        removed *= 10\n",
    "        frac_part += str(int(n // 1) - removed)\n",
    "        removed = int(n // 1)\n",
    "    return frac_part\n",
    "\n",
    "len(get_frac_part(2.2250738585072014e-308))"
   ]
  },
  {
   "cell_type": "code",
   "execution_count": 22,
   "metadata": {},
   "outputs": [
    {
     "name": "stdout",
     "output_type": "stream",
     "text": [
      "[0 0 1 1 2 9]\n"
     ]
    }
   ],
   "source": [
    "import numpy as np\n",
    "\n",
    "bins = np.histogram_bin_edges([1], 8, [1., 9.])\n",
    "a = np.array([-1., 0., 1., 1.5, 2.5, 10.4])\n",
    "d = np.digitize(a, bins)\n",
    "print(d)"
   ]
  },
  {
   "cell_type": "code",
   "execution_count": 3,
   "metadata": {},
   "outputs": [
    {
     "name": "stdout",
     "output_type": "stream",
     "text": [
      "0.2169441995676607\n"
     ]
    }
   ],
   "source": [
    "import timeit\n",
    "\n",
    "import numpy as np\n",
    "\n",
    "\n",
    "a = np.zeros([10**4, 10**4])\n",
    "b = np.zeros([10**4, 10**4])\n",
    "\n",
    "N = 100\n",
    "\n",
    "t = timeit.timeit(\n",
    "    stmt=\"c = a + b\",\n",
    "    globals=dict(a=a, b=b),\n",
    "    number=N\n",
    ")\n",
    "\n",
    "print(t / N)"
   ]
  },
  {
   "cell_type": "code",
   "execution_count": 2,
   "metadata": {
    "scrolled": false
   },
   "outputs": [
    {
     "name": "stdout",
     "output_type": "stream",
     "text": [
      "1\n"
     ]
    }
   ],
   "source": [
    "import tensorflow as tf\n",
    "\n",
    "a = tf.Variable(0, trainable=False)\n",
    "\n",
    "op = tf.assign_add(a, 1)\n",
    "\n",
    "with tf.Session() as sess:\n",
    "    sess.run(tf.global_variables_initializer())\n",
    "    sess.run([op, op])\n",
    "    print(a.eval(sess))"
   ]
  },
  {
   "cell_type": "code",
   "execution_count": 2,
   "metadata": {
    "collapsed": true
   },
   "outputs": [],
   "source": [
    "h = net.get_default_hooks()"
   ]
  },
  {
   "cell_type": "code",
   "execution_count": 3,
   "metadata": {},
   "outputs": [
    {
     "name": "stdout",
     "output_type": "stream",
     "text": [
      "{'inputs': <tf.Tensor 'inps_and_lbls/inps:0' shape=(?, ?) dtype=int32>, 'labels': <tf.Tensor 'inps_and_lbls/lbls:0' shape=(?, ?) dtype=int32>, 'train_op': <tf.Operation 'gpu0_gradients/Adam' type=NoOp>, 'learning_rate': <tf.Tensor 'learning_rate:0' shape=<unknown> dtype=float32>, 'loss': <tf.Tensor 'loss_and_metrics/averaging_metrics/add:0' shape=() dtype=float32>, 'predictions': <tf.Tensor 'concat:0' shape=(?, ?, 100) dtype=float32>, 'validation_inputs': <tf.Tensor 'inps_and_lbls/inps:0' shape=(?, ?) dtype=int32>, 'validation_labels': <tf.Tensor 'inps_and_lbls/lbls:0' shape=(?, ?) dtype=int32>, 'validation_predictions': <tf.Tensor 'concat_1:0' shape=(?, ?, 100) dtype=float32>, 'reset_validation_state': <tf.Operation 'inference/group_deps' type=NoOp>, 'randomize_sample_state': <tf.Operation 'inference/group_deps_1' type=NoOp>, 'reset_train_state': <tf.Operation 'train/group_deps' type=NoOp>, 'randomize_train_state': <tf.Operation 'train/group_deps_1' type=NoOp>, 'dropout': <tf.Tensor 'dropout_rate:0' shape=<unknown> dtype=float32>, 'saver': <tensorflow.python.training.saver.Saver object at 0x7f971f6c0668>, 'entropy_level0_0_hidden_state': <tf.Tensor 'entropy_MM_from_hist/Squeeze:0' shape=<unknown> dtype=float32>, 'level0_0_hidden_state': <tf.Tensor 'inference/gpu0/rnns/level0/dropout/mul:0' shape=(?, ?, 100) dtype=float32>, 'level0_1_hidden_state': <tf.Tensor 'inference/gpu0/rnns/level0/mul_1:0' shape=(?, ?, 100) dtype=float32>, 'level0_0_axis_quarters': <tf.Tensor 'inference/gpu0/rnns/level0/get_axis_quarters/Cast_2:0' shape=(?, ?) dtype=int32>, 'level0_1_axis_quarters': <tf.Tensor 'inference/gpu0/rnns/level0/get_axis_quarters_1/Cast_2:0' shape=(?, ?) dtype=int32>, 'validation_loss': <tf.Tensor 'loss_and_metrics_1/averaging_metrics/add:0' shape=() dtype=float32>, 'subgraph_savers': {'level0': <tensorflow.python.training.saver.Saver object at 0x7f971ee8aef0>}}\n"
     ]
    }
   ],
   "source": [
    "print(h)"
   ]
  },
  {
   "cell_type": "code",
   "execution_count": 4,
   "metadata": {},
   "outputs": [
    {
     "name": "stdout",
     "output_type": "stream",
     "text": [
      "['inputs', 'labels', 'train_op', 'learning_rate', 'momentum', 'loss', 'predictions', 'validation_inputs', 'validation_labels', 'validation_predictions', 'reset_validation_state', 'randomize_sample_state', 'reset_train_state', 'randomize_train_state', 'dropout', 'saver', 'correlation', 'correlation_values', 'correlation2', 'correlation12', 'correlation_values_1-2', 'update_level0_0_hidden_state_hist', 'entropy_level0_0_hidden_state', 'level0_0_hidden_state', 'level0_1_hidden_state', 'level0_0_axis_quarters', 'level0_1_axis_quarters', 'validation_loss', 'subgraph_savers']\n"
     ]
    }
   ],
   "source": [
    "print(list(net._hooks.keys()))"
   ]
  },
  {
   "cell_type": "code",
   "execution_count": 3,
   "metadata": {},
   "outputs": [
    {
     "name": "stdout",
     "output_type": "stream",
     "text": [
      "Tensor(\"inference/gpu0/rnns/level0/_add_hidden_state_accumulation_ops/AssignAdd:0\", shape=(100, 100), dtype=int32_ref)\n"
     ]
    }
   ],
   "source": [
    "print(h['update_level0_0_hidden_state_hist'])"
   ]
  },
  {
   "cell_type": "code",
   "execution_count": 1,
   "metadata": {},
   "outputs": [
    {
     "name": "stdout",
     "output_type": "stream",
     "text": [
      "None\n"
     ]
    }
   ],
   "source": [
    "import tensorflow as tf\n",
    "\n",
    "g = tf.group()\n",
    "\n",
    "with tf.Session() as sess:\n",
    "    print(sess.run(g))"
   ]
  },
  {
   "cell_type": "code",
   "execution_count": 3,
   "metadata": {
    "collapsed": true
   },
   "outputs": [],
   "source": [
    "from sympy import *\n",
    "\n",
    "k, n, p = symbols('k n p')\n",
    "\n",
    "p = Product(k**(k * binomial(n, k) * p**k * (1-p)**(n-k)), (k, 0, n))"
   ]
  },
  {
   "cell_type": "code",
   "execution_count": 4,
   "metadata": {
    "collapsed": true
   },
   "outputs": [],
   "source": [
    "r = p.doit()"
   ]
  },
  {
   "cell_type": "code",
   "execution_count": 5,
   "metadata": {},
   "outputs": [
    {
     "name": "stdout",
     "output_type": "stream",
     "text": [
      "Product(k**(k*p**k*(-p + 1)**(-k + n)*binomial(n, k)), (k, 0, n))\n"
     ]
    }
   ],
   "source": [
    "print(r)"
   ]
  },
  {
   "cell_type": "code",
   "execution_count": 2,
   "metadata": {},
   "outputs": [],
   "source": [
    "import os\n",
    "\n",
    "import matplotlib as mpl\n",
    "import matplotlib.pyplot as plt\n",
    "from matplotlib.lines import Line2D\n",
    "from matplotlib.legend_handler import HandlerLine2D\n",
    "%matplotlib inline\n",
    "import numpy as np\n",
    "\n",
    "\n",
    "def load_line(file_name, start_idx):\n",
    "    x = []\n",
    "    y = []\n",
    "    with open(file_name) as f:\n",
    "        for line in f.readlines()[start_idx:]:\n",
    "            xx, yy = line.split()\n",
    "            x.append(float(xx))\n",
    "            y.append(float(yy))\n",
    "    return [x, y]\n",
    "\n",
    "\n",
    "def load_lines(file_names, start_idx):\n",
    "    lines = []\n",
    "    for fn in file_names:\n",
    "        lines.append(load_line(fn, start_idx))\n",
    "    return lines\n",
    "\n",
    "\n",
    "def load_groups_of_lines(groups):\n",
    "    lines = {}\n",
    "    for label, specs in groups.items():\n",
    "        lines[label] = load_lines(specs['names'], specs['start_idx'])\n",
    "    return lines\n",
    "\n",
    "\n",
    "def plot_similar_lines(lines, color, lw):\n",
    "    for line in lines:\n",
    "        plt.plot(line[0], line[1], lw=lw, color=color)\n",
    "        \n",
    "        \n",
    "def add_legend(artists, labels, position):\n",
    "    if position == 'outside':\n",
    "        pos_dict = dict(\n",
    "            bbox_to_anchor=(1.05, 1),\n",
    "            loc=2,\n",
    "        )\n",
    "    elif position == 'upper_right':\n",
    "        pos_dict = dict(\n",
    "            bbox_to_anchor=(.95, .95),\n",
    "            loc=1,\n",
    "        )\n",
    "    elif position == 'upper_left':\n",
    "        pos_dict = dict(\n",
    "            bbox_to_anchor=(.05, .95),\n",
    "            loc=2,\n",
    "        )\n",
    "    elif position == 'best':\n",
    "        pos_dict = {'loc': 'best'}\n",
    "    ax = plt.gca()\n",
    "    lgd = ax.legend(\n",
    "        artists,\n",
    "        labels,\n",
    "        **pos_dict,\n",
    "    )\n",
    "    return lgd\n",
    "\n",
    "\n",
    "def form_symlog_kwargs(groups):\n",
    "    x_nonzero_values = []\n",
    "    y_nonzero_values = []\n",
    "    for group_of_lines in groups.values():\n",
    "        for line in group_of_lines:\n",
    "            x_nonzero_values += [x for x in line[0] if x != 0]\n",
    "            y_nonzero_values += [y for y in line[1] if y != 0]\n",
    "    xkwargs = dict(\n",
    "        linthreshx=np.min(np.abs(x_nonzero_values))\n",
    "    )\n",
    "    ykwargs = dict(\n",
    "        linthreshy=np.min(np.abs(y_nonzero_values))\n",
    "    )\n",
    "    return xkwargs, ykwargs\n",
    "\n",
    "\n",
    "def plot_groups_of_lines(\n",
    "        groups,\n",
    "        single_lines,\n",
    "        group_colors,\n",
    "        single_colors,\n",
    "        lw,\n",
    "        xlabel,\n",
    "        ylabel,\n",
    "        xscale,\n",
    "        yscale,\n",
    "        xaxis_format,\n",
    "        start_idx,\n",
    "        legend_position,\n",
    "        dpi,\n",
    "        save_path,\n",
    "        show,\n",
    "):\n",
    "    custom_lines = []\n",
    "    labels = []\n",
    "    for (label, group_of_lines), color in zip(groups.items(), group_colors):\n",
    "        labels.append(label)\n",
    "        custom_lines.append(Line2D([0], [0], color=color, lw=4))\n",
    "        plot_similar_lines(group_of_lines, color, lw)\n",
    "    for (label, line), color in zip(single_lines.items(), single_colors):\n",
    "        labels.append(label)\n",
    "        custom_lines.append(Line2D([0], [0], color=color, lw=4))\n",
    "        plt.plot(line[0][start_idx:], line[1][start_idx:], color=color, lw=lw)\n",
    "    plt.grid(which='both')\n",
    "    plt.xlabel(xlabel)\n",
    "    plt.ylabel(ylabel)\n",
    "    xkwargs, ykwargs = form_symlog_kwargs(groups)\n",
    "    if xscale != 'symlog':\n",
    "        xkwargs = {}    \n",
    "    if yscale != 'symlog':\n",
    "        ykwargs = {}\n",
    "    plt.xscale(xscale, **xkwargs)\n",
    "    plt.yscale(yscale, **ykwargs)\n",
    "    ax = plt.gca()\n",
    "    ax.xaxis.set_major_formatter(xaxis_format)\n",
    "    bbox_extra_artists = [add_legend(custom_lines, labels, legend_position)]\n",
    "    if save_path is not None:\n",
    "        os.makedirs(os.path.split(save_path)[0], exist_ok=True)\n",
    "        plt.savefig(\n",
    "            save_path,\n",
    "            bbox_extra_artists=bbox_extra_artists,\n",
    "            bbox_inches='tight',\n",
    "            dpi=dpi,\n",
    "        )\n",
    "    if show:\n",
    "        plt.show()\n",
    "        \n",
    "        \n",
    "def load_single_lines(file_names):\n",
    "    lines = {}\n",
    "    for label, fn in file_names.items():\n",
    "        lines[label] = load_line(fn, 0)\n",
    "    return lines\n",
    "        \n",
    "        \n",
    "def main(\n",
    "        groups_of_file_names,\n",
    "        file_names,\n",
    "        group_colors,\n",
    "        single_colors,\n",
    "        lw,\n",
    "        xlabel,\n",
    "        ylabel,\n",
    "        xscale,\n",
    "        yscale,\n",
    "        xaxis_format,\n",
    "        start_idx,\n",
    "        legend_position,\n",
    "        dpi,\n",
    "        save_path,\n",
    "        show,\n",
    "):\n",
    "    groups = load_groups_of_lines(groups_of_file_names)\n",
    "    single_lines = load_single_lines(file_names)\n",
    "    plot_groups_of_lines(\n",
    "        groups,\n",
    "        single_lines,\n",
    "        group_colors,\n",
    "        single_colors,\n",
    "        lw,\n",
    "        xlabel,\n",
    "        ylabel,\n",
    "        xscale,\n",
    "        yscale,\n",
    "        xaxis_format,\n",
    "        start_idx,\n",
    "        legend_position,\n",
    "        dpi,\n",
    "        save_path,\n",
    "        show,\n",
    "    )"
   ]
  },
  {
   "cell_type": "code",
   "execution_count": 32,
   "metadata": {},
   "outputs": [
    {
     "name": "stdout",
     "output_type": "stream",
     "text": [
      "['ch100 + w200 posttraining', 'ch100 + w100 posttraining', 'ch100 + w50 posttraining', 'ch100 + w200', 'ch100 + w100', 'ch100 + w50']\n"
     ]
    }
   ],
   "source": [
    "from collections import OrderedDict\n",
    "\n",
    "prefix = 'expres/resrnn/word/restore_tt'\n",
    "prefix2 = 'expres/resrnn/two_branches/tt'\n",
    "postfix = 'results_shifted/loss_valid.txt'\n",
    "postfix2 = 'results/loss_valid.txt'\n",
    "\n",
    "nets = ['ch100_w200', 'ch100_w100', 'ch100_w50']\n",
    "numbers = list(range(10))\n",
    "\n",
    "groups_of_file_names = OrderedDict()\n",
    "for net in nets:\n",
    "    name = net.replace('_', ' + ') + ' posttraining'\n",
    "    groups_of_file_names[name] = {'names': [], 'start_idx': 0}\n",
    "    for i in numbers:\n",
    "        file_name = os.path.join(prefix, net, str(i), postfix)\n",
    "        groups_of_file_names[name]['names'].append(file_name)\n",
    "for net in nets:\n",
    "    name = net.replace('_', ' + ')\n",
    "    groups_of_file_names[name] = {'names': [], 'start_idx': 200}\n",
    "    for i in numbers:\n",
    "        file_name = os.path.join(prefix2, net, str(i), postfix2)\n",
    "        groups_of_file_names[name]['names'].append(file_name)\n",
    "        \n",
    "print(list(groups_of_file_names.keys()))\n",
    "\n",
    "pre_x, pre_y = load_line(os.path.join(prefix, 'loss_pretrain.txt'), 0)"
   ]
  },
  {
   "cell_type": "code",
   "execution_count": 34,
   "metadata": {
    "scrolled": false
   },
   "outputs": [
    {
     "name": "stdout",
     "output_type": "stream",
     "text": [
      "odict_keys(['ch100 + w200 posttraining', 'ch100 + w100 posttraining', 'ch100 + w50 posttraining', 'ch100 + w200', 'ch100 + w100', 'ch100 + w50'])\n"
     ]
    },
    {
     "data": {
      "image/png": "[encoded data removed]",
      "text/plain": [
       "<matplotlib.figure.Figure at 0x7f901783d470>"
      ]
     },
     "metadata": {},
     "output_type": "display_data"
    }
   ],
   "source": [
    "print(groups_of_file_names.keys())\n",
    "\n",
    "main(\n",
    "    groups_of_file_names,\n",
    "    {'pretraining ch100': os.path.join(prefix, 'loss_pretrain.txt')},\n",
    "    ['red', 'green', 'blue', 'pink', 'lime', 'cyan'],\n",
    "    ['black'],\n",
    "    0.2,\n",
    "    'step',\n",
    "    'loss',\n",
    "    'linear',\n",
    "    'linear',\n",
    "    mpl.ticker.EngFormatter(),\n",
    "    200,\n",
    "    'outside',\n",
    "    900,\n",
    "    os.path.join(prefix, 'plots/pre_and_post_training.png'),\n",
    "    True\n",
    ")"
   ]
  },
  {
   "cell_type": "code",
   "execution_count": 9,
   "metadata": {},
   "outputs": [],
   "source": [
    "import pickle\n",
    "from collections import OrderedDict\n",
    "\n",
    "\n",
    "def load_pickle(file_name):\n",
    "    values = []\n",
    "    with open(file_name, 'rb') as f:\n",
    "        while True:\n",
    "            try:\n",
    "                values.append(pickle.load(f))\n",
    "            except EOFError:\n",
    "                break\n",
    "    return values\n",
    "\n",
    "\n",
    "prefix = '/media/anton/DATA/results/h-elmo/expres/entropy/first_experiment/hist'\n",
    "path = 'tensors/valid/accumulator_postprocessing'\n",
    "dirs = [str(i) for i in range(2)]\n",
    "layers = ['level0_0', 'level0_1']\n",
    "labels = OrderedDict(level0_0='char encoder', level0_1='char decoder')\n",
    "\n",
    "entropy_tmpl = 'mean_entropy_{}_hidden_state.pickle'\n",
    "mi_tmpl = 'mean_mi_{}_hidden_state.pickle'\n",
    "\n",
    "path_to_loss = os.path.join(prefix, '0/results/loss_valid.txt')\n",
    "\n",
    "def get_steps(fn):\n",
    "    steps = []\n",
    "    with open(fn) as f:\n",
    "        for line in f.readlines():\n",
    "            step = int(line.split()[0])\n",
    "            steps.append(step)\n",
    "    return steps\n",
    "\n",
    "steps = get_steps(path_to_loss)\n",
    "        \n",
    "entropy_lines = OrderedDict(zip(labels.values(), [[] for _ in layers]))\n",
    "mi_lines = OrderedDict(zip(labels.values(), [[] for _ in layers]))\n",
    "\n",
    "for d in dirs:\n",
    "    for layer in layers:\n",
    "        entropy_fn = entropy_tmpl.format(layer)\n",
    "        entropy_fn = os.path.join(prefix, d, path, entropy_fn)\n",
    "        mi_fn = mi_tmpl.format(layer)\n",
    "        mi_fn = os.path.join(prefix, d, path, mi_fn)\n",
    "        label = labels[layer]\n",
    "        entropy_lines[label].append([steps, load_pickle(entropy_fn)])\n",
    "        mi_lines[label].append([steps, load_pickle(mi_fn)])\n"
   ]
  },
  {
   "cell_type": "code",
   "execution_count": 10,
   "metadata": {},
   "outputs": [
    {
     "data": {
      "image/png": "[encoded data removed]",
      "text/plain": [
       "<Figure size 432x288 with 1 Axes>"
      ]
     },
     "metadata": {
      "needs_background": "light"
     },
     "output_type": "display_data"
    }
   ],
   "source": [
    "save_path = os.path.join(prefix, 'plots/entropy.png')\n",
    "\n",
    "plot_groups_of_lines(\n",
    "    entropy_lines,\n",
    "    {},\n",
    "    ['red', 'blue'],\n",
    "    [],\n",
    "    0.2,\n",
    "    'step',\n",
    "    'bits',\n",
    "    'log',\n",
    "    'linear',\n",
    "    mpl.ticker.ScalarFormatter(),\n",
    "    0,\n",
    "    'best',\n",
    "    900,\n",
    "    save_path,\n",
    "    True,\n",
    ")"
   ]
  },
  {
   "cell_type": "code",
   "execution_count": null,
   "metadata": {},
   "outputs": [],
   "source": [
    "save_path = os.path.join(prefix, 'plots/mi.png')\n",
    "\n",
    "plot_groups_of_lines(\n",
    "    mi_lines,\n",
    "    {},\n",
    "    ['red', 'blue'],\n",
    "    [],\n",
    "    0.2,\n",
    "    'step',\n",
    "    'bits',\n",
    "    'log',\n",
    "    'linear',\n",
    "    mpl.ticker.ScalarFormatter(),\n",
    "    0,\n",
    "    'best',\n",
    "    900,\n",
    "    save_path,\n",
    "    True,\n",
    ")"
   ]
  },
  {
   "cell_type": "code",
   "execution_count": 14,
   "metadata": {},
   "outputs": [
    {
     "name": "stdout",
     "output_type": "stream",
     "text": [
      "-1294967296\n"
     ]
    },
    {
     "name": "stderr",
     "output_type": "stream",
     "text": [
      "/usr/local/lib/python3.5/dist-packages/ipykernel_launcher.py:5: RuntimeWarning: overflow encountered in int_scalars\n",
      "  \"\"\"\n"
     ]
    }
   ],
   "source": [
    "import numpy as np\n",
    "\n",
    "a = np.int32(2*10**9)\n",
    "b = np.int32(10**9)\n",
    "print(a+b)"
   ]
  },
  {
   "cell_type": "code",
   "execution_count": null,
   "metadata": {},
   "outputs": [],
   "source": [
    "for i in range(3):                                                                                                                                                                                                                                                             \n",
    "  for layer in ['level0_0', 'level0_1']:\n",
    "    fn = tmpl.format(i, layer)                                                                                                                                                                                                                                                 \n",
    "    values = load_pickle(fn)                                                                                                                                                                                                                                                   \n",
    "    m = [np.min(v) for v in values]                                                                                                                                                                                                                                            \n",
    "    for mm in m:\n",
    "      if mm < 0:\n",
    "        print(mm)"
   ]
  },
  {
   "cell_type": "code",
   "execution_count": null,
   "metadata": {},
   "outputs": [],
   "source": [
    "for d in {0..2}; do   for l in \"${layers[@]}\";   do     python3 $SCRIPTS/hist2entropy.py ${d}/${path}/hist_fixed^C{l}_hidden_state.pickle ${d}/${path}/entropy_${l}_hidden_state.pickle;     python3 $SCRIPTS/hist2mi.py ${d}/${path}/hist_fixed_${l}_hidden_state.pickle ${d}/${path}/cross_hist_fixed_${l}_hidden_state.pickle ${d}/${path}/mi_${l}_hidden_state.pickle;   done; done"
   ]
  }
 ],
 "metadata": {
  "kernelspec": {
   "display_name": "Python 3",
   "language": "python",
   "name": "python3"
  },
  "language_info": {
   "codemirror_mode": {
    "name": "ipython",
    "version": 3
   },
   "file_extension": ".py",
   "mimetype": "text/x-python",
   "name": "python",
   "nbconvert_exporter": "python",
   "pygments_lexer": "ipython3",
   "version": "3.5.2"
  }
 },
 "nbformat": 4,
 "nbformat_minor": 1
}
