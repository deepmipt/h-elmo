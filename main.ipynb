{
 "cells": [
  {
   "cell_type": "code",
   "execution_count": 2,
   "metadata": {
    "scrolled": false
   },
   "outputs": [
    {
     "name": "stdout",
     "output_type": "stream",
     "text": [
      "/device:GPU:0\n"
     ]
    }
   ],
   "source": [
    "\n",
    "import tensorflow as tf\n",
    "\n",
    "with tf.device('/gpu:0'):\n",
    "    a = tf.zeros([1000, 1000])\n",
    "    print(a.device)"
   ]
  },
  {
   "cell_type": "code",
   "execution_count": 1,
   "metadata": {},
   "outputs": [
    {
     "name": "stdout",
     "output_type": "stream",
     "text": [
      "\n",
      "WARNING: The TensorFlow contrib module will not be included in TensorFlow 2.0.\n",
      "For more information, please see:\n",
      "  * https://github.com/tensorflow/community/blob/master/rfcs/20180907-contrib-sunset.md\n",
      "  * https://github.com/tensorflow/addons\n",
      "If you depend on functionality not listed there, please file an issue.\n",
      "\n",
      "[[[[[1 2]]\n",
      "\n",
      "   [[3 4]]]]\n",
      "\n",
      "\n",
      "\n",
      " [[[[5 6]]\n",
      "\n",
      "   [[7 8]]]]]\n"
     ]
    }
   ],
   "source": [
    "import tensorflow as tf\n",
    "\n",
    "\n",
    "def get_all_values_except_specified(tensor, excluded):\n",
    "    with tf.name_scope('get_all_values_except_specified'):\n",
    "        tensor = tf.reshape(tensor, [-1])\n",
    "        excluded = tf.reshape(excluded, [-1])\n",
    "        excluded_shape = tf.shape(excluded)\n",
    "        tensor_expanded = tf.reshape(tensor, [-1, 1])\n",
    "        multiples = tf.concat([[1], excluded_shape], 0)\n",
    "        tensor_expanded = tf.tile(tensor_expanded, multiples)\n",
    "        masks = tf.cast(tf.equal(tf.cast(tensor_expanded, tf.int32), tf.cast(excluded, tf.int32)), tf.int32)\n",
    "        mask = tf.reduce_sum(masks, [1])\n",
    "        mask = tf.cast(tf.cast(mask, dtype=tf.bool), dtype=tf.int32) - 1\n",
    "        return tf.boolean_mask(tensor, mask)\n",
    "    \n",
    "\n",
    "tensor, num_dims, axes, output = (\n",
    "                    [[[1, 2], [3, 4]], [[5, 6], [7, 8]]],\n",
    "\n",
    "                    5,\n",
    "\n",
    "                    [0, 2, 4],\n",
    "\n",
    "                    [[[[[1, 2]], [[3, 4]]], [[[5, 6]], [[7, 8]]]]],\n",
    "                )\n",
    "\n",
    "if not tf.contrib.framework.is_tensor(tensor):\n",
    "    tensor = tf.constant(tensor)\n",
    "if not tf.contrib.framework.is_tensor(axes):\n",
    "    axes = tf.constant(axes, dtype=tf.int32)\n",
    "sh = tf.shape(tensor, out_type=tf.int32)\n",
    "nd = tf.shape(sh, out_type=tf.int32)[0]\n",
    "assert_axes_smaller_than_num_dims = tf.assert_less(\n",
    "    axes, num_dims, message='`axes` has to be less than `num_dims`')\n",
    "check_num_dims = tf.assert_greater_equal(\n",
    "    num_dims, nd,\n",
    "    message='`num_dims` has to be greater or equal to number of dimensions in `tensor`'\n",
    ")\n",
    "ass_axes_bigger_or_equal_than_num_dims = tf.assert_greater_equal(axes, -num_dims)\n",
    "\n",
    "negative_axes_mask = tf.cast(axes < 0, tf.int32)\n",
    "axes += negative_axes_mask * num_dims\n",
    "\n",
    "ones_for_expansion = tf.ones(tf.reshape(num_dims - nd, [1]), dtype=tf.int32)\n",
    "shape_for_expansion = tf.concat([sh, ones_for_expansion], 0)\n",
    "\n",
    "tensor = tf.reshape(tensor, shape_for_expansion)\n",
    "\n",
    "# remained_axes = get_all_values_except_specified(tf.range(num_dims, dtype=tf.int32), axes)\n",
    "# perm = tf.concat([axes, remained_axes], 0)\n",
    "updates = tf.range(0, num_dims, 1, dtype=tf.int32)\n",
    "remained_positions = get_all_values_except_specified(tf.range(num_dims, dtype=tf.int32), axes)\n",
    "indices = tf.concat([axes, remained_positions], 0)\n",
    "indices = tf.reshape(indices, [-1, 1])\n",
    "perm_shape = tf.reshape(num_dims, [1])\n",
    "perm = tf.scatter_nd(indices, updates, perm_shape)\n",
    "\n",
    "with tf.control_dependencies([check_num_dims, assert_axes_smaller_than_num_dims, ass_axes_bigger_or_equal_than_num_dims]):\n",
    "    tensor = tf.transpose(tensor, perm=perm)\n",
    "    \n",
    "\n",
    "with tf.Session() as sess:\n",
    "    print(sess.run(tensor))"
   ]
  },
  {
   "cell_type": "code",
   "execution_count": 1,
   "metadata": {
    "scrolled": false
   },
   "outputs": [
    {
     "name": "stdout",
     "output_type": "stream",
     "text": [
      "[[-1 -1 -1 -1]\n",
      " [ 1  1  1  1]\n",
      " [ 0  0  0  0]\n",
      " [-1 -1 -1 -1]\n",
      " [ 1  1  1  1]\n",
      " [-1 -1 -1 -1]\n",
      " [ 1  1  1  1]\n",
      " [-1 -1 -1 -1]\n",
      " [ 0  0  0  0]\n",
      " [ 0  0  0  0]\n",
      " [-1 -1 -1 -1]\n",
      " [-1 -1 -1 -1]\n",
      " [-1 -1 -1 -1]\n",
      " [-1 -1 -1 -1]\n",
      " [ 0  0  0  0]\n",
      " [ 1  1  1  1]\n",
      " [ 0  0  0  0]\n",
      " [ 1  1  1  1]\n",
      " [ 0  0  0  0]\n",
      " [ 1  1  1  1]]\n",
      "{'markup': array([-1,  1,  0, -1,  1, -1,  1, -1,  0,  0, -1, -1, -1, -1,  0,  1,  0,\n",
      "        1,  0,  1]), 'relevant_markup': [-1, 1, -1, 1, -1, 1, -1, -1, -1, -1, -1, 1, 1, 1], 'relevant_activations': array([[-1, -1, -1, -1],\n",
      "       [ 1,  1,  1,  1],\n",
      "       [-1, -1, -1, -1],\n",
      "       [ 1,  1,  1,  1],\n",
      "       [-1, -1, -1, -1],\n",
      "       [ 1,  1,  1,  1],\n",
      "       [-1, -1, -1, -1],\n",
      "       [-1, -1, -1, -1],\n",
      "       [-1, -1, -1, -1],\n",
      "       [-1, -1, -1, -1],\n",
      "       [-1, -1, -1, -1],\n",
      "       [ 1,  1,  1,  1],\n",
      "       [ 1,  1,  1,  1],\n",
      "       [ 1,  1,  1,  1]]), 'matches': array([[0.75      , 0.75      , 0.75      , 0.75      ],\n",
      "       [1.33333333, 1.33333333, 1.33333333, 1.33333333],\n",
      "       [0.75      , 0.75      , 0.75      , 0.75      ],\n",
      "       [1.33333333, 1.33333333, 1.33333333, 1.33333333],\n",
      "       [0.75      , 0.75      , 0.75      , 0.75      ],\n",
      "       [1.33333333, 1.33333333, 1.33333333, 1.33333333],\n",
      "       [0.75      , 0.75      , 0.75      , 0.75      ],\n",
      "       [0.75      , 0.75      , 0.75      , 0.75      ],\n",
      "       [0.75      , 0.75      , 0.75      , 0.75      ],\n",
      "       [0.75      , 0.75      , 0.75      , 0.75      ],\n",
      "       [0.75      , 0.75      , 0.75      , 0.75      ],\n",
      "       [1.33333333, 1.33333333, 1.33333333, 1.33333333],\n",
      "       [1.33333333, 1.33333333, 1.33333333, 1.33333333],\n",
      "       [1.33333333, 1.33333333, 1.33333333, 1.33333333]]), 'correlations': array([1., 1., 1., 1.]), 'match_stddevs': array([0., 0., 0., 0., 0., 0., 0., 0., 0., 0., 0., 0., 0., 0.]), 'mean_square_correlation': 1.0000000000000002, 'meta': {'positive': 6, 'negative': 8, 'total': 20}}\n"
     ]
    }
   ],
   "source": [
    "import numpy as np\n",
    "\n",
    "from helmo.util.scripts.text_neuron_correlation import compute_stats\n",
    "\n",
    "num_unrollings = 20\n",
    "num_units = 4\n",
    "\n",
    "# a = np.random.rand(num_units, num_unrollings)\n",
    "\n",
    "m = np.random.choice([-1, 1, 0], num_unrollings)\n",
    "a = np.stack([m]*num_units, 1)\n",
    "print(a)\n",
    "\n",
    "stats = compute_stats(a, m)\n",
    "print(stats)"
   ]
  },
  {
   "cell_type": "code",
   "execution_count": 1,
   "metadata": {},
   "outputs": [
    {
     "data": {
      "text/plain": [
       "False"
      ]
     },
     "execution_count": 1,
     "metadata": {},
     "output_type": "execute_result"
    }
   ],
   "source": [
    "0 == None"
   ]
  },
  {
   "cell_type": "code",
   "execution_count": 3,
   "metadata": {},
   "outputs": [
    {
     "name": "stdout",
     "output_type": "stream",
     "text": [
      "in wrapper\n"
     ]
    },
    {
     "ename": "NameError",
     "evalue": "name 'queue' is not defined",
     "output_type": "error",
     "traceback": [
      "\u001b[0;31m---------------------------------------------------------------------------\u001b[0m",
      "\u001b[0;31mNameError\u001b[0m                                 Traceback (most recent call last)",
      "\u001b[0;32m<ipython-input-3-3ec128235ec1>\u001b[0m in \u001b[0;36m<module>\u001b[0;34m()\u001b[0m\n\u001b[1;32m     19\u001b[0m     \u001b[0;32mreturn\u001b[0m \u001b[0;36m1\u001b[0m\u001b[0;34m\u001b[0m\u001b[0m\n\u001b[1;32m     20\u001b[0m \u001b[0;34m\u001b[0m\u001b[0m\n\u001b[0;32m---> 21\u001b[0;31m \u001b[0mwrapper\u001b[0m\u001b[0;34m(\u001b[0m\u001b[0;34m)\u001b[0m\u001b[0;34m\u001b[0m\u001b[0m\n\u001b[0m",
      "\u001b[0;32m<ipython-input-3-3ec128235ec1>\u001b[0m in \u001b[0;36mwrapper\u001b[0;34m(*args, **kwargs)\u001b[0m\n\u001b[1;32m      7\u001b[0m \u001b[0;32mdef\u001b[0m \u001b[0mwrapper\u001b[0m\u001b[0;34m(\u001b[0m\u001b[0;34m*\u001b[0m\u001b[0margs\u001b[0m\u001b[0;34m,\u001b[0m \u001b[0;34m**\u001b[0m\u001b[0mkwargs\u001b[0m\u001b[0;34m)\u001b[0m\u001b[0;34m:\u001b[0m\u001b[0;34m\u001b[0m\u001b[0m\n\u001b[1;32m      8\u001b[0m     \u001b[0mprint\u001b[0m\u001b[0;34m(\u001b[0m\u001b[0;34m\"in wrapper\"\u001b[0m\u001b[0;34m)\u001b[0m\u001b[0;34m\u001b[0m\u001b[0m\n\u001b[0;32m----> 9\u001b[0;31m     \u001b[0mq\u001b[0m \u001b[0;34m=\u001b[0m \u001b[0mqueue\u001b[0m\u001b[0;34m.\u001b[0m\u001b[0mQueue\u001b[0m\u001b[0;34m(\u001b[0m\u001b[0;34m)\u001b[0m\u001b[0;34m\u001b[0m\u001b[0m\n\u001b[0m\u001b[1;32m     10\u001b[0m     \u001b[0mp\u001b[0m \u001b[0;34m=\u001b[0m \u001b[0mmultiprocessing\u001b[0m\u001b[0;34m.\u001b[0m\u001b[0mProcess\u001b[0m\u001b[0;34m(\u001b[0m\u001b[0mtarget\u001b[0m\u001b[0;34m=\u001b[0m\u001b[0mtarget_function\u001b[0m\u001b[0;34m,\u001b[0m \u001b[0margs\u001b[0m\u001b[0;34m=\u001b[0m\u001b[0mtuple\u001b[0m\u001b[0;34m(\u001b[0m\u001b[0;34m[\u001b[0m\u001b[0mq\u001b[0m\u001b[0;34m]\u001b[0m\u001b[0;34m+\u001b[0m\u001b[0mlist\u001b[0m\u001b[0;34m(\u001b[0m\u001b[0margs\u001b[0m\u001b[0;34m)\u001b[0m\u001b[0;34m)\u001b[0m\u001b[0;34m,\u001b[0m \u001b[0mkwargs\u001b[0m\u001b[0;34m=\u001b[0m\u001b[0mkwargs\u001b[0m\u001b[0;34m)\u001b[0m\u001b[0;34m\u001b[0m\u001b[0m\n\u001b[1;32m     11\u001b[0m     \u001b[0mp\u001b[0m\u001b[0;34m.\u001b[0m\u001b[0mstart\u001b[0m\u001b[0;34m(\u001b[0m\u001b[0;34m)\u001b[0m\u001b[0;34m\u001b[0m\u001b[0m\n",
      "\u001b[0;31mNameError\u001b[0m: name 'queue' is not defined"
     ]
    }
   ],
   "source": [
    "import queue\n",
    "import Multiprocessing\n",
    "\n",
    "def target_function(q, *args, **kwargs):\n",
    "    print(\"in target function\")\n",
    "    res = func(*args, **kwargs)\n",
    "    q.put(res)\n",
    "    print(\"res is put in queue\")\n",
    "\n",
    "def wrapper(*args, **kwargs):\n",
    "    print(\"in wrapper\")\n",
    "    q = queue.Queue()\n",
    "    p = multiprocessing.Process(target=target_function, args=tuple([q]+list(args)), kwargs=kwargs)\n",
    "    p.start()\n",
    "    res = q.get()\n",
    "    print(\"got result\")\n",
    "    p.join()\n",
    "    print(\"joined\")\n",
    "    return res\n",
    "\n",
    "def func():\n",
    "    return 1\n",
    "\n",
    "wrapper()"
   ]
  },
  {
   "cell_type": "code",
   "execution_count": 13,
   "metadata": {},
   "outputs": [
    {
     "name": "stdout",
     "output_type": "stream",
     "text": [
      "(<class 'tensorflow.python.framework.ops._TensorLike'>,)\n",
      "(<class 'tensorflow.python.framework.ops._TensorLike'>,)\n",
      "(<class 'tensorflow.python.training.checkpointable.base.CheckpointableBase'>,)\n"
     ]
    }
   ],
   "source": [
    "import tensorflow as tf\n",
    "\n",
    "print(tf.placeholder(tf.float32).__class__.__bases__)\n",
    "print(tf.zeros([1]).__class__.__bases__)\n",
    "print(tf.Variable(0).__class__.__bases__[0].__bases__[0].__bases__)"
   ]
  },
  {
   "cell_type": "code",
   "execution_count": 1,
   "metadata": {
    "collapsed": true
   },
   "outputs": [],
   "source": [
    "def partition(A, lo, hi):\n",
    "    #print(lo, hi, A)\n",
    "    if A[lo] > A[hi]:\n",
    "        A[lo], A[hi] = A[hi], A[lo]\n",
    "    pivot_1 = A[lo]\n",
    "    pivot_2 = A[hi]\n",
    "    i_1 = lo + 1\n",
    "    i_2 = hi - 1\n",
    "    for j in range(lo + 1, hi):\n",
    "        # print(j, i_1, i_2, A)\n",
    "        if A[j] < pivot_1:\n",
    "            A[i_1], A[j] = A[j], A[i_1]\n",
    "            i_1 += 1\n",
    "        elif A[j] > pivot_2:\n",
    "            while (A[i_2] > pivot_2) and (i_2 > j):\n",
    "                i_2 -= 1\n",
    "            A[i_2], A[j] = A[j], A[i_2]\n",
    "            i_2 -= 1\n",
    "            \n",
    "            if A[j] < pivot_1:\n",
    "                A[i_1], A[j] = A[j], A[i_1]\n",
    "                i_1 += 1\n",
    "\n",
    "        if j >= i_2:\n",
    "            break\n",
    "    i_1 -= 1\n",
    "    i_2 += 1\n",
    "    A[i_1], A[lo] = A[lo], A[i_1]\n",
    "    A[i_2], A[hi] = A[hi], A[i_2]\n",
    "    #print(i_1, i_2, A)\n",
    "    return i_1, i_2\n",
    "\n",
    "def DualPivotQuickSort(A, lo, hi):\n",
    "    if lo < hi:\n",
    "        p_1, p_2 = partition(A, lo, hi)\n",
    "        DualPivotQuickSort(A, lo, p_1 - 1)\n",
    "        DualPivotQuickSort(A, p_1 + 1, p_2 - 1)\n",
    "        DualPivotQuickSort(A, p_2 + 1, hi)\n"
   ]
  },
  {
   "cell_type": "code",
   "execution_count": 5,
   "metadata": {
    "collapsed": true
   },
   "outputs": [],
   "source": [
    "import random\n",
    "\n",
    "\n",
    "\n",
    "for _ in range(100000):\n",
    "    A = [random.randint(0, 20) for _ in range(20)]\n",
    "    a = A.copy()\n",
    "    DualPivotQuickSort(a, 0, len(A) - 1)\n",
    "    assert sorted(A) == a\n"
   ]
  },
  {
   "cell_type": "code",
   "execution_count": 6,
   "metadata": {
    "collapsed": true
   },
   "outputs": [],
   "source": [
    "\n",
    "def union(A, B):\n",
    "    C = []\n",
    "    i_1, i_2 = 0, 0\n",
    "    for _ in range(len(A) + len(B)):\n",
    "        \n",
    "        if i_1 >= len(A):\n",
    "            C += B[i_2:]\n",
    "            break\n",
    "        \n",
    "        if i_2 >= len(B):\n",
    "            C += A[i_1:]\n",
    "            break\n",
    "            \n",
    "        if A[i_1] < B[i_2]:\n",
    "            C.append(A[i_1])\n",
    "            i_1 += 1\n",
    "        elif A[i_1] > B[i_2]:\n",
    "            C.append(B[i_2])\n",
    "            i_2 += 1\n",
    "        else:\n",
    "            C.append(A[i_1])\n",
    "            i_1 += 1\n",
    "            i_2 += 1\n",
    "            \n",
    "    return C"
   ]
  },
  {
   "cell_type": "code",
   "execution_count": 8,
   "metadata": {},
   "outputs": [
    {
     "data": {
      "text/plain": [
       "[1, 3, 5, 6, 7]"
      ]
     },
     "execution_count": 8,
     "metadata": {},
     "output_type": "execute_result"
    }
   ],
   "source": [
    "union([ 3, 5, 6, 7], [1, 3])"
   ]
  },
  {
   "cell_type": "code",
   "execution_count": 12,
   "metadata": {},
   "outputs": [
    {
     "name": "stdout",
     "output_type": "stream",
     "text": [
      "[83, 51, 94, 75, 23, 32, 25, 44, 89, 90]\n"
     ]
    }
   ],
   "source": [
    "def partition(A,lo,hi): \n",
    "    \n",
    "   \n",
    "    if lo < hi:\n",
    "        if A[lo] > A[hi]:\n",
    "            A[lo],A[hi] = A[hi], A[lo]\n",
    "        lp = lo + 1\n",
    "        rp = hi - 1 \n",
    "        piv1 = A[lo]\n",
    "        piv2 = A[hi]  \n",
    "            \n",
    "        for j in range(lo + 1, hi):\n",
    "        # print(j, i_1, i_2, A)\n",
    "            if A[j] < piv1:\n",
    "                A[lp], A[j] = A[j], A[lp]\n",
    "                lp += 1\n",
    "            elif A[j] > piv2:\n",
    "                while (A[rp] > piv2) and (rp > j):\n",
    "                    rp -= 1\n",
    "                A[rp], A[j] = A[j], A[rp]\n",
    "                rp -= 1\n",
    "\n",
    "            if A[j] < piv1:\n",
    "                    A[lp], A[j] = A[j], A[lp]\n",
    "                    lp += 1\n",
    "\n",
    "            if j >= rp:\n",
    "                break\n",
    "        lp -= 1\n",
    "        rp += 1\n",
    "        A[lp], A[lo] = A[lo], A[lp]\n",
    "        A[rp], A[hi] = A[hi], A[rp]\n",
    "        #print(i_1, i_2, A)\n",
    "        return lp, rp\n",
    "\n",
    "            \n",
    "def DualPivotQuickSort(A, lo, hi):\n",
    "   # def partition(arr, low, high, lp):\n",
    "        \n",
    "    if lo < hi: \n",
    "        #// lp means left pivot, and rp means right pivot. \n",
    "        #lp, rp  \n",
    "        p1,p2 = partition(A, lo, hi)\n",
    "        DualPivotQuickSort(A, lo, p1 - 1)\n",
    "        DualPivotQuickSort(A, p1 + 1, p2 - 1)\n",
    "        DualPivotQuickSort(A, p2 + 1, hi)\n",
    "   # return a\n",
    "\n",
    "num_tests = 1000\n",
    "for _ in range(num_tests):\n",
    "    try:\n",
    "        a = [random.randint(0, 100) for _ in range(10)]\n",
    "        a1 = a.copy()\n",
    "        DualPivotQuickSort(a, 0, len(a)-1)\n",
    "        if a != sorted(a1):\n",
    "            print(a1)\n",
    "    except IndexError:\n",
    "        print(a1)\n",
    "        break"
   ]
  },
  {
   "cell_type": "code",
   "execution_count": null,
   "metadata": {
    "collapsed": true
   },
   "outputs": [],
   "source": []
  }
 ],
 "metadata": {
  "kernelspec": {
   "display_name": "Python 3",
   "language": "python",
   "name": "python3"
  },
  "language_info": {
   "codemirror_mode": {
    "name": "ipython",
    "version": 3
   },
   "file_extension": ".py",
   "mimetype": "text/x-python",
   "name": "python",
   "nbconvert_exporter": "python",
   "pygments_lexer": "ipython3",
   "version": "3.6.3"
  }
 },
 "nbformat": 4,
 "nbformat_minor": 1
}
