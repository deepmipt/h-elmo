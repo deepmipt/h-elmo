{
 "cells": [
  {
   "cell_type": "code",
   "execution_count": 9,
   "metadata": {
    "collapsed": true,
    "scrolled": false
   },
   "outputs": [],
   "source": [
    "def get_relevant_activations(data, markup_for_tag):\n",
    "    result = []\n",
    "    for i, tag in enumerate(markup_for_tag):\n",
    "        if tag != 0:\n",
    "            result.append(data[i])\n",
    "    return np.stack(result)\n",
    "\n",
    "\n",
    "def get_matches(activations, markup):\n",
    "    markup = np.array(markup)\n",
    "    markup_devs = markup - np.mean(markup)\n",
    "    activation_devs = activations - np.mean(activations, 0, keepdims=True)\n",
    "    activation_stddevs = np.std(activations, 0, ddof=1, keepdims=True)\n",
    "    markup_stddev = np.std(markup, ddof=1)\n",
    "    activation_dev_fractions = activation_devs / (activation_stddevs + 1e-20)\n",
    "    markup_dev_fractions = markup_devs / (markup_stddev + 1e-20)\n",
    "    return activation_dev_fractions * np.reshape(markup_dev_fractions, [-1, 1])\n",
    "\n",
    "\n",
    "def compute_stats(data, markup_for_tag):\n",
    "    markup_for_tag = np.array(markup_for_tag)\n",
    "    stats = {}\n",
    "    stats['markup'] = markup_for_tag\n",
    "    stats['relevant_markup'] = list(filter(lambda x: x != 0, markup_for_tag))\n",
    "    stats['relevant_activations'] = get_relevant_activations(data, markup_for_tag)\n",
    "    stats['matches'] = get_matches(stats['relevant_activations'], stats['relevant_markup'])\n",
    "    stats['correlations'] = np.mean(stats['matches'], 0)\n",
    "    assert stats['correlations'].ndim == 1\n",
    "    stats['match_stddevs'] = np.std(stats['matches'], 0)\n",
    "    stats['mean_square_correlation'] = np.sqrt(np.mean(stats['correlations']**2))\n",
    "    stats['meta'] = {\n",
    "        \"positive\": np.count_nonzero(markup_for_tag == 1),\n",
    "        \"negative\": np.count_nonzero(markup_for_tag == -1),\n",
    "        \"total\": len(stats['markup']),\n",
    "    }\n",
    "    return stats"
   ]
  },
  {
   "cell_type": "code",
   "execution_count": 11,
   "metadata": {
    "collapsed": true
   },
   "outputs": [],
   "source": [
    "import os\n",
    "import pickle\n",
    "import numpy as np\n",
    "\n",
    "os.makedirs('test', exist_ok=True)\n",
    "\n",
    "with open(\"test/test.pickle\", 'wb') as f:\n",
    "    pickle.dump(np.array([[4]*10]*50), f)"
   ]
  },
  {
   "cell_type": "code",
   "execution_count": 12,
   "metadata": {},
   "outputs": [
    {
     "name": "stdout",
     "output_type": "stream",
     "text": [
      "итого 8\r\n",
      "-rw-rw-r-- 1 anton anton 4160 июн  7 11:29 test.pickle\r\n"
     ]
    }
   ],
   "source": [
    "! ls -l test"
   ]
  },
  {
   "cell_type": "code",
   "execution_count": 5,
   "metadata": {},
   "outputs": [
    {
     "name": "stdout",
     "output_type": "stream",
     "text": [
      "[5 0]\n"
     ]
    }
   ],
   "source": [
    "import tensorflow as tf\n",
    "\n",
    "def get_axis_quarters(tensor):\n",
    "    last_dim = tf.shape(tensor, out_type=tf.float32)[-1]\n",
    "    exponents = tf.range(0., last_dim, 1., dtype=tf.float32)\n",
    "    powers = tf.math.pow(2., exponents)\n",
    "    binary_format = tf.cast(tensor > 0, tf.float32)\n",
    "    linear_combination = powers * binary_format\n",
    "    numbers = tf.reduce_sum(linear_combination, axis=-1)\n",
    "    return tf.cast(numbers, tf.int32)\n",
    "\n",
    "tensor = tf.constant(\n",
    "    [[1, -1, 1],\n",
    "     [-1, -1, -1]]\n",
    ")\n",
    "\n",
    "axis_quarters = get_axis_quarters(tensor)\n",
    "\n",
    "with tf.Session() as sess:\n",
    "    print(sess.run(axis_quarters))"
   ]
  },
  {
   "cell_type": "code",
   "execution_count": 1,
   "metadata": {
    "collapsed": true
   },
   "outputs": [],
   "source": [
    "import pickle\n",
    "import numpy as np\n",
    "\n",
    "prefix = '/media/anton/DATA/results/h-elmo/expres/resrnn/poscorr/4/9/corr/level1_1/NNS'\n",
    "\n",
    "tmpl = os.path.join(prefix, '{}.pickle')"
   ]
  },
  {
   "cell_type": "code",
   "execution_count": null,
   "metadata": {
    "collapsed": true
   },
   "outputs": [],
   "source": [
    "file_name = tmpl.format('correlations')\n",
    "with open(file_name, 'rb') as f:\n",
    "    corr = pickle.load(f)\n",
    "    \n",
    "print(max(corr))\n",
    "print(np.argmax(corr))"
   ]
  },
  {
   "cell_type": "code",
   "execution_count": 1,
   "metadata": {},
   "outputs": [
    {
     "name": "stdout",
     "output_type": "stream",
     "text": [
      "Counter({1: 1, 2: 1, 3: 1})\n"
     ]
    }
   ],
   "source": [
    "from collections import Counter\n",
    "import numpy as np\n",
    "\n",
    "a = np.array([1, 2, 3])\n",
    "\n",
    "c = Counter(a)\n",
    "print(c)"
   ]
  },
  {
   "cell_type": "code",
   "execution_count": 3,
   "metadata": {},
   "outputs": [
    {
     "name": "stdout",
     "output_type": "stream",
     "text": [
      "[ 0.08246549  0.02131961  0.08308583 ... -0.55830922  0.02906624\n",
      "  0.02100856]\n",
      "18.750923953380248\n",
      "50567\n",
      "-13.644160917601068\n",
      "52351\n"
     ]
    }
   ],
   "source": [
    "matches = tmpl.format('matches')\n",
    "with open(matches, 'rb') as f:\n",
    "    m = pickle.load(f)\n",
    "\n",
    "m62 = m[:, 62]\n",
    "print(m62)\n",
    "print(max(m62))\n",
    "print(np.argmax(m62))\n",
    "print(min(m62))\n",
    "print(np.argmin(m62))"
   ]
  },
  {
   "cell_type": "code",
   "execution_count": 4,
   "metadata": {},
   "outputs": [
    {
     "name": "stdout",
     "output_type": "stream",
     "text": [
      "2.387342495802599\n"
     ]
    }
   ],
   "source": [
    "print(np.std(m62))"
   ]
  },
  {
   "cell_type": "code",
   "execution_count": 5,
   "metadata": {
    "collapsed": true
   },
   "outputs": [],
   "source": [
    "import matplotlib.pyplot as plt\n",
    "%matplotlib inline"
   ]
  },
  {
   "cell_type": "code",
   "execution_count": 6,
   "metadata": {},
   "outputs": [
    {
     "data": {
      "image/png": "[encoded data removed]",
      "text/plain": [
       "<Figure size 432x288 with 1 Axes>"
      ]
     },
     "metadata": {
      "needs_background": "light"
     },
     "output_type": "display_data"
    }
   ],
   "source": [
    "threshold = 0\n",
    "f1 = m62[m62 > threshold]\n",
    "f2 = m62[m62 <= -threshold]\n",
    "filtered = np.concatenate([f1, f2])\n",
    "plt.hist(filtered, bins=100, density=True)\n",
    "plt.grid()\n",
    "plt.yscale('log')\n",
    "plt.xlabel('matches')\n",
    "\n",
    "plt.show()"
   ]
  },
  {
   "cell_type": "code",
   "execution_count": 2,
   "metadata": {
    "collapsed": true
   },
   "outputs": [],
   "source": [
    "act = tmpl.format('relevant_activations')\n",
    "with open(act, 'rb') as f:\n",
    "    act = pickle.load(f)"
   ]
  },
  {
   "cell_type": "code",
   "execution_count": 3,
   "metadata": {
    "collapsed": true
   },
   "outputs": [],
   "source": [
    "markup = tmpl.format('relevant_markup')\n",
    "with open(markup, 'rb') as f:\n",
    "    markup = pickle.load(f)"
   ]
  },
  {
   "cell_type": "code",
   "execution_count": 4,
   "metadata": {
    "collapsed": true
   },
   "outputs": [],
   "source": [
    "act62 = act[:, 62]"
   ]
  },
  {
   "cell_type": "code",
   "execution_count": 8,
   "metadata": {
    "scrolled": true
   },
   "outputs": [
    {
     "data": {
      "image/png": "[encoded data removed]",
      "text/plain": [
       "<Figure size 432x288 with 1 Axes>"
      ]
     },
     "metadata": {
      "needs_background": "light"
     },
     "output_type": "display_data"
    }
   ],
   "source": [
    "\n",
    "plt.hist(act62, bins=100, density=True)\n",
    "plt.grid()\n",
    "plt.yscale('log')\n",
    "plt.xlabel('activations')\n",
    "\n",
    "plt.show()"
   ]
  },
  {
   "cell_type": "code",
   "execution_count": 5,
   "metadata": {},
   "outputs": [
    {
     "ename": "NameError",
     "evalue": "name 'm62' is not defined",
     "output_type": "error",
     "traceback": [
      "\u001b[0;31m---------------------------------------------------------------------------\u001b[0m",
      "\u001b[0;31mNameError\u001b[0m                                 Traceback (most recent call last)",
      "\u001b[0;32m<ipython-input-5-934192da9a6c>\u001b[0m in \u001b[0;36m<module>\u001b[0;34m\u001b[0m\n\u001b[1;32m      1\u001b[0m \u001b[0;32mfrom\u001b[0m \u001b[0mhelmo\u001b[0m\u001b[0;34m.\u001b[0m\u001b[0mutil\u001b[0m\u001b[0;34m.\u001b[0m\u001b[0mplot\u001b[0m\u001b[0;34m.\u001b[0m\u001b[0mplot_helpers\u001b[0m \u001b[0;32mimport\u001b[0m \u001b[0mdensity_plot\u001b[0m\u001b[0;34m\u001b[0m\u001b[0m\n\u001b[1;32m      2\u001b[0m \u001b[0;34m\u001b[0m\u001b[0m\n\u001b[0;32m----> 3\u001b[0;31m \u001b[0mdensity_plot\u001b[0m\u001b[0;34m(\u001b[0m\u001b[0mm62\u001b[0m\u001b[0;34m,\u001b[0m \u001b[0;36m0.001\u001b[0m\u001b[0;34m,\u001b[0m \u001b[0;32mNone\u001b[0m\u001b[0;34m,\u001b[0m \u001b[0;34m'blue'\u001b[0m\u001b[0;34m)\u001b[0m\u001b[0;34m\u001b[0m\u001b[0m\n\u001b[0m\u001b[1;32m      4\u001b[0m \u001b[0mplt\u001b[0m\u001b[0;34m.\u001b[0m\u001b[0myscale\u001b[0m\u001b[0;34m(\u001b[0m\u001b[0;34m'log'\u001b[0m\u001b[0;34m)\u001b[0m\u001b[0;34m\u001b[0m\u001b[0m\n\u001b[1;32m      5\u001b[0m \u001b[0mplt\u001b[0m\u001b[0;34m.\u001b[0m\u001b[0mxlabel\u001b[0m\u001b[0;34m(\u001b[0m\u001b[0;34m'matches'\u001b[0m\u001b[0;34m)\u001b[0m\u001b[0;34m\u001b[0m\u001b[0m\n",
      "\u001b[0;31mNameError\u001b[0m: name 'm62' is not defined"
     ]
    }
   ],
   "source": [
    "from helmo.util.plot.plot_helpers import density_plot\n",
    "\n",
    "density_plot(m62, 0.001, None, 'blue')\n",
    "plt.yscale('log')\n",
    "plt.xlabel('matches')\n",
    "plt.ylabel('density')\n",
    "plt.grid()\n",
    "plt.savefig(\n",
    "    '/media/anton/DATA/results/h-elmo/expres/resrnn/poscorr/4/9/corr/level1_1/NNS/plots/matches.png',\n",
    "    dpi=900\n",
    ")\n",
    "plt.show()"
   ]
  },
  {
   "cell_type": "code",
   "execution_count": 19,
   "metadata": {},
   "outputs": [
    {
     "data": {
      "image/png": "[encoded data removed]",
      "text/plain": [
       "<Figure size 432x288 with 1 Axes>"
      ]
     },
     "metadata": {
      "needs_background": "light"
     },
     "output_type": "display_data"
    }
   ],
   "source": [
    "from helmo.util.plot.plot_helpers import density_plot\n",
    "\n",
    "density_plot(act62, 0.0001, None, 'blue')\n",
    "plt.yscale('log')\n",
    "plt.xlabel('activations')\n",
    "plt.ylabel('density')\n",
    "plt.grid()\n",
    "plt.savefig(\n",
    "    '/media/anton/DATA/results/h-elmo/expres/resrnn/poscorr/4/9/corr/level1_1/NNS/plots/activations.png',\n",
    "    dpi=900\n",
    ")\n",
    "plt.show()"
   ]
  },
  {
   "cell_type": "code",
   "execution_count": 7,
   "metadata": {
    "collapsed": true
   },
   "outputs": [],
   "source": [
    "from helmo.util.plot.plot_helpers import density_plot\n",
    "\n",
    "selected_indices = np.array(np.array(markup) + 1, dtype=bool)"
   ]
  },
  {
   "cell_type": "code",
   "execution_count": 8,
   "metadata": {
    "collapsed": true
   },
   "outputs": [],
   "source": [
    "nns_act62 = act62[selected_indices]"
   ]
  },
  {
   "cell_type": "code",
   "execution_count": 9,
   "metadata": {},
   "outputs": [
    {
     "name": "stdout",
     "output_type": "stream",
     "text": [
      "(7996,)\n",
      "[ 0.03987525  0.24359564  0.13936374  0.01275242  0.33905667  0.23092057\n",
      "  0.49802893  0.7179312   0.6440741   0.72047305  0.68238884  0.27751622\n",
      "  0.7226443   0.66829014  0.6769268   0.35996893  0.62734854  0.4216515\n",
      "  0.53920376 -0.07121509  0.5742651   0.7341397   0.23616292  0.7350702\n",
      "  0.13083465  0.35654765  0.5455406   0.41869763  0.5783358   0.61539644\n",
      "  0.6135536   0.62634987  0.23542795  0.21027555  0.6333601   0.036227\n",
      "  0.43719196  0.35494202  0.13239472  0.6450477   0.7428283   0.7066073\n",
      "  0.6975089   0.28573078  0.42003262  0.20334533  0.45254168  0.40931424\n",
      "  0.15804431  0.5475083   0.12762508  0.30116114  0.46461856  0.6587762\n",
      "  0.34424582  0.47947675  0.7382973   0.43743163  0.48655224  0.3983338\n",
      "  0.6633929   0.5986025   0.6500519   0.72113675  0.61620504  0.70613456\n",
      "  0.02858962  0.5844811   0.5168905   0.2948563   0.41682157  0.40695137\n",
      "  0.5016543   0.3709565   0.7006538   0.62645507 -0.00999689  0.631873\n",
      "  0.37047824  0.10538723 -0.12101641  0.3286183   0.73879755  0.419461\n",
      " -0.18268616  0.48435506  0.57082313  0.4695439   0.66903937  0.2646437\n",
      "  0.5649067   0.57630575  0.02788873  0.572275    0.13611141  0.40970537\n",
      "  0.40464735  0.66551423  0.59703594  0.6573207 ]\n"
     ]
    }
   ],
   "source": [
    "import numpy as np\n",
    "\n",
    "print(nns_act62.shape)\n",
    "print(nns_act62[:100])\n",
    "min_ = np.min(act62)\n",
    "max_ = np.max(act62)"
   ]
  },
  {
   "cell_type": "code",
   "execution_count": 13,
   "metadata": {
    "scrolled": true
   },
   "outputs": [
    {
     "data": {
      "image/png": "[encoded data removed]",
      "text/plain": [
       "<Figure size 432x288 with 1 Axes>"
      ]
     },
     "metadata": {
      "needs_background": "light"
     },
     "output_type": "display_data"
    }
   ],
   "source": [
    "import os\n",
    "\n",
    "import matplotlib.pyplot as plt\n",
    "\n",
    "density_plot(act62, 0.0001, 'all activations', 'blue')\n",
    "density_plot(nns_act62, 0.0001, 'NNS activations', 'red', [min_, max_])\n",
    "plt.yscale('log')\n",
    "plt.xlabel('activations')\n",
    "plt.ylabel('density')\n",
    "plt.grid()\n",
    "plt.legend(loc='best')\n",
    "plt.savefig(\n",
    "    os.path.join(prefix, 'plots/activations_and_nns_activations.png'),\n",
    "    dpi=900\n",
    ")\n",
    "plt.show()"
   ]
  },
  {
   "cell_type": "code",
   "execution_count": 15,
   "metadata": {},
   "outputs": [
    {
     "name": "stderr",
     "output_type": "stream",
     "text": [
      "/usr/local/lib/python3.5/dist-packages/ipykernel_launcher.py:2: RuntimeWarning: divide by zero encountered in double_scalars\n",
      "  \n",
      "/usr/local/lib/python3.5/dist-packages/ipykernel_launcher.py:2: RuntimeWarning: divide by zero encountered in log\n",
      "  \n"
     ]
    },
    {
     "data": {
      "image/png": "[encoded data removed]",
      "text/plain": [
       "<Figure size 432x288 with 1 Axes>"
      ]
     },
     "metadata": {
      "needs_background": "light"
     },
     "output_type": "display_data"
    }
   ],
   "source": [
    "x = [0.01*i for i in range(-200, 200)]\n",
    "y = [1 / np.log(abs(xx-1.)) for xx in x]\n",
    "\n",
    "plt.plot(x, y)\n",
    "plt.show()"
   ]
  },
  {
   "cell_type": "code",
   "execution_count": null,
   "metadata": {
    "collapsed": true
   },
   "outputs": [],
   "source": []
  },
  {
   "cell_type": "code",
   "execution_count": 171,
   "metadata": {
    "collapsed": true
   },
   "outputs": [],
   "source": [
    "! export PYTHONPATH=\"~/h-elmo:~/learning-to-learn\""
   ]
  },
  {
   "cell_type": "code",
   "execution_count": 173,
   "metadata": {},
   "outputs": [
    {
     "name": "stdout",
     "output_type": "stream",
     "text": [
      "\r\n"
     ]
    }
   ],
   "source": [
    "! echo $PYTHONPATH"
   ]
  },
  {
   "cell_type": "code",
   "execution_count": 25,
   "metadata": {},
   "outputs": [
    {
     "data": {
      "image/png": "[encoded data removed]",
      "text/plain": [
       "<Figure size 432x288 with 1 Axes>"
      ]
     },
     "metadata": {
      "needs_background": "light"
     },
     "output_type": "display_data"
    }
   ],
   "source": [
    "f1 = m[m > 1.]\n",
    "f2 = m[m < -1.]\n",
    "filtered = np.concatenate([f1, f2])\n",
    "plt.hist(filtered, bins=1000, density=True)\n",
    "plt.grid()\n",
    "plt.show()"
   ]
  },
  {
   "cell_type": "code",
   "execution_count": null,
   "metadata": {
    "collapsed": true
   },
   "outputs": [],
   "source": [
    "tmpl = '/media/anton/DATA/results/h-elmo/expres/resrnn/poscorr/4/9/corr/level0_0/NNS/{}.pickle'\n",
    "matches = tmpl.format('matches')\n",
    "with open(matches, 'rb') as f:\n",
    "    m = pickle.load(f)"
   ]
  },
  {
   "cell_type": "code",
   "execution_count": null,
   "metadata": {
    "collapsed": true
   },
   "outputs": [],
   "source": []
  },
  {
   "cell_type": "code",
   "execution_count": null,
   "metadata": {
    "collapsed": true
   },
   "outputs": [],
   "source": [
    "act = tmpl.format('activations')\n",
    "with open(act, 'rb') as f:\n",
    "    a = pickle.load(f)\n",
    "    \n"
   ]
  },
  {
   "cell_type": "code",
   "execution_count": null,
   "metadata": {
    "collapsed": true
   },
   "outputs": [],
   "source": [
    "stddevs = tmpl.format('match_stddevs')\n",
    "with open(stddevs, 'rb') as f:\n",
    "    std = pickle.load(f)\n",
    "\n",
    "print(std)\n",
    "print(max(std))\n",
    "print(np.argmax(std))"
   ]
  },
  {
   "cell_type": "code",
   "execution_count": 1,
   "metadata": {},
   "outputs": [
    {
     "name": "stdout",
     "output_type": "stream",
     "text": [
      "\n",
      "WARNING: The TensorFlow contrib module will not be included in TensorFlow 2.0.\n",
      "For more information, please see:\n",
      "  * https://github.com/tensorflow/community/blob/master/rfcs/20180907-contrib-sunset.md\n",
      "  * https://github.com/tensorflow/addons\n",
      "If you depend on functionality not listed there, please file an issue.\n",
      "\n",
      "[[[[[1 2]]\n",
      "\n",
      "   [[3 4]]]]\n",
      "\n",
      "\n",
      "\n",
      " [[[[5 6]]\n",
      "\n",
      "   [[7 8]]]]]\n"
     ]
    }
   ],
   "source": [
    "import tensorflow as tf\n",
    "\n",
    "\n",
    "def get_all_values_except_specified(tensor, excluded):\n",
    "    with tf.name_scope('get_all_values_except_specified'):\n",
    "        tensor = tf.reshape(tensor, [-1])\n",
    "        excluded = tf.reshape(excluded, [-1])\n",
    "        excluded_shape = tf.shape(excluded)\n",
    "        tensor_expanded = tf.reshape(tensor, [-1, 1])\n",
    "        multiples = tf.concat([[1], excluded_shape], 0)\n",
    "        tensor_expanded = tf.tile(tensor_expanded, multiples)\n",
    "        masks = tf.cast(tf.equal(tf.cast(tensor_expanded, tf.int32), tf.cast(excluded, tf.int32)), tf.int32)\n",
    "        mask = tf.reduce_sum(masks, [1])\n",
    "        mask = tf.cast(tf.cast(mask, dtype=tf.bool), dtype=tf.int32) - 1\n",
    "        return tf.boolean_mask(tensor, mask)\n",
    "    \n",
    "\n",
    "tensor, num_dims, axes, output = (\n",
    "                    [[[1, 2], [3, 4]], [[5, 6], [7, 8]]],\n",
    "\n",
    "                    5,\n",
    "\n",
    "                    [0, 2, 4],\n",
    "\n",
    "                    [[[[[1, 2]], [[3, 4]]], [[[5, 6]], [[7, 8]]]]],\n",
    "                )\n",
    "\n",
    "if not tf.contrib.framework.is_tensor(tensor):\n",
    "    tensor = tf.constant(tensor)\n",
    "if not tf.contrib.framework.is_tensor(axes):\n",
    "    axes = tf.constant(axes, dtype=tf.int32)\n",
    "sh = tf.shape(tensor, out_type=tf.int32)\n",
    "nd = tf.shape(sh, out_type=tf.int32)[0]\n",
    "assert_axes_smaller_than_num_dims = tf.assert_less(\n",
    "    axes, num_dims, message='`axes` has to be less than `num_dims`')\n",
    "check_num_dims = tf.assert_greater_equal(\n",
    "    num_dims, nd,\n",
    "    message='`num_dims` has to be greater or equal to number of dimensions in `tensor`'\n",
    ")\n",
    "ass_axes_bigger_or_equal_than_num_dims = tf.assert_greater_equal(axes, -num_dims)\n",
    "\n",
    "negative_axes_mask = tf.cast(axes < 0, tf.int32)\n",
    "axes += negative_axes_mask * num_dims\n",
    "\n",
    "ones_for_expansion = tf.ones(tf.reshape(num_dims - nd, [1]), dtype=tf.int32)\n",
    "shape_for_expansion = tf.concat([sh, ones_for_expansion], 0)\n",
    "\n",
    "tensor = tf.reshape(tensor, shape_for_expansion)\n",
    "\n",
    "# remained_axes = get_all_values_except_specified(tf.range(num_dims, dtype=tf.int32), axes)\n",
    "# perm = tf.concat([axes, remained_axes], 0)\n",
    "updates = tf.range(0, num_dims, 1, dtype=tf.int32)\n",
    "remained_positions = get_all_values_except_specified(tf.range(num_dims, dtype=tf.int32), axes)\n",
    "indices = tf.concat([axes, remained_positions], 0)\n",
    "indices = tf.reshape(indices, [-1, 1])\n",
    "perm_shape = tf.reshape(num_dims, [1])\n",
    "perm = tf.scatter_nd(indices, updates, perm_shape)\n",
    "\n",
    "with tf.control_dependencies([check_num_dims, assert_axes_smaller_than_num_dims, ass_axes_bigger_or_equal_than_num_dims]):\n",
    "    tensor = tf.transpose(tensor, perm=perm)\n",
    "    \n",
    "\n",
    "with tf.Session() as sess:\n",
    "    print(sess.run(tensor))"
   ]
  },
  {
   "cell_type": "code",
   "execution_count": 1,
   "metadata": {
    "scrolled": false
   },
   "outputs": [
    {
     "name": "stdout",
     "output_type": "stream",
     "text": [
      "[[-1 -1 -1 -1]\n",
      " [ 1  1  1  1]\n",
      " [ 0  0  0  0]\n",
      " [-1 -1 -1 -1]\n",
      " [ 1  1  1  1]\n",
      " [-1 -1 -1 -1]\n",
      " [ 1  1  1  1]\n",
      " [-1 -1 -1 -1]\n",
      " [ 0  0  0  0]\n",
      " [ 0  0  0  0]\n",
      " [-1 -1 -1 -1]\n",
      " [-1 -1 -1 -1]\n",
      " [-1 -1 -1 -1]\n",
      " [-1 -1 -1 -1]\n",
      " [ 0  0  0  0]\n",
      " [ 1  1  1  1]\n",
      " [ 0  0  0  0]\n",
      " [ 1  1  1  1]\n",
      " [ 0  0  0  0]\n",
      " [ 1  1  1  1]]\n",
      "{'markup': array([-1,  1,  0, -1,  1, -1,  1, -1,  0,  0, -1, -1, -1, -1,  0,  1,  0,\n",
      "        1,  0,  1]), 'relevant_markup': [-1, 1, -1, 1, -1, 1, -1, -1, -1, -1, -1, 1, 1, 1], 'relevant_activations': array([[-1, -1, -1, -1],\n",
      "       [ 1,  1,  1,  1],\n",
      "       [-1, -1, -1, -1],\n",
      "       [ 1,  1,  1,  1],\n",
      "       [-1, -1, -1, -1],\n",
      "       [ 1,  1,  1,  1],\n",
      "       [-1, -1, -1, -1],\n",
      "       [-1, -1, -1, -1],\n",
      "       [-1, -1, -1, -1],\n",
      "       [-1, -1, -1, -1],\n",
      "       [-1, -1, -1, -1],\n",
      "       [ 1,  1,  1,  1],\n",
      "       [ 1,  1,  1,  1],\n",
      "       [ 1,  1,  1,  1]]), 'matches': array([[0.75      , 0.75      , 0.75      , 0.75      ],\n",
      "       [1.33333333, 1.33333333, 1.33333333, 1.33333333],\n",
      "       [0.75      , 0.75      , 0.75      , 0.75      ],\n",
      "       [1.33333333, 1.33333333, 1.33333333, 1.33333333],\n",
      "       [0.75      , 0.75      , 0.75      , 0.75      ],\n",
      "       [1.33333333, 1.33333333, 1.33333333, 1.33333333],\n",
      "       [0.75      , 0.75      , 0.75      , 0.75      ],\n",
      "       [0.75      , 0.75      , 0.75      , 0.75      ],\n",
      "       [0.75      , 0.75      , 0.75      , 0.75      ],\n",
      "       [0.75      , 0.75      , 0.75      , 0.75      ],\n",
      "       [0.75      , 0.75      , 0.75      , 0.75      ],\n",
      "       [1.33333333, 1.33333333, 1.33333333, 1.33333333],\n",
      "       [1.33333333, 1.33333333, 1.33333333, 1.33333333],\n",
      "       [1.33333333, 1.33333333, 1.33333333, 1.33333333]]), 'correlations': array([1., 1., 1., 1.]), 'match_stddevs': array([0., 0., 0., 0., 0., 0., 0., 0., 0., 0., 0., 0., 0., 0.]), 'mean_square_correlation': 1.0000000000000002, 'meta': {'positive': 6, 'negative': 8, 'total': 20}}\n"
     ]
    }
   ],
   "source": [
    "import numpy as np\n",
    "\n",
    "from helmo.util.scripts.text_neuron_correlation import compute_stats\n",
    "\n",
    "num_unrollings = 20\n",
    "num_units = 4\n",
    "\n",
    "# a = np.random.rand(num_units, num_unrollings)\n",
    "\n",
    "m = np.random.choice([-1, 1, 0], num_unrollings)\n",
    "a = np.stack([m]*num_units, 1)\n",
    "print(a)\n",
    "\n",
    "stats = compute_stats(a, m)\n",
    "print(stats)"
   ]
  },
  {
   "cell_type": "code",
   "execution_count": 161,
   "metadata": {},
   "outputs": [
    {
     "name": "stdout",
     "output_type": "stream",
     "text": [
      "0.0 None\n",
      "0.01 -2\n",
      "0.02 -2\n",
      "0.03 -2\n",
      "0.04 -2\n",
      "0.05 -2\n",
      "0.06 -2\n",
      "0.07 -2\n",
      "0.08 -2\n",
      "0.09 -1\n",
      "0.1 -1\n",
      "0.11 -1\n",
      "0.12 -1\n",
      "0.13 -2\n",
      "0.14 -2\n",
      "0.15 -2\n",
      "0.16 -2\n",
      "0.17 -1\n",
      "0.18 -1\n",
      "0.19 -1\n",
      "0.2 -1\n",
      "0.21 -1\n",
      "0.22 -1\n",
      "0.23 -1\n",
      "0.24 -1\n",
      "0.25 -1\n",
      "0.26 -1\n",
      "0.27 -1\n",
      "0.28 -1\n",
      "0.29 -1\n",
      "0.3 -1\n",
      "0.31 -1\n",
      "0.32 -1\n",
      "0.33 -1\n",
      "0.34 -1\n",
      "0.35000000000000003 -1\n",
      "0.36 -1\n",
      "0.37 -1\n",
      "0.38 -1\n",
      "0.39 -1\n",
      "0.4 -1\n",
      "0.41000000000000003 -1\n",
      "0.42 -1\n",
      "0.43 -1\n",
      "0.44 -1\n",
      "0.45 -1\n",
      "0.46 -1\n",
      "0.47000000000000003 -1\n",
      "0.48 -1\n",
      "0.49 -1\n",
      "0.5 -1\n",
      "0.51 -1\n",
      "0.52 -1\n",
      "0.53 -1\n",
      "0.54 -1\n",
      "0.55 -1\n",
      "0.56 -1\n",
      "0.5700000000000001 -1\n",
      "0.58 -1\n",
      "0.59 -1\n",
      "0.6 -1\n",
      "0.61 -1\n",
      "0.62 -1\n",
      "0.63 -1\n",
      "0.64 -1\n",
      "0.65 -1\n",
      "0.66 -1\n",
      "0.67 -1\n",
      "0.68 -1\n",
      "0.6900000000000001 -1\n",
      "0.7000000000000001 -1\n",
      "0.71 -1\n",
      "0.72 -1\n",
      "0.73 -1\n",
      "0.74 -1\n",
      "0.75 -1\n",
      "0.76 -1\n",
      "0.77 -1\n",
      "0.78 -1\n",
      "0.79 -1\n",
      "0.8 -1\n",
      "0.81 -1\n",
      "0.8200000000000001 -1\n",
      "0.8300000000000001 -1\n",
      "0.84 0\n",
      "0.85 0\n",
      "0.86 0\n",
      "0.87 0\n",
      "0.88 0\n",
      "0.89 0\n",
      "0.9 0\n",
      "0.91 0\n",
      "0.92 0\n",
      "0.93 0\n",
      "0.9400000000000001 0\n",
      "0.9500000000000001 0\n",
      "0.96 0\n",
      "0.97 0\n",
      "0.98 0\n",
      "0.99 0\n",
      "1.0 0\n"
     ]
    }
   ],
   "source": [
    "import numpy as np\n",
    "\n",
    "\n",
    "def get_int_part(n):\n",
    "    return str(int(n // 1))\n",
    "\n",
    "\n",
    "def get_frac_part(n):\n",
    "    removed = int(get_int_part(n))\n",
    "    frac_part = ''\n",
    "    while n % 1:\n",
    "        n *= 10\n",
    "        removed *= 10\n",
    "        frac_part += str(int(n // 1) - removed)\n",
    "        removed = int(n // 1)\n",
    "    return frac_part\n",
    "\n",
    "\n",
    "def get_kth_digit(number, k, default='0'):\n",
    "    \"\"\"Returns k-th digit. For example, in number 123.45 1 \n",
    "    is 2nd digit, 3 is zeroth and 5 is -2nd. \n",
    "    If the number does not have such a digit default is returned.\n",
    "    Args:\n",
    "        number: float or str convertable to float\n",
    "        k: integer\n",
    "    Returns:\n",
    "        str\"\"\"\n",
    "    if isinstance(number, str):\n",
    "        number = float(number)\n",
    "    int_part = get_int_part(number)\n",
    "    frac_part = get_frac_part(number)\n",
    "    number = int_part + frac_part\n",
    "    k = len(int_part) - k - 1\n",
    "    if 0 <= k < len(number):\n",
    "        return number[k]\n",
    "    else:\n",
    "        return default\n",
    "    \n",
    "    \n",
    "def get_first_nonzero_digit_pos(n):\n",
    "    if n == 0:\n",
    "        return None\n",
    "    int_part = get_int_part(n)\n",
    "    frac_part = get_frac_part(n)\n",
    "    if int(int_part):\n",
    "        return len(int_part) - 1\n",
    "    i = 0\n",
    "    while i < len(frac_part) and not int(frac_part[i]):\n",
    "        i += 1\n",
    "    assert frac_part[i] != '0'\n",
    "    return -i - 1\n",
    "\n",
    "\n",
    "def get_acc_num_digits(std, acc):\n",
    "    if std == 0:\n",
    "        return None\n",
    "    \n",
    "    std_err = std * acc\n",
    "    \n",
    "    nz_err = get_first_nonzero_digit_pos(std_err)\n",
    "    \n",
    "    digit_1_pos_higher = get_kth_digit(std, nz_err+1)\n",
    "    \n",
    "    higher_digit_change = get_kth_digit(std + std_err, nz_err+1) != digit_1_pos_higher or \\\n",
    "        get_kth_digit(std - std_err, nz_err+1) != digit_1_pos_higher\n",
    "\n",
    "    if higher_digit_change:\n",
    "        nz_err += 1\n",
    "    return nz_err\n",
    "\n",
    "for std in np.linspace(0, 1, 101):\n",
    "    last_digit = get_acc_num_digits(std, 0.2)\n",
    "    print(std, last_digit)"
   ]
  },
  {
   "cell_type": "code",
   "execution_count": 138,
   "metadata": {},
   "outputs": [
    {
     "data": {
      "text/plain": [
       "'7'"
      ]
     },
     "execution_count": 138,
     "metadata": {},
     "output_type": "execute_result"
    }
   ],
   "source": [
    "get_kth_digit(123.45678, -4)"
   ]
  },
  {
   "cell_type": "code",
   "execution_count": 132,
   "metadata": {},
   "outputs": [
    {
     "data": {
      "text/plain": [
       "1"
      ]
     },
     "execution_count": 132,
     "metadata": {},
     "output_type": "execute_result"
    }
   ],
   "source": [
    "def get_first_nonzero_digit_pos_for_std(std, acc):\n",
    "    if std == 0:\n",
    "        return None\n",
    "    std_fraction = std * acc\n",
    "    int_part = get_int_part(std_fraction)\n",
    "    frac_part = get_frac_part(std_fraction)\n",
    "    if int(int_part):\n",
    "        return len(int_part) - 1\n",
    "    i = 0\n",
    "    while i < len(frac_part) and not int(frac_part[i]):\n",
    "        i += 1\n",
    "    assert frac_part[i] != '0'\n",
    "    return -i - 1\n",
    "\n",
    "\n",
    "get_first_nonzero_digit_pos_for_std(0.0123456, 1000)"
   ]
  },
  {
   "cell_type": "code",
   "execution_count": 116,
   "metadata": {},
   "outputs": [
    {
     "data": {
      "text/plain": [
       "324"
      ]
     },
     "execution_count": 116,
     "metadata": {},
     "output_type": "execute_result"
    }
   ],
   "source": [
    "def get_int_part(n):\n",
    "    return str(int(n // 1))\n",
    "\n",
    "\n",
    "def get_frac_part(n):\n",
    "    removed = int(get_int_part(n))\n",
    "    frac_part = ''\n",
    "    while n % 1:\n",
    "        n *= 10\n",
    "        removed *= 10\n",
    "        frac_part += str(int(n // 1) - removed)\n",
    "        removed = int(n // 1)\n",
    "    return frac_part\n",
    "\n",
    "len(get_frac_part(2.2250738585072014e-308))"
   ]
  },
  {
   "cell_type": "code",
   "execution_count": 22,
   "metadata": {},
   "outputs": [
    {
     "name": "stdout",
     "output_type": "stream",
     "text": [
      "[0 0 1 1 2 9]\n"
     ]
    }
   ],
   "source": [
    "import numpy as np\n",
    "\n",
    "bins = np.histogram_bin_edges([1], 8, [1., 9.])\n",
    "a = np.array([-1., 0., 1., 1.5, 2.5, 10.4])\n",
    "d = np.digitize(a, bins)\n",
    "print(d)"
   ]
  },
  {
   "cell_type": "code",
   "execution_count": 3,
   "metadata": {},
   "outputs": [
    {
     "name": "stdout",
     "output_type": "stream",
     "text": [
      "0.2169441995676607\n"
     ]
    }
   ],
   "source": [
    "import timeit\n",
    "\n",
    "import numpy as np\n",
    "\n",
    "\n",
    "a = np.zeros([10**4, 10**4])\n",
    "b = np.zeros([10**4, 10**4])\n",
    "\n",
    "N = 100\n",
    "\n",
    "t = timeit.timeit(\n",
    "    stmt=\"c = a + b\",\n",
    "    globals=dict(a=a, b=b),\n",
    "    number=N\n",
    ")\n",
    "\n",
    "print(t / N)"
   ]
  },
  {
   "cell_type": "code",
   "execution_count": 2,
   "metadata": {
    "scrolled": false
   },
   "outputs": [
    {
     "name": "stdout",
     "output_type": "stream",
     "text": [
      "1\n"
     ]
    }
   ],
   "source": [
    "import tensorflow as tf\n",
    "\n",
    "a = tf.Variable(0, trainable=False)\n",
    "\n",
    "op = tf.assign_add(a, 1)\n",
    "\n",
    "with tf.Session() as sess:\n",
    "    sess.run(tf.global_variables_initializer())\n",
    "    sess.run([op, op])\n",
    "    print(a.eval(sess))"
   ]
  },
  {
   "cell_type": "code",
   "execution_count": 2,
   "metadata": {
    "collapsed": true
   },
   "outputs": [],
   "source": [
    "h = net.get_default_hooks()"
   ]
  },
  {
   "cell_type": "code",
   "execution_count": 3,
   "metadata": {},
   "outputs": [
    {
     "name": "stdout",
     "output_type": "stream",
     "text": [
      "{'inputs': <tf.Tensor 'inps_and_lbls/inps:0' shape=(?, ?) dtype=int32>, 'labels': <tf.Tensor 'inps_and_lbls/lbls:0' shape=(?, ?) dtype=int32>, 'train_op': <tf.Operation 'gpu0_gradients/Adam' type=NoOp>, 'learning_rate': <tf.Tensor 'learning_rate:0' shape=<unknown> dtype=float32>, 'loss': <tf.Tensor 'loss_and_metrics/averaging_metrics/add:0' shape=() dtype=float32>, 'predictions': <tf.Tensor 'concat:0' shape=(?, ?, 100) dtype=float32>, 'validation_inputs': <tf.Tensor 'inps_and_lbls/inps:0' shape=(?, ?) dtype=int32>, 'validation_labels': <tf.Tensor 'inps_and_lbls/lbls:0' shape=(?, ?) dtype=int32>, 'validation_predictions': <tf.Tensor 'concat_1:0' shape=(?, ?, 100) dtype=float32>, 'reset_validation_state': <tf.Operation 'inference/group_deps' type=NoOp>, 'randomize_sample_state': <tf.Operation 'inference/group_deps_1' type=NoOp>, 'reset_train_state': <tf.Operation 'train/group_deps' type=NoOp>, 'randomize_train_state': <tf.Operation 'train/group_deps_1' type=NoOp>, 'dropout': <tf.Tensor 'dropout_rate:0' shape=<unknown> dtype=float32>, 'saver': <tensorflow.python.training.saver.Saver object at 0x7f971f6c0668>, 'entropy_level0_0_hidden_state': <tf.Tensor 'entropy_MM_from_hist/Squeeze:0' shape=<unknown> dtype=float32>, 'level0_0_hidden_state': <tf.Tensor 'inference/gpu0/rnns/level0/dropout/mul:0' shape=(?, ?, 100) dtype=float32>, 'level0_1_hidden_state': <tf.Tensor 'inference/gpu0/rnns/level0/mul_1:0' shape=(?, ?, 100) dtype=float32>, 'level0_0_axis_quarters': <tf.Tensor 'inference/gpu0/rnns/level0/get_axis_quarters/Cast_2:0' shape=(?, ?) dtype=int32>, 'level0_1_axis_quarters': <tf.Tensor 'inference/gpu0/rnns/level0/get_axis_quarters_1/Cast_2:0' shape=(?, ?) dtype=int32>, 'validation_loss': <tf.Tensor 'loss_and_metrics_1/averaging_metrics/add:0' shape=() dtype=float32>, 'subgraph_savers': {'level0': <tensorflow.python.training.saver.Saver object at 0x7f971ee8aef0>}}\n"
     ]
    }
   ],
   "source": [
    "print(h)"
   ]
  },
  {
   "cell_type": "code",
   "execution_count": 4,
   "metadata": {},
   "outputs": [
    {
     "name": "stdout",
     "output_type": "stream",
     "text": [
      "['inputs', 'labels', 'train_op', 'learning_rate', 'momentum', 'loss', 'predictions', 'validation_inputs', 'validation_labels', 'validation_predictions', 'reset_validation_state', 'randomize_sample_state', 'reset_train_state', 'randomize_train_state', 'dropout', 'saver', 'correlation', 'correlation_values', 'correlation2', 'correlation12', 'correlation_values_1-2', 'update_level0_0_hidden_state_hist', 'entropy_level0_0_hidden_state', 'level0_0_hidden_state', 'level0_1_hidden_state', 'level0_0_axis_quarters', 'level0_1_axis_quarters', 'validation_loss', 'subgraph_savers']\n"
     ]
    }
   ],
   "source": [
    "print(list(net._hooks.keys()))"
   ]
  },
  {
   "cell_type": "code",
   "execution_count": 3,
   "metadata": {},
   "outputs": [
    {
     "name": "stdout",
     "output_type": "stream",
     "text": [
      "Tensor(\"inference/gpu0/rnns/level0/_add_hidden_state_accumulation_ops/AssignAdd:0\", shape=(100, 100), dtype=int32_ref)\n"
     ]
    }
   ],
   "source": [
    "print(h['update_level0_0_hidden_state_hist'])"
   ]
  },
  {
   "cell_type": "code",
   "execution_count": 1,
   "metadata": {},
   "outputs": [
    {
     "name": "stdout",
     "output_type": "stream",
     "text": [
      "None\n"
     ]
    }
   ],
   "source": [
    "import tensorflow as tf\n",
    "\n",
    "g = tf.group()\n",
    "\n",
    "with tf.Session() as sess:\n",
    "    print(sess.run(g))"
   ]
  },
  {
   "cell_type": "code",
   "execution_count": 3,
   "metadata": {
    "collapsed": true
   },
   "outputs": [],
   "source": [
    "from sympy import *\n",
    "\n",
    "k, n, p = symbols('k n p')\n",
    "\n",
    "p = Product(k**(k * binomial(n, k) * p**k * (1-p)**(n-k)), (k, 0, n))"
   ]
  },
  {
   "cell_type": "code",
   "execution_count": 4,
   "metadata": {
    "collapsed": true
   },
   "outputs": [],
   "source": [
    "r = p.doit()"
   ]
  },
  {
   "cell_type": "code",
   "execution_count": 5,
   "metadata": {},
   "outputs": [
    {
     "name": "stdout",
     "output_type": "stream",
     "text": [
      "Product(k**(k*p**k*(-p + 1)**(-k + n)*binomial(n, k)), (k, 0, n))\n"
     ]
    }
   ],
   "source": [
    "print(r)"
   ]
  },
  {
   "cell_type": "code",
   "execution_count": 1,
   "metadata": {},
   "outputs": [],
   "source": [
    "import os\n",
    "\n",
    "import matplotlib as mpl\n",
    "import matplotlib.pyplot as plt\n",
    "from matplotlib.lines import Line2D\n",
    "from matplotlib.legend_handler import HandlerLine2D\n",
    "%matplotlib inline\n",
    "import numpy as np\n",
    "\n",
    "\n",
    "def load_line(file_name, start_idx):\n",
    "    x = []\n",
    "    y = []\n",
    "    with open(file_name) as f:\n",
    "        for line in f.readlines()[start_idx:]:\n",
    "            xx, yy = line.split()\n",
    "            x.append(float(xx))\n",
    "            y.append(float(yy))\n",
    "    return [x, y]\n",
    "\n",
    "\n",
    "def load_lines(file_names, start_idx):\n",
    "    lines = []\n",
    "    for fn in file_names:\n",
    "        lines.append(load_line(fn, start_idx))\n",
    "    return lines\n",
    "\n",
    "\n",
    "def load_groups_of_lines(groups):\n",
    "    lines = {}\n",
    "    for label, specs in groups.items():\n",
    "        lines[label] = load_lines(specs['names'], specs['start_idx'])\n",
    "    return lines\n",
    "\n",
    "\n",
    "def plot_similar_lines(lines, color, lw):\n",
    "    for line in lines:\n",
    "        plt.plot(line[0], line[1], lw=lw, color=color)\n",
    "        \n",
    "        \n",
    "def add_legend(artists, labels, position):\n",
    "    if position == 'outside':\n",
    "        pos_dict = dict(\n",
    "            bbox_to_anchor=(1.05, 1),\n",
    "            loc=2,\n",
    "        )\n",
    "    elif position == 'upper_right':\n",
    "        pos_dict = dict(\n",
    "            bbox_to_anchor=(.95, .95),\n",
    "            loc=1,\n",
    "        )\n",
    "    elif position == 'upper_left':\n",
    "        pos_dict = dict(\n",
    "            bbox_to_anchor=(.05, .95),\n",
    "            loc=2,\n",
    "        )\n",
    "    elif position == 'best':\n",
    "        pos_dict = {'loc': 'best'}\n",
    "    ax = plt.gca()\n",
    "    lgd = ax.legend(\n",
    "        artists,\n",
    "        labels,\n",
    "        **pos_dict,\n",
    "    )\n",
    "    return lgd\n",
    "\n",
    "\n",
    "def form_symlog_kwargs(groups):\n",
    "    x_nonzero_values = []\n",
    "    y_nonzero_values = []\n",
    "    for group_of_lines in groups.values():\n",
    "        for line in group_of_lines:\n",
    "            x_nonzero_values += [x for x in line[0] if x != 0]\n",
    "            y_nonzero_values += [y for y in line[1] if y != 0]\n",
    "    xkwargs = dict(\n",
    "        linthreshx=np.min(np.abs(x_nonzero_values))\n",
    "    )\n",
    "    ykwargs = dict(\n",
    "        linthreshy=np.min(np.abs(y_nonzero_values))\n",
    "    )\n",
    "    return xkwargs, ykwargs\n",
    "\n",
    "\n",
    "def plot_groups_of_lines(\n",
    "        groups,\n",
    "        single_lines,\n",
    "        group_colors,\n",
    "        single_colors,\n",
    "        lw,\n",
    "        xlabel,\n",
    "        ylabel,\n",
    "        xscale,\n",
    "        yscale,\n",
    "        xaxis_format,\n",
    "        start_idx,\n",
    "        legend_position,\n",
    "        dpi,\n",
    "        save_path,\n",
    "        show,\n",
    "):\n",
    "    custom_lines = []\n",
    "    labels = []\n",
    "    for (label, group_of_lines), color in zip(groups.items(), group_colors):\n",
    "        labels.append(label)\n",
    "        custom_lines.append(Line2D([0], [0], color=color, lw=4))\n",
    "        plot_similar_lines(group_of_lines, color, lw)\n",
    "    for (label, line), color in zip(single_lines.items(), single_colors):\n",
    "        labels.append(label)\n",
    "        custom_lines.append(Line2D([0], [0], color=color, lw=4))\n",
    "        plt.plot(line[0][start_idx:], line[1][start_idx:], color=color, lw=lw)\n",
    "    plt.grid(which='both')\n",
    "    plt.xlabel(xlabel)\n",
    "    plt.ylabel(ylabel)\n",
    "    xkwargs, ykwargs = form_symlog_kwargs(groups)\n",
    "    if xscale != 'symlog':\n",
    "        xkwargs = {}    \n",
    "    if yscale != 'symlog':\n",
    "        ykwargs = {}\n",
    "    plt.xscale(xscale, **xkwargs)\n",
    "    plt.yscale(yscale, **ykwargs)\n",
    "    ax = plt.gca()\n",
    "    ax.xaxis.set_major_formatter(xaxis_format)\n",
    "    bbox_extra_artists = [add_legend(custom_lines, labels, legend_position)]\n",
    "    if save_path is not None:\n",
    "        os.makedirs(os.path.split(save_path)[0], exist_ok=True)\n",
    "        plt.savefig(\n",
    "            save_path,\n",
    "            bbox_extra_artists=bbox_extra_artists,\n",
    "            bbox_inches='tight',\n",
    "            dpi=dpi,\n",
    "        )\n",
    "    if show:\n",
    "        plt.show()\n",
    "        \n",
    "        \n",
    "def load_single_lines(file_names):\n",
    "    lines = {}\n",
    "    for label, fn in file_names.items():\n",
    "        lines[label] = load_line(fn, 0)\n",
    "    return lines\n",
    "        \n",
    "        \n",
    "def main(\n",
    "        groups_of_file_names,\n",
    "        file_names,\n",
    "        group_colors,\n",
    "        single_colors,\n",
    "        lw,\n",
    "        xlabel,\n",
    "        ylabel,\n",
    "        xscale,\n",
    "        yscale,\n",
    "        xaxis_format,\n",
    "        start_idx,\n",
    "        legend_position,\n",
    "        dpi,\n",
    "        save_path,\n",
    "        show,\n",
    "):\n",
    "    groups = load_groups_of_lines(groups_of_file_names)\n",
    "    single_lines = load_single_lines(file_names)\n",
    "    plot_groups_of_lines(\n",
    "        groups,\n",
    "        single_lines,\n",
    "        group_colors,\n",
    "        single_colors,\n",
    "        lw,\n",
    "        xlabel,\n",
    "        ylabel,\n",
    "        xscale,\n",
    "        yscale,\n",
    "        xaxis_format,\n",
    "        start_idx,\n",
    "        legend_position,\n",
    "        dpi,\n",
    "        save_path,\n",
    "        show,\n",
    "    )"
   ]
  },
  {
   "cell_type": "code",
   "execution_count": 32,
   "metadata": {},
   "outputs": [
    {
     "name": "stdout",
     "output_type": "stream",
     "text": [
      "['ch100 + w200 posttraining', 'ch100 + w100 posttraining', 'ch100 + w50 posttraining', 'ch100 + w200', 'ch100 + w100', 'ch100 + w50']\n"
     ]
    }
   ],
   "source": [
    "from collections import OrderedDict\n",
    "\n",
    "prefix = 'expres/resrnn/word/restore_tt'\n",
    "prefix2 = 'expres/resrnn/two_branches/tt'\n",
    "postfix = 'results_shifted/loss_valid.txt'\n",
    "postfix2 = 'results/loss_valid.txt'\n",
    "\n",
    "nets = ['ch100_w200', 'ch100_w100', 'ch100_w50']\n",
    "numbers = list(range(10))\n",
    "\n",
    "groups_of_file_names = OrderedDict()\n",
    "for net in nets:\n",
    "    name = net.replace('_', ' + ') + ' posttraining'\n",
    "    groups_of_file_names[name] = {'names': [], 'start_idx': 0}\n",
    "    for i in numbers:\n",
    "        file_name = os.path.join(prefix, net, str(i), postfix)\n",
    "        groups_of_file_names[name]['names'].append(file_name)\n",
    "for net in nets:\n",
    "    name = net.replace('_', ' + ')\n",
    "    groups_of_file_names[name] = {'names': [], 'start_idx': 200}\n",
    "    for i in numbers:\n",
    "        file_name = os.path.join(prefix2, net, str(i), postfix2)\n",
    "        groups_of_file_names[name]['names'].append(file_name)\n",
    "        \n",
    "print(list(groups_of_file_names.keys()))\n",
    "\n",
    "pre_x, pre_y = load_line(os.path.join(prefix, 'loss_pretrain.txt'), 0)"
   ]
  },
  {
   "cell_type": "code",
   "execution_count": 34,
   "metadata": {
    "scrolled": false
   },
   "outputs": [
    {
     "name": "stdout",
     "output_type": "stream",
     "text": [
      "odict_keys(['ch100 + w200 posttraining', 'ch100 + w100 posttraining', 'ch100 + w50 posttraining', 'ch100 + w200', 'ch100 + w100', 'ch100 + w50'])\n"
     ]
    },
    {
     "data": {
      "image/png": "[encoded data removed]",
      "text/plain": [
       "<matplotlib.figure.Figure at 0x7f901783d470>"
      ]
     },
     "metadata": {},
     "output_type": "display_data"
    }
   ],
   "source": [
    "print(groups_of_file_names.keys())\n",
    "\n",
    "main(\n",
    "    groups_of_file_names,\n",
    "    {'pretraining ch100': os.path.join(prefix, 'loss_pretrain.txt')},\n",
    "    ['red', 'green', 'blue', 'pink', 'lime', 'cyan'],\n",
    "    ['black'],\n",
    "    0.2,\n",
    "    'step',\n",
    "    'loss',\n",
    "    'linear',\n",
    "    'linear',\n",
    "    mpl.ticker.EngFormatter(),\n",
    "    200,\n",
    "    'outside',\n",
    "    900,\n",
    "    os.path.join(prefix, 'plots/pre_and_post_training.png'),\n",
    "    True\n",
    ")"
   ]
  },
  {
   "cell_type": "code",
   "execution_count": 7,
   "metadata": {
    "collapsed": true
   },
   "outputs": [],
   "source": [
    "import pickle\n",
    "from collections import OrderedDict\n",
    "\n",
    "\n",
    "def load_pickle(file_name):\n",
    "    values = []\n",
    "    with open(file_name, 'rb') as f:\n",
    "        while True:\n",
    "            try:\n",
    "                values.append(pickle.load(f))\n",
    "            except EOFError:\n",
    "                break\n",
    "    return values\n",
    "\n",
    "\n",
    "prefix = '/media/anton/DATA/results/h-elmo/expres/entropy/first_experiment/hist'\n",
    "path = 'tensors/valid/accumulator_postprocessing'\n",
    "dirs = [str(i) for i in range(3)]\n",
    "layers = ['level0_0', 'level0_1']\n",
    "labels = OrderedDict([('level0_0', 'char encoder'), ('level0_1', 'char decoder')])\n",
    "\n",
    "entropy_tmpl = 'mean_entropy_{}_hidden_state.pickle'\n",
    "mi_tmpl = 'mean_mi_{}_hidden_state.pickle'\n",
    "\n",
    "path_to_loss = os.path.join(prefix, '0/results/loss_valid.txt')\n",
    "\n",
    "def get_steps(fn):\n",
    "    steps = []\n",
    "    with open(fn) as f:\n",
    "        for line in f.readlines():\n",
    "            step = int(line.split()[0])\n",
    "            steps.append(step)\n",
    "    return steps\n",
    "\n",
    "steps = get_steps(path_to_loss)\n",
    "        \n",
    "entropy_lines = OrderedDict(zip(labels.values(), [[] for _ in layers]))\n",
    "mi_lines = OrderedDict(zip(labels.values(), [[] for _ in layers]))\n",
    "\n",
    "for d in dirs:\n",
    "    for layer in layers:\n",
    "        entropy_fn = entropy_tmpl.format(layer)\n",
    "        entropy_fn = os.path.join(prefix, d, path, entropy_fn)\n",
    "        mi_fn = mi_tmpl.format(layer)\n",
    "        mi_fn = os.path.join(prefix, d, path, mi_fn)\n",
    "        label = labels[layer]\n",
    "        entropy_lines[label].append([steps, load_pickle(entropy_fn)])\n",
    "        mi_lines[label].append([steps, load_pickle(mi_fn)])\n"
   ]
  },
  {
   "cell_type": "code",
   "execution_count": 8,
   "metadata": {},
   "outputs": [
    {
     "data": {
      "image/png": "[encoded data removed]",
      "text/plain": [
       "<Figure size 432x288 with 1 Axes>"
      ]
     },
     "metadata": {
      "needs_background": "light"
     },
     "output_type": "display_data"
    }
   ],
   "source": [
    "save_path = os.path.join(prefix, 'plots/entropy.png')\n",
    "\n",
    "plot_groups_of_lines(\n",
    "    entropy_lines,\n",
    "    {},\n",
    "    ['red', 'blue'],\n",
    "    [],\n",
    "    0.4,\n",
    "    'step',\n",
    "    'bits',\n",
    "    'log',\n",
    "    'linear',\n",
    "    mpl.ticker.ScalarFormatter(),\n",
    "    0,\n",
    "    'best',\n",
    "    900,\n",
    "    save_path,\n",
    "    True,\n",
    ")"
   ]
  },
  {
   "cell_type": "code",
   "execution_count": 9,
   "metadata": {},
   "outputs": [
    {
     "data": {
      "image/png": "[encoded data removed]",
      "text/plain": [
       "<Figure size 432x288 with 1 Axes>"
      ]
     },
     "metadata": {
      "needs_background": "light"
     },
     "output_type": "display_data"
    }
   ],
   "source": [
    "save_path = os.path.join(prefix, 'plots/mi.png')\n",
    "\n",
    "plot_groups_of_lines(\n",
    "    mi_lines,\n",
    "    {},\n",
    "    ['red', 'blue'],\n",
    "    [],\n",
    "    0.4,\n",
    "    'step',\n",
    "    'bits',\n",
    "    'log',\n",
    "    'linear',\n",
    "    mpl.ticker.ScalarFormatter(),\n",
    "    0,\n",
    "    'best',\n",
    "    900,\n",
    "    save_path,\n",
    "    True,\n",
    ")"
   ]
  },
  {
   "cell_type": "code",
   "execution_count": 20,
   "metadata": {},
   "outputs": [
    {
     "name": "stdout",
     "output_type": "stream",
     "text": [
      "[0, 1, 2, 3, 4, 5, 6, 7, 8, 9, 10, 11, 12, 13, 14, 15, 16, 17, 18, 19, 21, 23, 25, 27, 29, 31, 33, 35, 37, 40, 43, 46, 49, 52, 55, 58, 62, 66, 70, 74, 79, 84, 89, 94, 100, 106, 112, 119, 126, 133, 141, 149, 158, 167, 177, 187, 198, 209, 221, 234, 247, 261, 276, 292, 308, 325, 343, 362, 382, 403, 425, 449, 474, 500, 528, 557, 588, 621, 655, 691, 729, 769, 811, 856, 903, 953, 1005, 1060, 1118, 1179, 1244, 1312, 1384, 1460, 1540, 1624, 1713, 1807, 1906, 2000]\n",
      "(100,)\n",
      "(100,)\n",
      "(100,)\n",
      "(100,)\n",
      "(100,)\n",
      "(100,)\n",
      "(100,)\n",
      "(100,)\n",
      "(100,)\n",
      "(100,)\n",
      "(100,)\n",
      "(100,)\n"
     ]
    }
   ],
   "source": [
    "import pickle\n",
    "from collections import OrderedDict\n",
    "\n",
    "\n",
    "def load_pickle(file_name):\n",
    "    values = []\n",
    "    with open(file_name, 'rb') as f:\n",
    "        while True:\n",
    "            try:\n",
    "                values.append(pickle.load(f))\n",
    "            except EOFError:\n",
    "                break\n",
    "    return values\n",
    "\n",
    "\n",
    "prefix = '/media/anton/DATA/results/h-elmo/expres/correlation/nocorrloss/wide'\n",
    "path = 'tensors/valid/pickle_mean_tensors/mean_sqr_correlation.pickle'\n",
    "dirs = [str(i) for i in range(3)]\n",
    "dropout = ['0', '0.2', '0.4', '0.7']\n",
    "labels = OrderedDict([('0', 'dropout 0'), ('0.2', 'dropout 0.2'), ('0.4', 'dropout 0.4'), ('0.7', 'dropout 0.7')])\n",
    "\n",
    "path_to_loss = os.path.join(prefix, '0/0/results/loss_valid.txt')\n",
    "\n",
    "def get_steps(fn):\n",
    "    steps = []\n",
    "    with open(fn) as f:\n",
    "        for line in f.readlines():\n",
    "            step = int(line.split()[0])\n",
    "            steps.append(step)\n",
    "    return steps\n",
    "\n",
    "steps = get_steps(path_to_loss)\n",
    "print(steps)\n",
    "        \n",
    "correlation_lines = OrderedDict(zip(labels.values(), [[] for _ in dropout]))\n",
    "\n",
    "for d in dirs:\n",
    "    for dp in dropout:\n",
    "        correlation_fn = os.path.join(prefix, dp, d, path)\n",
    "        label = labels[dp]\n",
    "        y = load_pickle(correlation_fn)[0]\n",
    "        print(y.shape)\n",
    "        correlation_lines[label].append([steps, y])\n",
    "a = correlation_lines['dropout 0.4'][0][1]\n",
    "# correlation_lines['dropout 0.4'][0][1] = np.concatenate([a[:64], a[65:]])\n",
    "# m = float('inf')\n",
    "# for i in range(100):\n",
    "#     if abs(a[i] - a[i+1]) < m:\n",
    "#         m = abs(a[i] - a[i+1])\n",
    "#         j = i\n",
    "# print(j, abs(a[j] - a[j+1]))"
   ]
  },
  {
   "cell_type": "code",
   "execution_count": 21,
   "metadata": {},
   "outputs": [
    {
     "data": {
      "image/png": "[encoded data removed]",
      "text/plain": [
       "<Figure size 432x288 with 1 Axes>"
      ]
     },
     "metadata": {
      "needs_background": "light"
     },
     "output_type": "display_data"
    }
   ],
   "source": [
    "save_path = os.path.join(prefix, 'plots/mean_sqr_correlation_bundles.png')\n",
    "\n",
    "plot_groups_of_lines(\n",
    "    correlation_lines,\n",
    "    {},\n",
    "    ['red', 'blue', 'black', 'brown'],\n",
    "    [],\n",
    "    0.4,\n",
    "    'step',\n",
    "    'mean square correlation',\n",
    "    'log',\n",
    "    'linear',\n",
    "    mpl.ticker.ScalarFormatter(),\n",
    "    0,\n",
    "    'best',\n",
    "    900,\n",
    "    save_path,\n",
    "    True,\n",
    ")"
   ]
  },
  {
   "cell_type": "code",
   "execution_count": 25,
   "metadata": {},
   "outputs": [
    {
     "name": "stdout",
     "output_type": "stream",
     "text": [
      "[0, 1, 2, 3, 4, 5, 6, 7, 8, 9, 10, 11, 12, 13, 14, 15, 16, 17, 18, 19, 21, 23, 25, 27, 29, 31, 33, 35, 37, 40, 43, 46, 49, 52, 55, 58, 62, 66, 70, 74, 79, 84, 89, 94, 100, 106, 112, 119, 126, 133, 141, 149, 158, 167, 177, 187, 198, 209, 221, 234, 247, 261, 276, 292, 308, 325, 343, 362, 382, 403, 425, 449, 474, 500, 528, 557, 588, 621, 655, 691, 729, 769, 811, 856, 903, 953, 1005, 1060, 1118, 1179, 1244, 1312, 1384, 1460, 1540, 1624, 1713, 1807, 1906, 2000]\n"
     ]
    }
   ],
   "source": [
    "import pickle\n",
    "from collections import OrderedDict\n",
    "\n",
    "\n",
    "def load_pickle(file_name):\n",
    "    values = []\n",
    "    with open(file_name, 'rb') as f:\n",
    "        while True:\n",
    "            try:\n",
    "                values.append(pickle.load(f))\n",
    "            except EOFError:\n",
    "                break\n",
    "    return values\n",
    "\n",
    "\n",
    "prefix = '/home/anton/h-elmo/expres/correlation/nocorrloss/sgd'\n",
    "path = 'tensors/valid/pickle_mean_tensors/correlation.pickle'\n",
    "dirs = [str(i) for i in range(3)]\n",
    "\n",
    "path_to_loss = os.path.join(prefix, '0/results/loss_valid.txt')\n",
    "\n",
    "def get_steps(fn):\n",
    "    steps = []\n",
    "    with open(fn) as f:\n",
    "        for line in f.readlines():\n",
    "            step = int(line.split()[0])\n",
    "            steps.append(step)\n",
    "    return steps\n",
    "\n",
    "steps = get_steps(path_to_loss)\n",
    "print(steps)\n",
    "        \n",
    "correlation_lines = OrderedDict(zip(['sgd'], [[]]))\n",
    "\n",
    "for d in dirs:\n",
    "    correlation_fn = os.path.join(prefix, d, path)\n",
    "    label = 'sgd'\n",
    "    y = load_pickle(correlation_fn)\n",
    "    y = [yy**0.5 for yy in y]\n",
    "    correlation_lines[label].append([steps, y])\n",
    "# correlation_lines['dropout 0.4'][0][1] = np.concatenate([a[:64], a[65:]])\n",
    "# m = float('inf')\n",
    "# for i in range(100):\n",
    "#     if abs(a[i] - a[i+1]) < m:\n",
    "#         m = abs(a[i] - a[i+1])\n",
    "#         j = i\n",
    "# print(j, abs(a[j] - a[j+1]))"
   ]
  },
  {
   "cell_type": "code",
   "execution_count": 26,
   "metadata": {},
   "outputs": [
    {
     "data": {
      "image/png": "[encoded data removed]",
      "text/plain": [
       "<Figure size 432x288 with 1 Axes>"
      ]
     },
     "metadata": {
      "needs_background": "light"
     },
     "output_type": "display_data"
    }
   ],
   "source": [
    "save_path = os.path.join(prefix, 'plots/mean_sqr_correlation_bundles.png')\n",
    "\n",
    "plot_groups_of_lines(\n",
    "    correlation_lines,\n",
    "    {},\n",
    "    ['red', 'blue', 'black', 'brown'],\n",
    "    [],\n",
    "    0.4,\n",
    "    'step',\n",
    "    'mean square correlation',\n",
    "    'log',\n",
    "    'linear',\n",
    "    mpl.ticker.ScalarFormatter(),\n",
    "    0,\n",
    "    'best',\n",
    "    900,\n",
    "    save_path,\n",
    "    True,\n",
    ")"
   ]
  },
  {
   "cell_type": "code",
   "execution_count": 14,
   "metadata": {},
   "outputs": [
    {
     "name": "stdout",
     "output_type": "stream",
     "text": [
      "-1294967296\n"
     ]
    },
    {
     "name": "stderr",
     "output_type": "stream",
     "text": [
      "/usr/local/lib/python3.5/dist-packages/ipykernel_launcher.py:5: RuntimeWarning: overflow encountered in int_scalars\n",
      "  \"\"\"\n"
     ]
    }
   ],
   "source": [
    "import numpy as np\n",
    "\n",
    "a = np.int32(2*10**9)\n",
    "b = np.int32(10**9)\n",
    "print(a+b)"
   ]
  },
  {
   "cell_type": "code",
   "execution_count": null,
   "metadata": {
    "collapsed": true
   },
   "outputs": [],
   "source": [
    "for i in range(3):\n",
    "  for layer in ['level0_0', 'level0_1']:\n",
    "    fn = tmpl.format(i, layer)\n",
    "    values = load_pickle(fn)\n",
    "    m = [np.min(v) for v in values]\n",
    "    for mm in m:\n",
    "      if mm < 0:\n",
    "        print(mm)"
   ]
  },
  {
   "cell_type": "code",
   "execution_count": null,
   "metadata": {
    "collapsed": true
   },
   "outputs": [],
   "source": [
    "for d in {0..2}; do for l in \"${layers[@]}\"; do python3 $SCRIPTS/hist2entropy.py ${d}/${path}/hist_fixed^C{l}_hidden_state.pickle ${d}/${path}/entropy_${l}_hidden_state.pickle;     python3 $SCRIPTS/hist2mi.py ${d}/${path}/hist_fixed_${l}_hidden_state.pickle ${d}/${path}/cross_hist_fixed_${l}_hidden_state.pickle ${d}/${path}/mi_${l}_hidden_state.pickle; done; done"
   ]
  },
  {
   "cell_type": "code",
   "execution_count": 2,
   "metadata": {},
   "outputs": [
    {
     "ename": "NotImplementedError",
     "evalue": "multiple generators [x, sin(2*x)]\nNo algorithms are implemented to solve equation -a + x/2 - sin(2*x)/4",
     "output_type": "error",
     "traceback": [
      "\u001b[0;31m---------------------------------------------------------------------------\u001b[0m",
      "\u001b[0;31mNotImplementedError\u001b[0m                       Traceback (most recent call last)",
      "\u001b[0;32m<ipython-input-2-0a820e85b836>\u001b[0m in \u001b[0;36m<module>\u001b[0;34m\u001b[0m\n\u001b[1;32m      3\u001b[0m \u001b[0;34m\u001b[0m\u001b[0m\n\u001b[1;32m      4\u001b[0m \u001b[0ma\u001b[0m\u001b[0;34m,\u001b[0m \u001b[0mx\u001b[0m \u001b[0;34m=\u001b[0m \u001b[0msymbols\u001b[0m\u001b[0;34m(\u001b[0m\u001b[0;34m'a x'\u001b[0m\u001b[0;34m)\u001b[0m\u001b[0;34m\u001b[0m\u001b[0m\n\u001b[0;32m----> 5\u001b[0;31m \u001b[0msol\u001b[0m \u001b[0;34m=\u001b[0m \u001b[0msolve\u001b[0m\u001b[0;34m(\u001b[0m\u001b[0;36m0.5\u001b[0m\u001b[0;34m*\u001b[0m\u001b[0mx\u001b[0m\u001b[0;34m-\u001b[0m\u001b[0;36m0.25\u001b[0m\u001b[0;34m*\u001b[0m\u001b[0msin\u001b[0m\u001b[0;34m(\u001b[0m\u001b[0;36m2\u001b[0m\u001b[0;34m*\u001b[0m\u001b[0mx\u001b[0m\u001b[0;34m)\u001b[0m\u001b[0;34m-\u001b[0m\u001b[0ma\u001b[0m\u001b[0;34m,\u001b[0m \u001b[0mx\u001b[0m\u001b[0;34m)\u001b[0m\u001b[0;34m\u001b[0m\u001b[0m\n\u001b[0m\u001b[1;32m      6\u001b[0m \u001b[0;34m\u001b[0m\u001b[0m\n\u001b[1;32m      7\u001b[0m \u001b[0mprint\u001b[0m\u001b[0;34m(\u001b[0m\u001b[0msol\u001b[0m\u001b[0;34m)\u001b[0m\u001b[0;34m\u001b[0m\u001b[0m\n",
      "\u001b[0;32m/usr/local/lib/python3.5/dist-packages/sympy/solvers/solvers.py\u001b[0m in \u001b[0;36msolve\u001b[0;34m(f, *symbols, **flags)\u001b[0m\n\u001b[1;32m   1160\u001b[0m     \u001b[0;31m###########################################################################\u001b[0m\u001b[0;34m\u001b[0m\u001b[0;34m\u001b[0m\u001b[0m\n\u001b[1;32m   1161\u001b[0m     \u001b[0;32mif\u001b[0m \u001b[0mbare_f\u001b[0m\u001b[0;34m:\u001b[0m\u001b[0;34m\u001b[0m\u001b[0m\n\u001b[0;32m-> 1162\u001b[0;31m         \u001b[0msolution\u001b[0m \u001b[0;34m=\u001b[0m \u001b[0m_solve\u001b[0m\u001b[0;34m(\u001b[0m\u001b[0mf\u001b[0m\u001b[0;34m[\u001b[0m\u001b[0;36m0\u001b[0m\u001b[0;34m]\u001b[0m\u001b[0;34m,\u001b[0m \u001b[0;34m*\u001b[0m\u001b[0msymbols\u001b[0m\u001b[0;34m,\u001b[0m \u001b[0;34m**\u001b[0m\u001b[0mflags\u001b[0m\u001b[0;34m)\u001b[0m\u001b[0;34m\u001b[0m\u001b[0m\n\u001b[0m\u001b[1;32m   1163\u001b[0m     \u001b[0;32melse\u001b[0m\u001b[0;34m:\u001b[0m\u001b[0;34m\u001b[0m\u001b[0m\n\u001b[1;32m   1164\u001b[0m         \u001b[0msolution\u001b[0m \u001b[0;34m=\u001b[0m \u001b[0m_solve_system\u001b[0m\u001b[0;34m(\u001b[0m\u001b[0mf\u001b[0m\u001b[0;34m,\u001b[0m \u001b[0msymbols\u001b[0m\u001b[0;34m,\u001b[0m \u001b[0;34m**\u001b[0m\u001b[0mflags\u001b[0m\u001b[0;34m)\u001b[0m\u001b[0;34m\u001b[0m\u001b[0m\n",
      "\u001b[0;32m/usr/local/lib/python3.5/dist-packages/sympy/solvers/solvers.py\u001b[0m in \u001b[0;36m_solve\u001b[0;34m(f, *symbols, **flags)\u001b[0m\n\u001b[1;32m   1733\u001b[0m \u001b[0;34m\u001b[0m\u001b[0m\n\u001b[1;32m   1734\u001b[0m     \u001b[0;32mif\u001b[0m \u001b[0mresult\u001b[0m \u001b[0;32mis\u001b[0m \u001b[0;32mFalse\u001b[0m\u001b[0;34m:\u001b[0m\u001b[0;34m\u001b[0m\u001b[0m\n\u001b[0;32m-> 1735\u001b[0;31m         \u001b[0;32mraise\u001b[0m \u001b[0mNotImplementedError\u001b[0m\u001b[0;34m(\u001b[0m\u001b[0;34m'\\n'\u001b[0m\u001b[0;34m.\u001b[0m\u001b[0mjoin\u001b[0m\u001b[0;34m(\u001b[0m\u001b[0;34m[\u001b[0m\u001b[0mmsg\u001b[0m\u001b[0;34m,\u001b[0m \u001b[0mnot_impl_msg\u001b[0m \u001b[0;34m%\u001b[0m \u001b[0mf\u001b[0m\u001b[0;34m]\u001b[0m\u001b[0;34m)\u001b[0m\u001b[0;34m)\u001b[0m\u001b[0;34m\u001b[0m\u001b[0m\n\u001b[0m\u001b[1;32m   1736\u001b[0m \u001b[0;34m\u001b[0m\u001b[0m\n\u001b[1;32m   1737\u001b[0m     \u001b[0;32mif\u001b[0m \u001b[0mflags\u001b[0m\u001b[0;34m.\u001b[0m\u001b[0mget\u001b[0m\u001b[0;34m(\u001b[0m\u001b[0;34m'simplify'\u001b[0m\u001b[0;34m,\u001b[0m \u001b[0;32mTrue\u001b[0m\u001b[0;34m)\u001b[0m\u001b[0;34m:\u001b[0m\u001b[0;34m\u001b[0m\u001b[0m\n",
      "\u001b[0;31mNotImplementedError\u001b[0m: multiple generators [x, sin(2*x)]\nNo algorithms are implemented to solve equation -a + x/2 - sin(2*x)/4"
     ]
    }
   ],
   "source": [
    "from sympy.solvers import solve\n",
    "from sympy import *\n",
    "\n",
    "a, x = symbols('a x')\n",
    "sol = solve(0.5*x-0.25*sin(2*x)-a, x)\n",
    "\n",
    "print(sol)"
   ]
  },
  {
   "cell_type": "code",
   "execution_count": 6,
   "metadata": {
    "scrolled": true
   },
   "outputs": [
    {
     "name": "stdout",
     "output_type": "stream",
     "text": [
      "Collecting pip\n",
      "  Using cached https://files.pythonhosted.org/packages/62/ca/94d32a6516ed197a491d17d46595ce58a83cbb2fca280414e57cd86b84dc/pip-19.2.1-py2.py3-none-any.whl\n",
      "Installing collected packages: pip\n",
      "  Found existing installation: pip 19.1.1\n",
      "    Uninstalling pip-19.1.1:\n",
      "      Successfully uninstalled pip-19.1.1\n",
      "Successfully installed pip-19.2.1\n"
     ]
    }
   ],
   "source": [
    "!pip install --upgrade pip"
   ]
  },
  {
   "cell_type": "code",
   "execution_count": 61,
   "metadata": {
    "scrolled": false
   },
   "outputs": [
    {
     "name": "stdout",
     "output_type": "stream",
     "text": [
      "100\n",
      "398\n",
      "366\n",
      "361\n",
      "364\n",
      "387\n",
      "377\n",
      "360\n",
      "400\n",
      "393\n",
      "401\n",
      "361\n",
      "359\n",
      "384\n",
      "370\n",
      "362\n",
      "395\n",
      "401\n",
      "400\n",
      "386\n",
      "392\n",
      "360\n",
      "383\n",
      "404\n",
      "404\n",
      "389\n",
      "400\n",
      "370\n",
      "394\n",
      "354\n",
      "386\n",
      "367\n",
      "403\n",
      "381\n",
      "378\n",
      "360\n",
      "392\n",
      "363\n",
      "338\n",
      "402\n",
      "350\n",
      "391\n",
      "381\n",
      "395\n",
      "402\n",
      "404\n",
      "384\n",
      "388\n",
      "378\n",
      "399\n",
      "351\n",
      "369\n",
      "393\n",
      "391\n",
      "405\n",
      "364\n",
      "374\n",
      "392\n",
      "400\n",
      "403\n",
      "405\n",
      "399\n",
      "380\n",
      "408\n",
      "389\n",
      "403\n",
      "376\n",
      "390\n",
      "394\n",
      "395\n",
      "392\n",
      "395\n",
      "380\n",
      "403\n",
      "352\n",
      "399\n",
      "351\n",
      "405\n",
      "395\n",
      "374\n",
      "394\n",
      "392\n",
      "398\n",
      "397\n",
      "358\n",
      "375\n",
      "390\n",
      "338\n",
      "385\n",
      "390\n",
      "386\n",
      "399\n",
      "404\n",
      "386\n",
      "360\n",
      "400\n",
      "385\n",
      "375\n",
      "400\n",
      "402\n",
      "367\n",
      "[[33, 110, 50, 205], [32, 99, 177, 58], [104, 133, 104, 20], [62, 40, 209, 53], [45, 97, 146, 99], [34, 165, 111, 67], [108, 169, 33, 50], [107, 55, 60, 178], [140, 79, 81, 93], [113, 126, 28, 134], [119, 141, 65, 36], [140, 132, 36, 51], [122, 16, 176, 70], [135, 128, 46, 61], [187, 53, 38, 84], [102, 117, 88, 88], [73, 90, 117, 121], [131, 52, 89, 128], [74, 51, 44, 217], [40, 100, 129, 123], [72, 73, 196, 19], [163, 32, 121, 67], [65, 170, 25, 144], [27, 157, 40, 180], [140, 31, 141, 77], [126, 82, 32, 160], [57, 52, 196, 65], [122, 30, 73, 169], [59, 186, 83, 26], [113, 55, 157, 61], [90, 30, 210, 37], [31, 194, 21, 157], [86, 56, 177, 62], [107, 145, 64, 62], [63, 70, 201, 26], [114, 142, 23, 113], [165, 92, 45, 61], [193, 59, 50, 36], [79, 127, 85, 111], [23, 130, 174, 23], [142, 87, 64, 98], [28, 138, 132, 83], [118, 83, 111, 83], [86, 80, 112, 124], [87, 77, 69, 171], [55, 120, 137, 72], [24, 96, 117, 151], [89, 80, 165, 44], [121, 55, 55, 168], [178, 74, 61, 38], [184, 43, 42, 100], [103, 44, 150, 96], [77, 171, 47, 96], [79, 93, 91, 142], [45, 86, 188, 45], [127, 49, 169, 29], [110, 93, 116, 73], [35, 123, 89, 153], [74, 87, 58, 184], [92, 138, 36, 139], [22, 180, 53, 144], [90, 129, 110, 51], [84, 112, 64, 148], [127, 95, 99, 68], [117, 80, 39, 167], [42, 224, 18, 92], [80, 38, 146, 126], [71, 53, 98, 172], [112, 32, 81, 170], [153, 61, 74, 104], [135, 53, 116, 91], [23, 92, 23, 242], [100, 65, 93, 145], [75, 37, 227, 13], [79, 87, 124, 109], [41, 84, 205, 21], [92, 97, 86, 130], [65, 73, 130, 127], [122, 122, 84, 46], [137, 22, 114, 121], [82, 141, 87, 82], [38, 104, 87, 169], [132, 46, 61, 158], [196, 23, 91, 48], [170, 37, 115, 53], [128, 50, 141, 71], [18, 237, 50, 33], [92, 126, 108, 59], [42, 123, 125, 100], [166, 18, 95, 107], [75, 176, 14, 134], [74, 94, 43, 193], [47, 125, 134, 80], [135, 115, 83, 27], [104, 121, 67, 108], [71, 77, 161, 76], [133, 61, 150, 31], [69, 94, 117, 120], [114, 104, 62, 122], [90, 80, 176, 21]]\n"
     ]
    }
   ],
   "source": [
    "hidden_sizes = sample_hidden_sizes(321600, 0.9, 4, 100, 100)\n",
    "print(len(hidden_sizes))\n",
    "for hs in hidden_sizes:\n",
    "    print(sum(hs))\n",
    "print(hidden_sizes)"
   ]
  },
  {
   "cell_type": "code",
   "execution_count": 53,
   "metadata": {},
   "outputs": [],
   "source": [
    "def get_num_lstm_param(input_size, hidden_size):\n",
    "    num_param = (input_size+hidden_size) * (4*hidden_size) + 4*hidden_size\n",
    "    return num_param\n",
    "\n",
    "\n",
    "def get_num_multi_lstm_param(input_size, hidden_sizes):\n",
    "    num_param = 0\n",
    "    for hs in hidden_sizes:\n",
    "        num_param += get_num_lstm_param(input_size, hs)\n",
    "        input_size = hs\n",
    "    return num_param"
   ]
  },
  {
   "cell_type": "code",
   "execution_count": 54,
   "metadata": {},
   "outputs": [
    {
     "name": "stdout",
     "output_type": "stream",
     "text": [
      "[135, 19, 189, 27] 320660\n",
      "[103, 106, 124, 49] 321768\n",
      "[84, 142, 99, 57] 322724\n",
      "[27, 195, 98, 35] 321772\n",
      "[51, 116, 44, 193] 321032\n",
      "[148, 33, 153, 45] 321696\n",
      "[126, 73, 114, 80] 320936\n",
      "[54, 75, 148, 111] 320528\n",
      "[68, 39, 204, 56] 320384\n",
      "[90, 100, 114, 94] 321784\n",
      "[91, 140, 50, 120] 320088\n",
      "[44, 68, 155, 116] 321344\n",
      "[119, 45, 69, 166] 322864\n",
      "[45, 88, 166, 79] 320504\n",
      "[18, 208, 82, 53] 321712\n",
      "[40, 221, 21, 97] 320752\n",
      "[157, 27, 125, 78] 322152\n",
      "[73, 129, 94, 103] 321356\n",
      "[129, 84, 114, 58] 321464\n",
      "[123, 118, 41, 114] 321808\n",
      "[47, 159, 81, 109] 320836\n",
      "[94, 93, 67, 153] 321656\n",
      "[74, 124, 136, 42] 322560\n",
      "[67, 194, 60, 30] 320456\n",
      "[47, 136, 93, 124] 321608\n",
      "[142, 85, 96, 58] 321392\n",
      "[60, 188, 56, 76] 321200\n",
      "[151, 72, 105, 49] 321860\n",
      "[156, 77, 39, 115] 321992\n",
      "[102, 48, 160, 79] 321416\n",
      "[53, 146, 16, 193] 322000\n",
      "[137, 14, 71, 166] 321392\n",
      "[28, 106, 156, 87] 320712\n",
      "[122, 19, 174, 69] 321984\n",
      "[27, 88, 53, 218] 321944\n",
      "[143, 124, 16, 93] 322440\n",
      "[105, 135, 32, 130] 322924\n",
      "[57, 68, 195, 47] 321900\n",
      "[118, 82, 71, 132] 320744\n",
      "[23, 141, 37, 200] 321360\n"
     ]
    }
   ],
   "source": [
    "for hs in hidden_sizes:\n",
    "    print(hs, get_num_multi_lstm_param(100, hs))"
   ]
  },
  {
   "cell_type": "code",
   "execution_count": 27,
   "metadata": {},
   "outputs": [
    {
     "name": "stdout",
     "output_type": "stream",
     "text": [
      "Collecting pip\n",
      "  Using cached https://files.pythonhosted.org/packages/62/ca/94d32a6516ed197a491d17d46595ce58a83cbb2fca280414e57cd86b84dc/pip-19.2.1-py2.py3-none-any.whl\n",
      "Installing collected packages: pip\n",
      "  Found existing installation: pip 19.1.1\n",
      "    Uninstalling pip-19.1.1:\n",
      "      Successfully uninstalled pip-19.1.1\n",
      "Successfully installed pip-19.2.1\n"
     ]
    }
   ],
   "source": [
    "!python3 -m pip install --upgrade pip"
   ]
  },
  {
   "cell_type": "code",
   "execution_count": 18,
   "metadata": {
    "scrolled": false
   },
   "outputs": [
    {
     "name": "stdout",
     "output_type": "stream",
     "text": [
      "3.0.3\n"
     ]
    }
   ],
   "source": [
    "from mpl_toolkits.mplot3d import Axes3D\n",
    "import matplotlib.pyplot as plt\n",
    "import matplotlib\n",
    "print(matplotlib.__version__)\n",
    "%matplotlib notebook\n",
    "\n",
    "points = []\n",
    "for _ in range(1000):\n",
    "    p = sample_point_from_sum_triangle(100, 4, 1)\n",
    "    if any([c < 0 for c in p]):\n",
    "        print('Error!', p)\n",
    "        break\n",
    "#     points.append(p)\n",
    "    \n",
    "# x, y, z = zip(*points)\n",
    "# fig = plt.figure()\n",
    "# ax = fig.add_subplot(111, projection='3d')\n",
    "# ax.scatter(x, y, z)\n",
    "# plt.show()"
   ]
  },
  {
   "cell_type": "code",
   "execution_count": 15,
   "metadata": {},
   "outputs": [
    {
     "name": "stdout",
     "output_type": "stream",
     "text": [
      "3.0.3\n",
      "[-0.1178232637627934, 0.11729648649974234, -0.034301746109729914]\n",
      "[0.2088657892428476, 0.2634138340945724, -0.16897193363871432]\n",
      "[0.1831332757374151, -0.38326409108929016, -0.3609453188266978]\n",
      "[-0.3739730967599819, 0.17517079233679334, -0.33944728803425406]\n",
      "[-0.2938365424682754, -0.2220484956192359, 0.09540450039832016]\n",
      "[0.25933813395577676, 0.008463944497584475, -0.15673888368934596]\n",
      "[-0.5978200048573936, 0.36591477351634305, -0.5790540878040897]\n",
      "[0.19994979810016877, -0.11426350270694652, -0.06066832414081036]\n",
      "[0.4102175818394984, 0.13388043371253588, 0.02349408168397238]\n",
      "[-0.2165172369270829, -0.3981772118917617, -0.2923219426321104]\n",
      "[0.9351284502729484, -0.005586627220860008, 0.029565183563459607]\n",
      "[-0.4540119804288827, -0.6022658134496359, 0.16010395053934312]\n",
      "[-0.28676781737502255, 0.24415111531809752, -0.40500192300695814]\n",
      "[-0.37411017966333593, 0.15769252524859279, -0.4285537933597765]\n",
      "[0.23055015217451857, -0.2994626521705197, -0.22606389371521085]\n",
      "[-0.1329468265464877, 0.015435045848603446, 0.5563362072344824]\n",
      "[-0.16834026953389314, -0.11357268942795162, -0.16377486783495954]\n",
      "[-0.34997881527465813, 0.12985021006886788, 0.12644346880506485]\n",
      "[0.2867679620216166, -0.18548466347416737, -0.3206300595329157]\n",
      "[0.08148139437604751, -0.06364672573456787, 0.346804150593089]\n",
      "[0.07431882905232334, 0.0671967639970612, -0.2261225487662737]\n",
      "[-0.16151571487023353, 0.0646029400648589, -0.5416549628325971]\n",
      "[-0.39393612263570876, 0.13765136262160005, -0.19383795373675072]\n",
      "[-0.3939532880124341, 0.26930717747947885, -0.3006078186866594]\n",
      "[-0.2196518982984843, 0.16099902135646693, -0.4403708074384849]\n",
      "[-0.14816680590740727, -0.06457147114228157, 0.5121393757863715]\n",
      "[-0.3820871729154245, -0.25364232281105226, 0.36288535204820893]\n",
      "[0.2247364621543675, -0.252052758655787, -0.23806500298827116]\n",
      "[-0.012228090012737614, -0.5212284319486111, -0.19076931947489428]\n",
      "[0.4037245160785954, -0.3829550677671587, -0.3568683493523541]\n",
      "[0.14464053737368854, -0.3537684075264984, -0.16809464392898144]\n",
      "[-0.03256712073647727, 0.15751859812175062, 0.5348211294303973]\n",
      "[0.3617501490129398, -0.5093924580357978, -0.49092097724454287]\n",
      "[-0.07710305350604663, -0.030682214337869107, 0.060140088378342504]\n",
      "[0.3758722211067822, 0.21480931629463007, 0.39818626136488966]\n",
      "[-0.33353827918811163, -0.1115941180841411, 0.3485184060139388]\n",
      "[0.04685744355097676, 0.18595553799162912, 0.2514194670882406]\n",
      "[-0.40457501200688784, -0.15435848455904688, 0.012300890700835732]\n",
      "[0.013971597296019045, -0.4534286719093541, -0.029166685126393643]\n",
      "[-0.5801118805594025, -0.25642295886229216, 0.0830210062848824]\n",
      "[-0.2730946780230197, -0.31993470486447806, 0.20779237098608472]\n",
      "[0.11233366313357274, -0.14844078105601244, -0.1281296557200422]\n",
      "[-0.38357255099232734, -0.37216667069155274, 0.5333452264540139]\n",
      "[0.21919605306543843, 0.41527818651038606, 0.29559709906097553]\n",
      "[-0.3295119231198307, 0.003182480673873833, -0.26931249672936275]\n",
      "[0.2949169278944985, 0.15299462060389457, 0.5407222366084272]\n",
      "[-0.008690804005829778, -0.44511035370720586, -0.22232290539544985]\n",
      "[-0.10370856474206214, 0.08346093285284395, -0.43609439607246725]\n",
      "[0.1985437997463022, 0.5978691312142106, 0.20327325949223174]\n",
      "[-0.07235458264574479, 0.37327781021949025, 0.10173362244105477]\n",
      "[0.31756606161414735, -0.27592424350680456, -0.20630993724046975]\n",
      "[-0.6384022319484925, -0.6453405593137842, 0.2851765289684616]\n",
      "[-0.34690533884535735, -0.43126130079112346, 0.12761941765356344]\n",
      "[-0.26246833144227755, 0.03012278058759832, -0.15228961776746375]\n",
      "[0.22711347563947037, -0.34296811799839766, -0.19378810300181448]\n",
      "[-0.17240059525998475, 0.25087640661284616, 0.3158365242792929]\n",
      "[0.3879458042566799, 0.07755134839815003, -0.0057898068343178455]\n",
      "[0.08382110689031896, 0.11766068745129621, 0.1672641884979824]\n",
      "[0.5469150603618389, 0.2429365635797438, 0.17121356601326165]\n",
      "[-0.523737691871156, -0.29118951993635656, 0.007254883019391478]\n",
      "[0.04233447595497242, 0.4406900771932001, -0.24754203577819123]\n",
      "[-0.336899266959253, -0.2599048895912437, -0.1719056952131255]\n",
      "[0.29128253425988593, -0.3480686595593103, -0.056076016229761105]\n",
      "[-0.35728087147053933, 0.2962889311599688, -0.0704425212824249]\n",
      "[-0.47835643538296635, 0.340105914541422, -0.47503165259179103]\n",
      "[-0.12624763593734323, 0.4018513106062005, -0.2385497582261613]\n",
      "[0.20604868313309455, 0.5121819257051872, 0.014719455376475343]\n",
      "[-0.1215285217963833, -0.4595475928387265, -0.27780684970573866]\n",
      "[-0.15266701880960043, 0.4396173474319798, -0.16154492937720422]\n",
      "[0.019815064906369084, 0.04427835212216924, 0.26784029160031886]\n",
      "[-0.1551193944709297, -0.21782068366358143, 0.5782704885788974]\n",
      "[-0.3651885272179365, -0.5233200924689523, 0.24852092541184256]\n",
      "[0.3278447687252708, 0.5984847273406182, 0.06309497846875178]\n",
      "[-0.12412268959510642, 0.1512523391390388, 0.25634878675905814]\n",
      "[0.08082348465678368, -0.31422161770546775, -0.39950786162465923]\n",
      "[-0.3213103057326374, -0.05705827433795663, 0.32091882306234476]\n",
      "[-0.007450535507308675, 0.10971037032623343, 0.41422441474254823]\n",
      "[-0.11078670378345024, -0.09636048030103872, 0.08348098264446846]\n",
      "[-0.563507401965903, -0.07536299312411332, -0.22410077702074926]\n",
      "[-0.5500940509725822, -0.4186098857592082, 0.313194314336797]\n",
      "[0.489369000046024, -0.25739499193866977, -0.35180977058096086]\n",
      "[0.06417220570359938, -0.18735749271857371, -0.5215640597626201]\n",
      "[-0.38260372073985627, 0.27951787598491107, -0.11913265774727377]\n",
      "[-0.5114011281589388, -0.126070188687049, -0.29444414851253353]\n",
      "[-0.19831058419861725, -0.27304371781873993, -0.31385508420394737]\n",
      "[-0.2514016688243732, -0.4552322286409085, 0.1098920943738193]\n",
      "[-0.40895572131844493, -0.07439556507401202, -0.15384485167045292]\n",
      "[-0.33083640289627847, -0.0562918895789708, 0.33760020707512806]\n",
      "[-0.09038580541154428, -0.15510189935810548, -0.4722467428586301]\n",
      "[-0.09289542490279445, 0.026743404625646283, -0.023746556922382478]\n",
      "[-0.2666164951042902, 0.24842065011141168, -0.35905345463243243]\n",
      "[-0.3022452016389945, -0.42596525886093395, -0.11645681922645124]\n",
      "[-0.0691537447811994, -0.07555760816492185, 0.05134383879856541]\n",
      "[0.5501655749900471, -0.08532771786854498, -0.16421054439800398]\n",
      "[-0.1332832928713139, -0.16767119306736933, 0.43164691662025856]\n",
      "[0.2790977654238145, -0.04857971231428948, -0.07756816329929839]\n",
      "[0.31446005184910053, -0.20458786888223912, 0.2539165369078471]\n",
      "[0.5626089270770289, 0.006162905166033017, -0.04737628485529943]\n",
      "[-0.36808170744018076, -0.2884394620930879, -0.10181897001401885]\n",
      "[0.5730490566857422, 0.23391364529297132, -0.06368379612862385]\n"
     ]
    },
    {
     "data": {
      "application/javascript": [
       "/* Put everything inside the global mpl namespace */\n",
       "window.mpl = {};\n",
       "\n",
       "\n",
       "mpl.get_websocket_type = function() {\n",
       "    if (typeof(WebSocket) !== 'undefined') {\n",
       "        return WebSocket;\n",
       "    } else if (typeof(MozWebSocket) !== 'undefined') {\n",
       "        return MozWebSocket;\n",
       "    } else {\n",
       "        alert('Your browser does not have WebSocket support.' +\n",
       "              'Please try Chrome, Safari or Firefox ≥ 6. ' +\n",
       "              'Firefox 4 and 5 are also supported but you ' +\n",
       "              'have to enable WebSockets in about:config.');\n",
       "    };\n",
       "}\n",
       "\n",
       "mpl.figure = function(figure_id, websocket, ondownload, parent_element) {\n",
       "    this.id = figure_id;\n",
       "\n",
       "    this.ws = websocket;\n",
       "\n",
       "    this.supports_binary = (this.ws.binaryType != undefined);\n",
       "\n",
       "    if (!this.supports_binary) {\n",
       "        var warnings = document.getElementById(\"mpl-warnings\");\n",
       "        if (warnings) {\n",
       "            warnings.style.display = 'block';\n",
       "            warnings.textContent = (\n",
       "                \"This browser does not support binary websocket messages. \" +\n",
       "                    \"Performance may be slow.\");\n",
       "        }\n",
       "    }\n",
       "\n",
       "    this.imageObj = new Image();\n",
       "\n",
       "    this.context = undefined;\n",
       "    this.message = undefined;\n",
       "    this.canvas = undefined;\n",
       "    this.rubberband_canvas = undefined;\n",
       "    this.rubberband_context = undefined;\n",
       "    this.format_dropdown = undefined;\n",
       "\n",
       "    this.image_mode = 'full';\n",
       "\n",
       "    this.root = $('<div/>');\n",
       "    this._root_extra_style(this.root)\n",
       "    this.root.attr('style', 'display: inline-block');\n",
       "\n",
       "    $(parent_element).append(this.root);\n",
       "\n",
       "    this._init_header(this);\n",
       "    this._init_canvas(this);\n",
       "    this._init_toolbar(this);\n",
       "\n",
       "    var fig = this;\n",
       "\n",
       "    this.waiting = false;\n",
       "\n",
       "    this.ws.onopen =  function () {\n",
       "            fig.send_message(\"supports_binary\", {value: fig.supports_binary});\n",
       "            fig.send_message(\"send_image_mode\", {});\n",
       "            if (mpl.ratio != 1) {\n",
       "                fig.send_message(\"set_dpi_ratio\", {'dpi_ratio': mpl.ratio});\n",
       "            }\n",
       "            fig.send_message(\"refresh\", {});\n",
       "        }\n",
       "\n",
       "    this.imageObj.onload = function() {\n",
       "            if (fig.image_mode == 'full') {\n",
       "                // Full images could contain transparency (where diff images\n",
       "                // almost always do), so we need to clear the canvas so that\n",
       "                // there is no ghosting.\n",
       "                fig.context.clearRect(0, 0, fig.canvas.width, fig.canvas.height);\n",
       "            }\n",
       "            fig.context.drawImage(fig.imageObj, 0, 0);\n",
       "        };\n",
       "\n",
       "    this.imageObj.onunload = function() {\n",
       "        fig.ws.close();\n",
       "    }\n",
       "\n",
       "    this.ws.onmessage = this._make_on_message_function(this);\n",
       "\n",
       "    this.ondownload = ondownload;\n",
       "}\n",
       "\n",
       "mpl.figure.prototype._init_header = function() {\n",
       "    var titlebar = $(\n",
       "        '<div class=\"ui-dialog-titlebar ui-widget-header ui-corner-all ' +\n",
       "        'ui-helper-clearfix\"/>');\n",
       "    var titletext = $(\n",
       "        '<div class=\"ui-dialog-title\" style=\"width: 100%; ' +\n",
       "        'text-align: center; padding: 3px;\"/>');\n",
       "    titlebar.append(titletext)\n",
       "    this.root.append(titlebar);\n",
       "    this.header = titletext[0];\n",
       "}\n",
       "\n",
       "\n",
       "\n",
       "mpl.figure.prototype._canvas_extra_style = function(canvas_div) {\n",
       "\n",
       "}\n",
       "\n",
       "\n",
       "mpl.figure.prototype._root_extra_style = function(canvas_div) {\n",
       "\n",
       "}\n",
       "\n",
       "mpl.figure.prototype._init_canvas = function() {\n",
       "    var fig = this;\n",
       "\n",
       "    var canvas_div = $('<div/>');\n",
       "\n",
       "    canvas_div.attr('style', 'position: relative; clear: both; outline: 0');\n",
       "\n",
       "    function canvas_keyboard_event(event) {\n",
       "        return fig.key_event(event, event['data']);\n",
       "    }\n",
       "\n",
       "    canvas_div.keydown('key_press', canvas_keyboard_event);\n",
       "    canvas_div.keyup('key_release', canvas_keyboard_event);\n",
       "    this.canvas_div = canvas_div\n",
       "    this._canvas_extra_style(canvas_div)\n",
       "    this.root.append(canvas_div);\n",
       "\n",
       "    var canvas = $('<canvas/>');\n",
       "    canvas.addClass('mpl-canvas');\n",
       "    canvas.attr('style', \"left: 0; top: 0; z-index: 0; outline: 0\")\n",
       "\n",
       "    this.canvas = canvas[0];\n",
       "    this.context = canvas[0].getContext(\"2d\");\n",
       "\n",
       "    var backingStore = this.context.backingStorePixelRatio ||\n",
       "\tthis.context.webkitBackingStorePixelRatio ||\n",
       "\tthis.context.mozBackingStorePixelRatio ||\n",
       "\tthis.context.msBackingStorePixelRatio ||\n",
       "\tthis.context.oBackingStorePixelRatio ||\n",
       "\tthis.context.backingStorePixelRatio || 1;\n",
       "\n",
       "    mpl.ratio = (window.devicePixelRatio || 1) / backingStore;\n",
       "\n",
       "    var rubberband = $('<canvas/>');\n",
       "    rubberband.attr('style', \"position: absolute; left: 0; top: 0; z-index: 1;\")\n",
       "\n",
       "    var pass_mouse_events = true;\n",
       "\n",
       "    canvas_div.resizable({\n",
       "        start: function(event, ui) {\n",
       "            pass_mouse_events = false;\n",
       "        },\n",
       "        resize: function(event, ui) {\n",
       "            fig.request_resize(ui.size.width, ui.size.height);\n",
       "        },\n",
       "        stop: function(event, ui) {\n",
       "            pass_mouse_events = true;\n",
       "            fig.request_resize(ui.size.width, ui.size.height);\n",
       "        },\n",
       "    });\n",
       "\n",
       "    function mouse_event_fn(event) {\n",
       "        if (pass_mouse_events)\n",
       "            return fig.mouse_event(event, event['data']);\n",
       "    }\n",
       "\n",
       "    rubberband.mousedown('button_press', mouse_event_fn);\n",
       "    rubberband.mouseup('button_release', mouse_event_fn);\n",
       "    // Throttle sequential mouse events to 1 every 20ms.\n",
       "    rubberband.mousemove('motion_notify', mouse_event_fn);\n",
       "\n",
       "    rubberband.mouseenter('figure_enter', mouse_event_fn);\n",
       "    rubberband.mouseleave('figure_leave', mouse_event_fn);\n",
       "\n",
       "    canvas_div.on(\"wheel\", function (event) {\n",
       "        event = event.originalEvent;\n",
       "        event['data'] = 'scroll'\n",
       "        if (event.deltaY < 0) {\n",
       "            event.step = 1;\n",
       "        } else {\n",
       "            event.step = -1;\n",
       "        }\n",
       "        mouse_event_fn(event);\n",
       "    });\n",
       "\n",
       "    canvas_div.append(canvas);\n",
       "    canvas_div.append(rubberband);\n",
       "\n",
       "    this.rubberband = rubberband;\n",
       "    this.rubberband_canvas = rubberband[0];\n",
       "    this.rubberband_context = rubberband[0].getContext(\"2d\");\n",
       "    this.rubberband_context.strokeStyle = \"#000000\";\n",
       "\n",
       "    this._resize_canvas = function(width, height) {\n",
       "        // Keep the size of the canvas, canvas container, and rubber band\n",
       "        // canvas in synch.\n",
       "        canvas_div.css('width', width)\n",
       "        canvas_div.css('height', height)\n",
       "\n",
       "        canvas.attr('width', width * mpl.ratio);\n",
       "        canvas.attr('height', height * mpl.ratio);\n",
       "        canvas.attr('style', 'width: ' + width + 'px; height: ' + height + 'px;');\n",
       "\n",
       "        rubberband.attr('width', width);\n",
       "        rubberband.attr('height', height);\n",
       "    }\n",
       "\n",
       "    // Set the figure to an initial 600x600px, this will subsequently be updated\n",
       "    // upon first draw.\n",
       "    this._resize_canvas(600, 600);\n",
       "\n",
       "    // Disable right mouse context menu.\n",
       "    $(this.rubberband_canvas).bind(\"contextmenu\",function(e){\n",
       "        return false;\n",
       "    });\n",
       "\n",
       "    function set_focus () {\n",
       "        canvas.focus();\n",
       "        canvas_div.focus();\n",
       "    }\n",
       "\n",
       "    window.setTimeout(set_focus, 100);\n",
       "}\n",
       "\n",
       "mpl.figure.prototype._init_toolbar = function() {\n",
       "    var fig = this;\n",
       "\n",
       "    var nav_element = $('<div/>')\n",
       "    nav_element.attr('style', 'width: 100%');\n",
       "    this.root.append(nav_element);\n",
       "\n",
       "    // Define a callback function for later on.\n",
       "    function toolbar_event(event) {\n",
       "        return fig.toolbar_button_onclick(event['data']);\n",
       "    }\n",
       "    function toolbar_mouse_event(event) {\n",
       "        return fig.toolbar_button_onmouseover(event['data']);\n",
       "    }\n",
       "\n",
       "    for(var toolbar_ind in mpl.toolbar_items) {\n",
       "        var name = mpl.toolbar_items[toolbar_ind][0];\n",
       "        var tooltip = mpl.toolbar_items[toolbar_ind][1];\n",
       "        var image = mpl.toolbar_items[toolbar_ind][2];\n",
       "        var method_name = mpl.toolbar_items[toolbar_ind][3];\n",
       "\n",
       "        if (!name) {\n",
       "            // put a spacer in here.\n",
       "            continue;\n",
       "        }\n",
       "        var button = $('<button/>');\n",
       "        button.addClass('ui-button ui-widget ui-state-default ui-corner-all ' +\n",
       "                        'ui-button-icon-only');\n",
       "        button.attr('role', 'button');\n",
       "        button.attr('aria-disabled', 'false');\n",
       "        button.click(method_name, toolbar_event);\n",
       "        button.mouseover(tooltip, toolbar_mouse_event);\n",
       "\n",
       "        var icon_img = $('<span/>');\n",
       "        icon_img.addClass('ui-button-icon-primary ui-icon');\n",
       "        icon_img.addClass(image);\n",
       "        icon_img.addClass('ui-corner-all');\n",
       "\n",
       "        var tooltip_span = $('<span/>');\n",
       "        tooltip_span.addClass('ui-button-text');\n",
       "        tooltip_span.html(tooltip);\n",
       "\n",
       "        button.append(icon_img);\n",
       "        button.append(tooltip_span);\n",
       "\n",
       "        nav_element.append(button);\n",
       "    }\n",
       "\n",
       "    var fmt_picker_span = $('<span/>');\n",
       "\n",
       "    var fmt_picker = $('<select/>');\n",
       "    fmt_picker.addClass('mpl-toolbar-option ui-widget ui-widget-content');\n",
       "    fmt_picker_span.append(fmt_picker);\n",
       "    nav_element.append(fmt_picker_span);\n",
       "    this.format_dropdown = fmt_picker[0];\n",
       "\n",
       "    for (var ind in mpl.extensions) {\n",
       "        var fmt = mpl.extensions[ind];\n",
       "        var option = $(\n",
       "            '<option/>', {selected: fmt === mpl.default_extension}).html(fmt);\n",
       "        fmt_picker.append(option)\n",
       "    }\n",
       "\n",
       "    // Add hover states to the ui-buttons\n",
       "    $( \".ui-button\" ).hover(\n",
       "        function() { $(this).addClass(\"ui-state-hover\");},\n",
       "        function() { $(this).removeClass(\"ui-state-hover\");}\n",
       "    );\n",
       "\n",
       "    var status_bar = $('<span class=\"mpl-message\"/>');\n",
       "    nav_element.append(status_bar);\n",
       "    this.message = status_bar[0];\n",
       "}\n",
       "\n",
       "mpl.figure.prototype.request_resize = function(x_pixels, y_pixels) {\n",
       "    // Request matplotlib to resize the figure. Matplotlib will then trigger a resize in the client,\n",
       "    // which will in turn request a refresh of the image.\n",
       "    this.send_message('resize', {'width': x_pixels, 'height': y_pixels});\n",
       "}\n",
       "\n",
       "mpl.figure.prototype.send_message = function(type, properties) {\n",
       "    properties['type'] = type;\n",
       "    properties['figure_id'] = this.id;\n",
       "    this.ws.send(JSON.stringify(properties));\n",
       "}\n",
       "\n",
       "mpl.figure.prototype.send_draw_message = function() {\n",
       "    if (!this.waiting) {\n",
       "        this.waiting = true;\n",
       "        this.ws.send(JSON.stringify({type: \"draw\", figure_id: this.id}));\n",
       "    }\n",
       "}\n",
       "\n",
       "\n",
       "mpl.figure.prototype.handle_save = function(fig, msg) {\n",
       "    var format_dropdown = fig.format_dropdown;\n",
       "    var format = format_dropdown.options[format_dropdown.selectedIndex].value;\n",
       "    fig.ondownload(fig, format);\n",
       "}\n",
       "\n",
       "\n",
       "mpl.figure.prototype.handle_resize = function(fig, msg) {\n",
       "    var size = msg['size'];\n",
       "    if (size[0] != fig.canvas.width || size[1] != fig.canvas.height) {\n",
       "        fig._resize_canvas(size[0], size[1]);\n",
       "        fig.send_message(\"refresh\", {});\n",
       "    };\n",
       "}\n",
       "\n",
       "mpl.figure.prototype.handle_rubberband = function(fig, msg) {\n",
       "    var x0 = msg['x0'] / mpl.ratio;\n",
       "    var y0 = (fig.canvas.height - msg['y0']) / mpl.ratio;\n",
       "    var x1 = msg['x1'] / mpl.ratio;\n",
       "    var y1 = (fig.canvas.height - msg['y1']) / mpl.ratio;\n",
       "    x0 = Math.floor(x0) + 0.5;\n",
       "    y0 = Math.floor(y0) + 0.5;\n",
       "    x1 = Math.floor(x1) + 0.5;\n",
       "    y1 = Math.floor(y1) + 0.5;\n",
       "    var min_x = Math.min(x0, x1);\n",
       "    var min_y = Math.min(y0, y1);\n",
       "    var width = Math.abs(x1 - x0);\n",
       "    var height = Math.abs(y1 - y0);\n",
       "\n",
       "    fig.rubberband_context.clearRect(\n",
       "        0, 0, fig.canvas.width, fig.canvas.height);\n",
       "\n",
       "    fig.rubberband_context.strokeRect(min_x, min_y, width, height);\n",
       "}\n",
       "\n",
       "mpl.figure.prototype.handle_figure_label = function(fig, msg) {\n",
       "    // Updates the figure title.\n",
       "    fig.header.textContent = msg['label'];\n",
       "}\n",
       "\n",
       "mpl.figure.prototype.handle_cursor = function(fig, msg) {\n",
       "    var cursor = msg['cursor'];\n",
       "    switch(cursor)\n",
       "    {\n",
       "    case 0:\n",
       "        cursor = 'pointer';\n",
       "        break;\n",
       "    case 1:\n",
       "        cursor = 'default';\n",
       "        break;\n",
       "    case 2:\n",
       "        cursor = 'crosshair';\n",
       "        break;\n",
       "    case 3:\n",
       "        cursor = 'move';\n",
       "        break;\n",
       "    }\n",
       "    fig.rubberband_canvas.style.cursor = cursor;\n",
       "}\n",
       "\n",
       "mpl.figure.prototype.handle_message = function(fig, msg) {\n",
       "    fig.message.textContent = msg['message'];\n",
       "}\n",
       "\n",
       "mpl.figure.prototype.handle_draw = function(fig, msg) {\n",
       "    // Request the server to send over a new figure.\n",
       "    fig.send_draw_message();\n",
       "}\n",
       "\n",
       "mpl.figure.prototype.handle_image_mode = function(fig, msg) {\n",
       "    fig.image_mode = msg['mode'];\n",
       "}\n",
       "\n",
       "mpl.figure.prototype.updated_canvas_event = function() {\n",
       "    // Called whenever the canvas gets updated.\n",
       "    this.send_message(\"ack\", {});\n",
       "}\n",
       "\n",
       "// A function to construct a web socket function for onmessage handling.\n",
       "// Called in the figure constructor.\n",
       "mpl.figure.prototype._make_on_message_function = function(fig) {\n",
       "    return function socket_on_message(evt) {\n",
       "        if (evt.data instanceof Blob) {\n",
       "            /* FIXME: We get \"Resource interpreted as Image but\n",
       "             * transferred with MIME type text/plain:\" errors on\n",
       "             * Chrome.  But how to set the MIME type?  It doesn't seem\n",
       "             * to be part of the websocket stream */\n",
       "            evt.data.type = \"image/png\";\n",
       "\n",
       "            /* Free the memory for the previous frames */\n",
       "            if (fig.imageObj.src) {\n",
       "                (window.URL || window.webkitURL).revokeObjectURL(\n",
       "                    fig.imageObj.src);\n",
       "            }\n",
       "\n",
       "            fig.imageObj.src = (window.URL || window.webkitURL).createObjectURL(\n",
       "                evt.data);\n",
       "            fig.updated_canvas_event();\n",
       "            fig.waiting = false;\n",
       "            return;\n",
       "        }\n",
       "        else if (typeof evt.data === 'string' && evt.data.slice(0, 21) == \"data:image/png;base64\") {\n",
       "            fig.imageObj.src = evt.data;\n",
       "            fig.updated_canvas_event();\n",
       "            fig.waiting = false;\n",
       "            return;\n",
       "        }\n",
       "\n",
       "        var msg = JSON.parse(evt.data);\n",
       "        var msg_type = msg['type'];\n",
       "\n",
       "        // Call the  \"handle_{type}\" callback, which takes\n",
       "        // the figure and JSON message as its only arguments.\n",
       "        try {\n",
       "            var callback = fig[\"handle_\" + msg_type];\n",
       "        } catch (e) {\n",
       "            console.log(\"No handler for the '\" + msg_type + \"' message type: \", msg);\n",
       "            return;\n",
       "        }\n",
       "\n",
       "        if (callback) {\n",
       "            try {\n",
       "                // console.log(\"Handling '\" + msg_type + \"' message: \", msg);\n",
       "                callback(fig, msg);\n",
       "            } catch (e) {\n",
       "                console.log(\"Exception inside the 'handler_\" + msg_type + \"' callback:\", e, e.stack, msg);\n",
       "            }\n",
       "        }\n",
       "    };\n",
       "}\n",
       "\n",
       "// from http://stackoverflow.com/questions/1114465/getting-mouse-location-in-canvas\n",
       "mpl.findpos = function(e) {\n",
       "    //this section is from http://www.quirksmode.org/js/events_properties.html\n",
       "    var targ;\n",
       "    if (!e)\n",
       "        e = window.event;\n",
       "    if (e.target)\n",
       "        targ = e.target;\n",
       "    else if (e.srcElement)\n",
       "        targ = e.srcElement;\n",
       "    if (targ.nodeType == 3) // defeat Safari bug\n",
       "        targ = targ.parentNode;\n",
       "\n",
       "    // jQuery normalizes the pageX and pageY\n",
       "    // pageX,Y are the mouse positions relative to the document\n",
       "    // offset() returns the position of the element relative to the document\n",
       "    var x = e.pageX - $(targ).offset().left;\n",
       "    var y = e.pageY - $(targ).offset().top;\n",
       "\n",
       "    return {\"x\": x, \"y\": y};\n",
       "};\n",
       "\n",
       "/*\n",
       " * return a copy of an object with only non-object keys\n",
       " * we need this to avoid circular references\n",
       " * http://stackoverflow.com/a/24161582/3208463\n",
       " */\n",
       "function simpleKeys (original) {\n",
       "  return Object.keys(original).reduce(function (obj, key) {\n",
       "    if (typeof original[key] !== 'object')\n",
       "        obj[key] = original[key]\n",
       "    return obj;\n",
       "  }, {});\n",
       "}\n",
       "\n",
       "mpl.figure.prototype.mouse_event = function(event, name) {\n",
       "    var canvas_pos = mpl.findpos(event)\n",
       "\n",
       "    if (name === 'button_press')\n",
       "    {\n",
       "        this.canvas.focus();\n",
       "        this.canvas_div.focus();\n",
       "    }\n",
       "\n",
       "    var x = canvas_pos.x * mpl.ratio;\n",
       "    var y = canvas_pos.y * mpl.ratio;\n",
       "\n",
       "    this.send_message(name, {x: x, y: y, button: event.button,\n",
       "                             step: event.step,\n",
       "                             guiEvent: simpleKeys(event)});\n",
       "\n",
       "    /* This prevents the web browser from automatically changing to\n",
       "     * the text insertion cursor when the button is pressed.  We want\n",
       "     * to control all of the cursor setting manually through the\n",
       "     * 'cursor' event from matplotlib */\n",
       "    event.preventDefault();\n",
       "    return false;\n",
       "}\n",
       "\n",
       "mpl.figure.prototype._key_event_extra = function(event, name) {\n",
       "    // Handle any extra behaviour associated with a key event\n",
       "}\n",
       "\n",
       "mpl.figure.prototype.key_event = function(event, name) {\n",
       "\n",
       "    // Prevent repeat events\n",
       "    if (name == 'key_press')\n",
       "    {\n",
       "        if (event.which === this._key)\n",
       "            return;\n",
       "        else\n",
       "            this._key = event.which;\n",
       "    }\n",
       "    if (name == 'key_release')\n",
       "        this._key = null;\n",
       "\n",
       "    var value = '';\n",
       "    if (event.ctrlKey && event.which != 17)\n",
       "        value += \"ctrl+\";\n",
       "    if (event.altKey && event.which != 18)\n",
       "        value += \"alt+\";\n",
       "    if (event.shiftKey && event.which != 16)\n",
       "        value += \"shift+\";\n",
       "\n",
       "    value += 'k';\n",
       "    value += event.which.toString();\n",
       "\n",
       "    this._key_event_extra(event, name);\n",
       "\n",
       "    this.send_message(name, {key: value,\n",
       "                             guiEvent: simpleKeys(event)});\n",
       "    return false;\n",
       "}\n",
       "\n",
       "mpl.figure.prototype.toolbar_button_onclick = function(name) {\n",
       "    if (name == 'download') {\n",
       "        this.handle_save(this, null);\n",
       "    } else {\n",
       "        this.send_message(\"toolbar_button\", {name: name});\n",
       "    }\n",
       "};\n",
       "\n",
       "mpl.figure.prototype.toolbar_button_onmouseover = function(tooltip) {\n",
       "    this.message.textContent = tooltip;\n",
       "};\n",
       "mpl.toolbar_items = [[\"Home\", \"Reset original view\", \"fa fa-home icon-home\", \"home\"], [\"Back\", \"Back to previous view\", \"fa fa-arrow-left icon-arrow-left\", \"back\"], [\"Forward\", \"Forward to next view\", \"fa fa-arrow-right icon-arrow-right\", \"forward\"], [\"\", \"\", \"\", \"\"], [\"Pan\", \"Pan axes with left mouse, zoom with right\", \"fa fa-arrows icon-move\", \"pan\"], [\"Zoom\", \"Zoom to rectangle\", \"fa fa-square-o icon-check-empty\", \"zoom\"], [\"\", \"\", \"\", \"\"], [\"Download\", \"Download plot\", \"fa fa-floppy-o icon-save\", \"download\"]];\n",
       "\n",
       "mpl.extensions = [\"eps\", \"pdf\", \"png\", \"ps\", \"raw\", \"svg\"];\n",
       "\n",
       "mpl.default_extension = \"png\";var comm_websocket_adapter = function(comm) {\n",
       "    // Create a \"websocket\"-like object which calls the given IPython comm\n",
       "    // object with the appropriate methods. Currently this is a non binary\n",
       "    // socket, so there is still some room for performance tuning.\n",
       "    var ws = {};\n",
       "\n",
       "    ws.close = function() {\n",
       "        comm.close()\n",
       "    };\n",
       "    ws.send = function(m) {\n",
       "        //console.log('sending', m);\n",
       "        comm.send(m);\n",
       "    };\n",
       "    // Register the callback with on_msg.\n",
       "    comm.on_msg(function(msg) {\n",
       "        //console.log('receiving', msg['content']['data'], msg);\n",
       "        // Pass the mpl event to the overridden (by mpl) onmessage function.\n",
       "        ws.onmessage(msg['content']['data'])\n",
       "    });\n",
       "    return ws;\n",
       "}\n",
       "\n",
       "mpl.mpl_figure_comm = function(comm, msg) {\n",
       "    // This is the function which gets called when the mpl process\n",
       "    // starts-up an IPython Comm through the \"matplotlib\" channel.\n",
       "\n",
       "    var id = msg.content.data.id;\n",
       "    // Get hold of the div created by the display call when the Comm\n",
       "    // socket was opened in Python.\n",
       "    var element = $(\"#\" + id);\n",
       "    var ws_proxy = comm_websocket_adapter(comm)\n",
       "\n",
       "    function ondownload(figure, format) {\n",
       "        window.open(figure.imageObj.src);\n",
       "    }\n",
       "\n",
       "    var fig = new mpl.figure(id, ws_proxy,\n",
       "                           ondownload,\n",
       "                           element.get(0));\n",
       "\n",
       "    // Call onopen now - mpl needs it, as it is assuming we've passed it a real\n",
       "    // web socket which is closed, not our websocket->open comm proxy.\n",
       "    ws_proxy.onopen();\n",
       "\n",
       "    fig.parent_element = element.get(0);\n",
       "    fig.cell_info = mpl.find_output_cell(\"<div id='\" + id + \"'></div>\");\n",
       "    if (!fig.cell_info) {\n",
       "        console.error(\"Failed to find cell for figure\", id, fig);\n",
       "        return;\n",
       "    }\n",
       "\n",
       "    var output_index = fig.cell_info[2]\n",
       "    var cell = fig.cell_info[0];\n",
       "\n",
       "};\n",
       "\n",
       "mpl.figure.prototype.handle_close = function(fig, msg) {\n",
       "    var width = fig.canvas.width/mpl.ratio\n",
       "    fig.root.unbind('remove')\n",
       "\n",
       "    // Update the output cell to use the data from the current canvas.\n",
       "    fig.push_to_output();\n",
       "    var dataURL = fig.canvas.toDataURL();\n",
       "    // Re-enable the keyboard manager in IPython - without this line, in FF,\n",
       "    // the notebook keyboard shortcuts fail.\n",
       "    IPython.keyboard_manager.enable()\n",
       "    $(fig.parent_element).html('<img src=\"' + dataURL + '\" width=\"' + width + '\">');\n",
       "    fig.close_ws(fig, msg);\n",
       "}\n",
       "\n",
       "mpl.figure.prototype.close_ws = function(fig, msg){\n",
       "    fig.send_message('closing', msg);\n",
       "    // fig.ws.close()\n",
       "}\n",
       "\n",
       "mpl.figure.prototype.push_to_output = function(remove_interactive) {\n",
       "    // Turn the data on the canvas into data in the output cell.\n",
       "    var width = this.canvas.width/mpl.ratio\n",
       "    var dataURL = this.canvas.toDataURL();\n",
       "    this.cell_info[1]['text/html'] = '<img src=\"' + dataURL + '\" width=\"' + width + '\">';\n",
       "}\n",
       "\n",
       "mpl.figure.prototype.updated_canvas_event = function() {\n",
       "    // Tell IPython that the notebook contents must change.\n",
       "    IPython.notebook.set_dirty(true);\n",
       "    this.send_message(\"ack\", {});\n",
       "    var fig = this;\n",
       "    // Wait a second, then push the new image to the DOM so\n",
       "    // that it is saved nicely (might be nice to debounce this).\n",
       "    setTimeout(function () { fig.push_to_output() }, 1000);\n",
       "}\n",
       "\n",
       "mpl.figure.prototype._init_toolbar = function() {\n",
       "    var fig = this;\n",
       "\n",
       "    var nav_element = $('<div/>')\n",
       "    nav_element.attr('style', 'width: 100%');\n",
       "    this.root.append(nav_element);\n",
       "\n",
       "    // Define a callback function for later on.\n",
       "    function toolbar_event(event) {\n",
       "        return fig.toolbar_button_onclick(event['data']);\n",
       "    }\n",
       "    function toolbar_mouse_event(event) {\n",
       "        return fig.toolbar_button_onmouseover(event['data']);\n",
       "    }\n",
       "\n",
       "    for(var toolbar_ind in mpl.toolbar_items){\n",
       "        var name = mpl.toolbar_items[toolbar_ind][0];\n",
       "        var tooltip = mpl.toolbar_items[toolbar_ind][1];\n",
       "        var image = mpl.toolbar_items[toolbar_ind][2];\n",
       "        var method_name = mpl.toolbar_items[toolbar_ind][3];\n",
       "\n",
       "        if (!name) { continue; };\n",
       "\n",
       "        var button = $('<button class=\"btn btn-default\" href=\"#\" title=\"' + name + '\"><i class=\"fa ' + image + ' fa-lg\"></i></button>');\n",
       "        button.click(method_name, toolbar_event);\n",
       "        button.mouseover(tooltip, toolbar_mouse_event);\n",
       "        nav_element.append(button);\n",
       "    }\n",
       "\n",
       "    // Add the status bar.\n",
       "    var status_bar = $('<span class=\"mpl-message\" style=\"text-align:right; float: right;\"/>');\n",
       "    nav_element.append(status_bar);\n",
       "    this.message = status_bar[0];\n",
       "\n",
       "    // Add the close button to the window.\n",
       "    var buttongrp = $('<div class=\"btn-group inline pull-right\"></div>');\n",
       "    var button = $('<button class=\"btn btn-mini btn-primary\" href=\"#\" title=\"Stop Interaction\"><i class=\"fa fa-power-off icon-remove icon-large\"></i></button>');\n",
       "    button.click(function (evt) { fig.handle_close(fig, {}); } );\n",
       "    button.mouseover('Stop Interaction', toolbar_mouse_event);\n",
       "    buttongrp.append(button);\n",
       "    var titlebar = this.root.find($('.ui-dialog-titlebar'));\n",
       "    titlebar.prepend(buttongrp);\n",
       "}\n",
       "\n",
       "mpl.figure.prototype._root_extra_style = function(el){\n",
       "    var fig = this\n",
       "    el.on(\"remove\", function(){\n",
       "\tfig.close_ws(fig, {});\n",
       "    });\n",
       "}\n",
       "\n",
       "mpl.figure.prototype._canvas_extra_style = function(el){\n",
       "    // this is important to make the div 'focusable\n",
       "    el.attr('tabindex', 0)\n",
       "    // reach out to IPython and tell the keyboard manager to turn it's self\n",
       "    // off when our div gets focus\n",
       "\n",
       "    // location in version 3\n",
       "    if (IPython.notebook.keyboard_manager) {\n",
       "        IPython.notebook.keyboard_manager.register_events(el);\n",
       "    }\n",
       "    else {\n",
       "        // location in version 2\n",
       "        IPython.keyboard_manager.register_events(el);\n",
       "    }\n",
       "\n",
       "}\n",
       "\n",
       "mpl.figure.prototype._key_event_extra = function(event, name) {\n",
       "    var manager = IPython.notebook.keyboard_manager;\n",
       "    if (!manager)\n",
       "        manager = IPython.keyboard_manager;\n",
       "\n",
       "    // Check for shift+enter\n",
       "    if (event.shiftKey && event.which == 13) {\n",
       "        this.canvas_div.blur();\n",
       "        event.shiftKey = false;\n",
       "        // Send a \"J\" for go to next cell\n",
       "        event.which = 74;\n",
       "        event.keyCode = 74;\n",
       "        manager.command_mode();\n",
       "        manager.handle_keydown(event);\n",
       "    }\n",
       "}\n",
       "\n",
       "mpl.figure.prototype.handle_save = function(fig, msg) {\n",
       "    fig.ondownload(fig, null);\n",
       "}\n",
       "\n",
       "\n",
       "mpl.find_output_cell = function(html_output) {\n",
       "    // Return the cell and output element which can be found *uniquely* in the notebook.\n",
       "    // Note - this is a bit hacky, but it is done because the \"notebook_saving.Notebook\"\n",
       "    // IPython event is triggered only after the cells have been serialised, which for\n",
       "    // our purposes (turning an active figure into a static one), is too late.\n",
       "    var cells = IPython.notebook.get_cells();\n",
       "    var ncells = cells.length;\n",
       "    for (var i=0; i<ncells; i++) {\n",
       "        var cell = cells[i];\n",
       "        if (cell.cell_type === 'code'){\n",
       "            for (var j=0; j<cell.output_area.outputs.length; j++) {\n",
       "                var data = cell.output_area.outputs[j];\n",
       "                if (data.data) {\n",
       "                    // IPython >= 3 moved mimebundle to data attribute of output\n",
       "                    data = data.data;\n",
       "                }\n",
       "                if (data['text/html'] == html_output) {\n",
       "                    return [cell, data, j];\n",
       "                }\n",
       "            }\n",
       "        }\n",
       "    }\n",
       "}\n",
       "\n",
       "// Register the function which deals with the matplotlib target/channel.\n",
       "// The kernel may be null if the page has been refreshed.\n",
       "if (IPython.notebook.kernel != null) {\n",
       "    IPython.notebook.kernel.comm_manager.register_target('matplotlib', mpl.mpl_figure_comm);\n",
       "}\n"
      ],
      "text/plain": [
       "<IPython.core.display.Javascript object>"
      ]
     },
     "metadata": {},
     "output_type": "display_data"
    },
    {
     "data": {
      "text/html": [
       "<img src=\"data:image/png;base64,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\" width=\"640\">"
      ],
      "text/plain": [
       "<IPython.core.display.HTML object>"
      ]
     },
     "metadata": {},
     "output_type": "display_data"
    }
   ],
   "source": [
    "from mpl_toolkits.mplot3d import Axes3D\n",
    "import matplotlib.pyplot as plt\n",
    "import matplotlib\n",
    "print(matplotlib.__version__)\n",
    "%matplotlib notebook\n",
    "\n",
    "points = []\n",
    "for _ in range(100):\n",
    "    p = sample_point_from_sum_prism(3, 1)\n",
    "    print(p)\n",
    "    points.append(p)\n",
    "    \n",
    "x, y, z = zip(*points)\n",
    "fig = plt.figure()\n",
    "ax = fig.add_subplot(111, projection='3d')\n",
    "ax.scatter(x, y, z)\n",
    "plt.show()"
   ]
  },
  {
   "cell_type": "code",
   "execution_count": null,
   "metadata": {
    "scrolled": false
   },
   "outputs": [],
   "source": [
    "points = sample_shifted_points_inside_sphere_with_constant_sum(\n",
    "    [100, 100, 100],\n",
    "    \n",
    ")"
   ]
  },
  {
   "cell_type": "code",
   "execution_count": 19,
   "metadata": {},
   "outputs": [
    {
     "name": "stdout",
     "output_type": "stream",
     "text": [
      "100.0\n"
     ]
    }
   ],
   "source": [
    "print(sum([9.346068550516723, -0.49577868439307227, 36.18069694773759, 54.96901318613876]))"
   ]
  },
  {
   "cell_type": "code",
   "execution_count": null,
   "metadata": {},
   "outputs": [],
   "source": [
    "%matplotlib inline\n",
    "import matplotlib.pyplot as plt\n",
    "\n",
    "psi_values = [sample_psi() for _ in range(100000)]\n",
    "plt.hist(psi_values, bins=1000)\n",
    "plt.show()"
   ]
  },
  {
   "cell_type": "code",
   "execution_count": 19,
   "metadata": {},
   "outputs": [
    {
     "data": {
      "image/png": "[encoded data removed]",
      "text/plain": [
       "<Figure size 432x288 with 1 Axes>"
      ]
     },
     "metadata": {
      "needs_background": "light"
     },
     "output_type": "display_data"
    }
   ],
   "source": [
    "import math\n",
    "\n",
    "%matplotlib inline\n",
    "import matplotlib.pyplot as plt\n",
    "\n",
    "\n",
    "range_ = [-math.pi / 2, math.pi / 2]\n",
    "d = (range_[1] - range_[0]) / 400\n",
    "x = [range_[0] + d * i for i in range(400)]\n",
    "y = [0.5 * (xx + 0.5*math.sin(2*xx)) for xx in x]\n",
    "\n",
    "plt.plot(x, y)\n",
    "plt.grid()\n",
    "plt.show()"
   ]
  },
  {
   "cell_type": "code",
   "execution_count": 12,
   "metadata": {},
   "outputs": [
    {
     "data": {
      "image/png": "[encoded data removed]",
      "text/plain": [
       "<Figure size 432x288 with 1 Axes>"
      ]
     },
     "metadata": {
      "needs_background": "light"
     },
     "output_type": "display_data"
    }
   ],
   "source": [
    "import math\n",
    "\n",
    "%matplotlib inline\n",
    "import matplotlib.pyplot as plt\n",
    "import numpy as np\n",
    "\n",
    "range_ = [-math.pi / 2, math.pi / 2]\n",
    "d = (range_[1] - range_[0]) / 400\n",
    "x = [range_[0] + d * i for i in range(400)]\n",
    "y = [-np.sin(xx) for xx in x]\n",
    "\n",
    "plt.plot(x, y)\n",
    "plt.grid()\n",
    "plt.show()"
   ]
  },
  {
   "cell_type": "code",
   "execution_count": 11,
   "metadata": {},
   "outputs": [
    {
     "data": {
      "image/png": "[encoded data removed]",
      "text/plain": [
       "<Figure size 432x288 with 1 Axes>"
      ]
     },
     "metadata": {
      "needs_background": "light"
     },
     "output_type": "display_data"
    }
   ],
   "source": [
    "%matplotlib inline\n",
    "import matplotlib.pyplot as plt\n",
    "\n",
    "theta_values = [sample_theta() for _ in range(10000)]\n",
    "plt.hist(theta_values, bins=1000)\n",
    "plt.show()"
   ]
  },
  {
   "cell_type": "code",
   "execution_count": 13,
   "metadata": {},
   "outputs": [
    {
     "data": {
      "image/png": "[encoded data removed]",
      "text/plain": [
       "<Figure size 432x288 with 1 Axes>"
      ]
     },
     "metadata": {
      "needs_background": "light"
     },
     "output_type": "display_data"
    }
   ],
   "source": [
    "import math\n",
    "\n",
    "%matplotlib inline\n",
    "import matplotlib.pyplot as plt\n",
    "import numpy as np\n",
    "\n",
    "range_ = [-math.pi / 2, math.pi / 2]\n",
    "d = (range_[1] - range_[0]) / 400\n",
    "x = [range_[0] + d * i for i in range(400)]\n",
    "y = [np.cos(xx) for xx in x]\n",
    "\n",
    "plt.plot(x, y)\n",
    "plt.grid()\n",
    "plt.show()"
   ]
  },
  {
   "cell_type": "code",
   "execution_count": 15,
   "metadata": {},
   "outputs": [
    {
     "data": {
      "image/png": "[encoded data removed]",
      "text/plain": [
       "<Figure size 432x288 with 1 Axes>"
      ]
     },
     "metadata": {
      "needs_background": "light"
     },
     "output_type": "display_data"
    }
   ],
   "source": [
    "import math\n",
    "\n",
    "%matplotlib inline\n",
    "import matplotlib.pyplot as plt\n",
    "import numpy as np\n",
    "\n",
    "range_ = [-math.pi / 2, math.pi / 2]\n",
    "d = (range_[1] - range_[0]) / 400\n",
    "x = [range_[0] + d * i for i in range(400)]\n",
    "y = [np.cos(xx)**2 for xx in x]\n",
    "\n",
    "plt.plot(x, y)\n",
    "plt.grid()\n",
    "plt.show()"
   ]
  },
  {
   "cell_type": "code",
   "execution_count": 16,
   "metadata": {},
   "outputs": [
    {
     "name": "stdout",
     "output_type": "stream",
     "text": [
      "0.0003801872953772545 0.00037553906440734863\n"
     ]
    }
   ],
   "source": [
    "import random\n",
    "import timeit\n",
    "\n",
    "t1 = timeit.timeit(\n",
    "    stmt=\"random.uniform(0,1)\",\n",
    "    number=1000,\n",
    "    globals=dict(random=random),\n",
    ")\n",
    "t2 = timeit.timeit(\n",
    "    stmt=\"random.uniform(0,100)\",\n",
    "    number=1000,\n",
    "    globals=dict(random=random),\n",
    ")\n",
    "print(t1, t2)"
   ]
  },
  {
   "cell_type": "code",
   "execution_count": 80,
   "metadata": {},
   "outputs": [
    {
     "name": "stdout",
     "output_type": "stream",
     "text": [
      "100\n",
      "[0, 1, 2, 3, 4, 5, 6, 7, 8, 9, 10, 11, 12, 13, 14, 15, 16, 17, 18, 19, 21, 23, 25, 27, 29, 31, 33, 35, 37, 40, 43, 46, 49, 52, 55, 58, 62, 66, 70, 74, 79, 84, 89, 94, 100, 106, 112, 119, 126, 133, 141, 149, 158, 167, 177, 187, 198, 209, 221, 234, 247, 261, 276, 292, 308, 325, 343, 362, 382, 403, 425, 449, 474, 500, 528, 557, 588, 621, 655, 691, 729, 769, 811, 856, 903, 953, 1005, 1060, 1118, 1179, 1244, 1312, 1384, 1460, 1540, 1624, 1713, 1807, 1906, 2000]\n"
     ]
    }
   ],
   "source": [
    "def log_net(start, end, factor):\n",
    "    net = []\n",
    "    while start < end:\n",
    "        net.append(start)\n",
    "        start *= factor\n",
    "        r_start = round(start)\n",
    "        if r_start <= start:\n",
    "            r_start = r_start+1\n",
    "        r_start = int(r_start)\n",
    "        start = r_start\n",
    "    net.append(end)\n",
    "    return net\n",
    "    \n",
    "    \n",
    "net = log_net(0, 2000, 1.0545)\n",
    "print(len(net))\n",
    "print(net)"
   ]
  },
  {
   "cell_type": "code",
   "execution_count": 9,
   "metadata": {
    "scrolled": false
   },
   "outputs": [
    {
     "name": "stdout",
     "output_type": "stream",
     "text": [
      "206\n"
     ]
    }
   ],
   "source": [
    "from learning_to_learn.controller import Controller\n",
    "\n",
    "spec = {\n",
    "    \"type\": \"logarithmic_truth\",\n",
    "    \"start\": 0,\n",
    "    \"factor\": 1.02,\n",
    "    \"end\": 1000,\n",
    "}\n",
    "\n",
    "storage = {'step': 0}\n",
    "\n",
    "controller = Controller(storage, spec)\n",
    "\n",
    "count = 0\n",
    "for _ in range(1000):\n",
    "    if controller.get():\n",
    "        count += 1\n",
    "        # print(storage['step'])\n",
    "    storage['step'] += 1\n",
    "print(count)"
   ]
  },
  {
   "cell_type": "code",
   "execution_count": 2,
   "metadata": {},
   "outputs": [
    {
     "name": "stdout",
     "output_type": "stream",
     "text": [
      "OrderedDict([('char encoder', [[0, 1, 2, 3, 4, 5, 6, 7, 8, 9, 10, 11, 12, 13, 14, 15, 16, 17, 18, 19, 20, 21, 22, 23, 24, 25, 26], [0.098, 0.158, 0.089, 0.22, 0.168, 0.128, 0.153, 0.066, 0.07, 0.106, 0.108, 0.0412, 0.042, 0.162, 0.066, 0.11, 0.064, 0.041, 0.053, 0.05, 0.042, 0.031, 0.0267, 0.0216, 0.0259, 0.0327, 0.031], [0.007, 0.007, 0.003, 0.01, 0.006, 0.008, 0.008, 0.003, 0.004, 0.005, 0.003, 0.0013, 0.002, 0.003, 0.003, 0.005, 0.003, 0.002, 0.002, 0.003, 0.003, 0.002, 0.0013, 0.0016, 0.0013, 0.0015, 0.002]]), ('char decoder', [[0, 1, 2, 3, 4, 5, 6, 7, 8, 9, 10, 11, 12, 13, 14, 15, 16, 17, 18, 19, 20, 21, 22, 23, 24, 25, 26], [0.118, 0.154, 0.088, 0.218, 0.13, 0.13, 0.13, 0.0548, 0.06, 0.088, 0.084, 0.06, 0.043, 0.15, 0.063, 0.067, 0.057, 0.043, 0.049, 0.049, 0.028, 0.036, 0.0195, 0.019, 0.024, 0.03, 0.038], [0.008, 0.005, 0.004, 0.015, 0.01, 0.01, 0.01, 0.0015, 0.005, 0.007, 0.006, 0.01, 0.002, 0.006, 0.005, 0.004, 0.003, 0.004, 0.004, 0.003, 0.002, 0.004, 0.0016, 0.002, 0.002, 0.003, 0.004]]), ('word encoder', [[0, 1, 2, 3, 4, 5, 6, 7, 8, 9, 10, 11, 12, 13, 14, 15, 16, 17, 18, 19, 20, 21, 22, 23, 24, 25, 26], [0.117, 0.17, 0.097, 0.226, 0.15, 0.16, 0.17, 0.069, 0.07, 0.093, 0.103, 0.0434, 0.0442, 0.153, 0.076, 0.089, 0.077, 0.054, 0.059, 0.054, 0.037, 0.037, 0.0272, 0.024, 0.03, 0.038, 0.038], [0.005, 0.01, 0.004, 0.008, 0.005, 0.01, 0.01, 0.004, 0.002, 0.004, 0.004, 0.0014, 0.0015, 0.008, 0.004, 0.007, 0.006, 0.003, 0.004, 0.004, 0.003, 0.003, 0.0014, 0.002, 0.002, 0.004, 0.002]]), ('word decoder', [[0, 1, 2, 3, 4, 5, 6, 7, 8, 9, 10, 11, 12, 13, 14, 15, 16, 17, 18, 19, 20, 21, 22, 23, 24, 25, 26], [0.111, 0.12, 0.094, 0.133, 0.13, 0.16, 0.15, 0.077, 0.065, 0.09, 0.07, 0.075, 0.041, 0.087, 0.05, 0.062, 0.057, 0.054, 0.07, 0.05, 0.035, 0.042, 0.029, 0.02, 0.035, 0.043, 0.048], [0.005, 0.01, 0.005, 0.016, 0.02, 0.02, 0.01, 0.005, 0.005, 0.007, 0.01, 0.008, 0.004, 0.006, 0.01, 0.008, 0.008, 0.007, 0.01, 0.01, 0.003, 0.006, 0.003, 0.002, 0.003, 0.006, 0.006]])])\n"
     ]
    }
   ],
   "source": [
    "from collections import OrderedDict\n",
    "\n",
    "\n",
    "def parse_pos_corr_table(table_file_name, layer_names):\n",
    "    with open(table_file_name) as f:\n",
    "        table_text = f.read()\n",
    "    text_by_tags = table_text.split('\\n')\n",
    "    text_by_tags = [line for line in text_by_tags if line]\n",
    "    data = OrderedDict(zip(layer_names, [[[], [], []] for _ in layer_names]))\n",
    "    for i, line in enumerate(text_by_tags):\n",
    "        values_and_errors = line.split(';')\n",
    "        for layer_name, vne in zip(layer_names, values_and_errors):\n",
    "            v, e = vne.split(' ± ')\n",
    "            v = float(v)\n",
    "            e = float(e)\n",
    "            data[layer_name][0].append(i)\n",
    "            data[layer_name][1].append(v)\n",
    "            data[layer_name][2].append(e)\n",
    "    return data\n",
    "\n",
    "\n",
    "data = parse_pos_corr_table(\n",
    "    'expres/resrnn/poscorr/4/tables/table.csv',\n",
    "    ['char encoder', 'char decoder', 'word encoder', 'word decoder'],\n",
    ")\n",
    "print(data)"
   ]
  },
  {
   "cell_type": "code",
   "execution_count": 30,
   "metadata": {
    "scrolled": false
   },
   "outputs": [
    {
     "data": {
      "image/png": "[encoded data removed]",
      "text/plain": [
       "<Figure size 1114.84x381.457 with 2 Axes>"
      ]
     },
     "metadata": {
      "needs_background": "light"
     },
     "output_type": "display_data"
    }
   ],
   "source": [
    "%matplotlib inline\n",
    "import matplotlib.pyplot as plt\n",
    "\n",
    "\n",
    "def set_size(w,h, ax=None):\n",
    "    \"\"\" w, h: width, height in inches \"\"\"\n",
    "    if not ax: ax=plt.gca()\n",
    "    l = ax.figure.subplotpars.left\n",
    "    r = ax.figure.subplotpars.right\n",
    "    t = ax.figure.subplotpars.top\n",
    "    b = ax.figure.subplotpars.bottom\n",
    "    figw = float(w)/(r-l)\n",
    "    figh = float(h)/(t-b)\n",
    "    ax.figure.set_size_inches(figw, figh)\n",
    "\n",
    "\n",
    "def mark_x_axis(tags):\n",
    "    n = len(tags)\n",
    "    plt.xticks(range(n))\n",
    "    set_size(12, 4)\n",
    "    plt.gca().set_xticklabels(tags)\n",
    "\n",
    "\n",
    "def read_tags(tag_file_name):\n",
    "    with open(tag_file_name) as f:\n",
    "        tags = f.readlines()\n",
    "    return [t.strip() for t in tags]\n",
    "\n",
    "\n",
    "def add_upper_x_axis(upper_tags):\n",
    "    xlim = plt.xlim()\n",
    "    secax = plt.twiny()\n",
    "    secax.set_xlim(*xlim)\n",
    "    secax.set_xticks(range(len(upper_tags)))\n",
    "    secax.set_xticklabels(upper_tags, rotation='vertical')\n",
    "\n",
    "\n",
    "def tag_plot(data, tags, colors, markers, xlabel, ylabel, upper_tags=None):\n",
    "    _, ax = plt.subplots()\n",
    "    for (label, dt), color, mk in zip(data.items(), colors, markers):\n",
    "        ax.errorbar(dt[0], dt[1], yerr=dt[2], color=color, marker=mk, label=label, linestyle=' ')\n",
    "    mark_x_axis(tags)\n",
    "    ax.set_xlabel(xlabel)\n",
    "    ax.set_ylabel(ylabel)\n",
    "    if upper_tags is not None:\n",
    "        add_upper_x_axis(upper_tags)\n",
    "    ax.grid()\n",
    "    ax.legend(loc='best')\n",
    "\n",
    "\n",
    "tags = read_tags('dataset_tags/text8_first6.4e5_tags.txt')\n",
    "upper_tags = read_tags('dataset_tags/text8_first6.4e5_tag_description.txt')\n",
    "n = len(data['char encoder'][0])\n",
    "tag_plot(\n",
    "    data,\n",
    "    tags[:n],\n",
    "    ['red', 'green', 'blue', 'black'],\n",
    "    ['o', 'o', 'o', 'o'],\n",
    "    'part of speech',\n",
    "    'correlation',\n",
    "    upper_tags=upper_tags[:n],\n",
    ")\n",
    "plt.show()\n"
   ]
  },
  {
   "cell_type": "code",
   "execution_count": 12,
   "metadata": {},
   "outputs": [
    {
     "name": "stdout",
     "output_type": "stream",
     "text": [
      "Requirement already up-to-date: matplotlib in /home/anton/dpenv/lib/python3.6/site-packages (3.1.1)\n",
      "Requirement already satisfied, skipping upgrade: python-dateutil>=2.1 in /home/anton/dpenv/lib/python3.6/site-packages (from matplotlib) (2.7.3)\n",
      "Requirement already satisfied, skipping upgrade: kiwisolver>=1.0.1 in /home/anton/dpenv/lib/python3.6/site-packages (from matplotlib) (1.0.1)\n",
      "Requirement already satisfied, skipping upgrade: cycler>=0.10 in /home/anton/dpenv/lib/python3.6/site-packages (from matplotlib) (0.10.0)\n",
      "Requirement already satisfied, skipping upgrade: numpy>=1.11 in /home/anton/dpenv/lib/python3.6/site-packages (from matplotlib) (1.16.4)\n",
      "Requirement already satisfied, skipping upgrade: pyparsing!=2.0.4,!=2.1.2,!=2.1.6,>=2.0.1 in /home/anton/dpenv/lib/python3.6/site-packages (from matplotlib) (2.2.2)\n",
      "Requirement already satisfied, skipping upgrade: six>=1.5 in /home/anton/dpenv/lib/python3.6/site-packages (from python-dateutil>=2.1->matplotlib) (1.11.0)\n",
      "Requirement already satisfied, skipping upgrade: setuptools in /home/anton/dpenv/lib/python3.6/site-packages (from kiwisolver>=1.0.1->matplotlib) (39.1.0)\n",
      "\u001b[33mWARNING: You are using pip version 19.1.1, however version 19.2.2 is available.\n",
      "You should consider upgrading via the 'pip install --upgrade pip' command.\u001b[0m\n"
     ]
    }
   ],
   "source": [
    "!python3.6 -m pip install --upgrade matplotlib"
   ]
  },
  {
   "cell_type": "code",
   "execution_count": 1,
   "metadata": {},
   "outputs": [
    {
     "name": "stdout",
     "output_type": "stream",
     "text": [
      "3.0.3\n",
      "<class 'matplotlib.axes._subplots.AxesSubplot'>\n"
     ]
    }
   ],
   "source": [
    "import matplotlib as mpl\n",
    "import matplotlib.pyplot as plt\n",
    "\n",
    "print(mpl.__version__)\n",
    "fig, ax = plt.subplots()\n",
    "print(type(ax))\n",
    "attributes = dir(ax)\n",
    "for m in attributes:\n",
    "    if 'secondary' in m:\n",
    "        print(m)"
   ]
  },
  {
   "cell_type": "code",
   "execution_count": 22,
   "metadata": {
    "scrolled": false
   },
   "outputs": [
    {
     "name": "stdout",
     "output_type": "stream",
     "text": [
      "Help on class list in module builtins:\n",
      "\n",
      "class list(object)\n",
      " |  list() -> new empty list\n",
      " |  list(iterable) -> new list initialized from iterable's items\n",
      " |  \n",
      " |  Methods defined here:\n",
      " |  \n",
      " |  __add__(self, value, /)\n",
      " |      Return self+value.\n",
      " |  \n",
      " |  __contains__(self, key, /)\n",
      " |      Return key in self.\n",
      " |  \n",
      " |  __delitem__(self, key, /)\n",
      " |      Delete self[key].\n",
      " |  \n",
      " |  __eq__(self, value, /)\n",
      " |      Return self==value.\n",
      " |  \n",
      " |  __ge__(self, value, /)\n",
      " |      Return self>=value.\n",
      " |  \n",
      " |  __getattribute__(self, name, /)\n",
      " |      Return getattr(self, name).\n",
      " |  \n",
      " |  __getitem__(...)\n",
      " |      x.__getitem__(y) <==> x[y]\n",
      " |  \n",
      " |  __gt__(self, value, /)\n",
      " |      Return self>value.\n",
      " |  \n",
      " |  __iadd__(self, value, /)\n",
      " |      Implement self+=value.\n",
      " |  \n",
      " |  __imul__(self, value, /)\n",
      " |      Implement self*=value.\n",
      " |  \n",
      " |  __init__(self, /, *args, **kwargs)\n",
      " |      Initialize self.  See help(type(self)) for accurate signature.\n",
      " |  \n",
      " |  __iter__(self, /)\n",
      " |      Implement iter(self).\n",
      " |  \n",
      " |  __le__(self, value, /)\n",
      " |      Return self<=value.\n",
      " |  \n",
      " |  __len__(self, /)\n",
      " |      Return len(self).\n",
      " |  \n",
      " |  __lt__(self, value, /)\n",
      " |      Return self<value.\n",
      " |  \n",
      " |  __mul__(self, value, /)\n",
      " |      Return self*value.n\n",
      " |  \n",
      " |  __ne__(self, value, /)\n",
      " |      Return self!=value.\n",
      " |  \n",
      " |  __new__(*args, **kwargs) from builtins.type\n",
      " |      Create and return a new object.  See help(type) for accurate signature.\n",
      " |  \n",
      " |  __repr__(self, /)\n",
      " |      Return repr(self).\n",
      " |  \n",
      " |  __reversed__(...)\n",
      " |      L.__reversed__() -- return a reverse iterator over the list\n",
      " |  \n",
      " |  __rmul__(self, value, /)\n",
      " |      Return self*value.\n",
      " |  \n",
      " |  __setitem__(self, key, value, /)\n",
      " |      Set self[key] to value.\n",
      " |  \n",
      " |  __sizeof__(...)\n",
      " |      L.__sizeof__() -- size of L in memory, in bytes\n",
      " |  \n",
      " |  append(...)\n",
      " |      L.append(object) -> None -- append object to end\n",
      " |  \n",
      " |  clear(...)\n",
      " |      L.clear() -> None -- remove all items from L\n",
      " |  \n",
      " |  copy(...)\n",
      " |      L.copy() -> list -- a shallow copy of L\n",
      " |  \n",
      " |  count(...)\n",
      " |      L.count(value) -> integer -- return number of occurrences of value\n",
      " |  \n",
      " |  extend(...)\n",
      " |      L.extend(iterable) -> None -- extend list by appending elements from the iterable\n",
      " |  \n",
      " |  index(...)\n",
      " |      L.index(value, [start, [stop]]) -> integer -- return first index of value.\n",
      " |      Raises ValueError if the value is not present.\n",
      " |  \n",
      " |  insert(...)\n",
      " |      L.insert(index, object) -- insert object before index\n",
      " |  \n",
      " |  pop(...)\n",
      " |      L.pop([index]) -> item -- remove and return item at index (default last).\n",
      " |      Raises IndexError if list is empty or index is out of range.\n",
      " |  \n",
      " |  remove(...)\n",
      " |      L.remove(value) -> None -- remove first occurrence of value.\n",
      " |      Raises ValueError if the value is not present.\n",
      " |  \n",
      " |  reverse(...)\n",
      " |      L.reverse() -- reverse *IN PLACE*\n",
      " |  \n",
      " |  sort(...)\n",
      " |      L.sort(key=None, reverse=False) -> None -- stable sort *IN PLACE*\n",
      " |  \n",
      " |  ----------------------------------------------------------------------\n",
      " |  Data and other attributes defined here:\n",
      " |  \n",
      " |  __hash__ = None\n",
      "\n"
     ]
    }
   ],
   "source": [
    "help(list)"
   ]
  }
 ],
 "metadata": {
  "kernelspec": {
   "display_name": "Python 3",
   "language": "python",
   "name": "python3"
  },
  "language_info": {
   "codemirror_mode": {
    "name": "ipython",
    "version": 3
   },
   "file_extension": ".py",
   "mimetype": "text/x-python",
   "name": "python",
   "nbconvert_exporter": "python",
   "pygments_lexer": "ipython3",
   "version": "3.6.0"
  }
 },
 "nbformat": 4,
 "nbformat_minor": 1
}
